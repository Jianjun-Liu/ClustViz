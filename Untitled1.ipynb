{
 "cells": [
  {
   "cell_type": "code",
   "execution_count": 7,
   "metadata": {
    "ExecuteTime": {
     "end_time": "2019-12-03T10:47:08.137175Z",
     "start_time": "2019-12-03T10:47:07.765117Z"
    }
   },
   "outputs": [
    {
     "data": {
      "image/png": "[encoded data removed]",
      "text/plain": [
       "<Figure size 432x288 with 1 Axes>"
      ]
     },
     "metadata": {
      "needs_background": "light"
     },
     "output_type": "display_data"
    }
   ],
   "source": [
    "from scipy.cluster import hierarchy\n",
    "import matplotlib.pyplot as plt\n",
    "import numpy as np\n",
    "import pandas as pd\n",
    "\n",
    "\n",
    "df = pd.read_csv('algorithms/chameleon/datasets/Aggregation.csv', sep=' ', header=None)\n",
    "ytdist = np.array([662., 877., 255., 412., 996., 295., 468., 268.,\n",
    "                   400., 754., 564., 138., 219., 869., 669.])\n",
    "Z = hierarchy.linkage(df.iloc[:30,:], 'single')\n",
    "plt.figure()\n",
    "dn = hierarchy.dendrogram(Z)\n",
    "plt.show()\n"
   ]
  },
  {
   "cell_type": "code",
   "execution_count": 8,
   "metadata": {
    "ExecuteTime": {
     "end_time": "2019-12-03T10:47:11.448994Z",
     "start_time": "2019-12-03T10:47:11.437683Z"
    }
   },
   "outputs": [
    {
     "data": {
      "text/plain": [
       "array([[11.        , 12.        ,  0.26925824,  2.        ],\n",
       "       [25.        , 26.        ,  0.46097722,  2.        ],\n",
       "       [ 2.        ,  3.        ,  0.54083269,  2.        ],\n",
       "       [27.        , 29.        ,  0.55      ,  2.        ],\n",
       "       [14.        , 15.        ,  0.55226805,  2.        ],\n",
       "       [10.        , 30.        ,  0.55901699,  3.        ],\n",
       "       [ 4.        ,  5.        ,  0.56568542,  2.        ],\n",
       "       [19.        , 20.        ,  0.58309519,  2.        ],\n",
       "       [17.        , 37.        ,  0.60827625,  3.        ],\n",
       "       [ 7.        , 36.        ,  0.6264982 ,  3.        ],\n",
       "       [ 9.        , 35.        ,  0.64031242,  4.        ],\n",
       "       [39.        , 40.        ,  0.6670832 ,  7.        ],\n",
       "       [16.        , 31.        ,  0.6670832 ,  3.        ],\n",
       "       [23.        , 38.        ,  0.6726812 ,  4.        ],\n",
       "       [21.        , 43.        ,  0.69641941,  5.        ],\n",
       "       [ 8.        , 34.        ,  0.7       ,  3.        ],\n",
       "       [42.        , 44.        ,  0.72111026,  8.        ],\n",
       "       [18.        , 46.        ,  0.72801099,  9.        ],\n",
       "       [32.        , 41.        ,  0.76157731,  9.        ],\n",
       "       [ 6.        , 48.        ,  0.78262379, 10.        ],\n",
       "       [28.        , 33.        ,  0.83216585,  3.        ],\n",
       "       [22.        , 47.        ,  0.85586214, 10.        ],\n",
       "       [45.        , 49.        ,  0.85586214, 13.        ],\n",
       "       [24.        , 51.        ,  0.86023253, 11.        ],\n",
       "       [50.        , 53.        ,  0.90138782, 14.        ],\n",
       "       [ 1.        , 52.        ,  0.91787799, 14.        ],\n",
       "       [13.        , 55.        ,  0.9617692 , 15.        ],\n",
       "       [54.        , 56.        ,  1.01242284, 29.        ],\n",
       "       [ 0.        , 57.        ,  1.14017543, 30.        ]])"
      ]
     },
     "execution_count": 8,
     "metadata": {},
     "output_type": "execute_result"
    }
   ],
   "source": [
    "Z #fist branc, second branch, height, tot num of elements"
   ]
  },
  {
   "cell_type": "code",
   "execution_count": 4,
   "metadata": {
    "ExecuteTime": {
     "end_time": "2019-12-03T10:46:52.133615Z",
     "start_time": "2019-12-03T10:46:52.115648Z"
    }
   },
   "outputs": [
    {
     "data": {
      "text/html": [
       "<div>\n",
       "<style scoped>\n",
       "    .dataframe tbody tr th:only-of-type {\n",
       "        vertical-align: middle;\n",
       "    }\n",
       "\n",
       "    .dataframe tbody tr th {\n",
       "        vertical-align: top;\n",
       "    }\n",
       "\n",
       "    .dataframe thead th {\n",
       "        text-align: right;\n",
       "    }\n",
       "</style>\n",
       "<table border=\"1\" class=\"dataframe\">\n",
       "  <thead>\n",
       "    <tr style=\"text-align: right;\">\n",
       "      <th></th>\n",
       "      <th>0</th>\n",
       "      <th>1</th>\n",
       "    </tr>\n",
       "  </thead>\n",
       "  <tbody>\n",
       "    <tr>\n",
       "      <td>0</td>\n",
       "      <td>15.55</td>\n",
       "      <td>28.65</td>\n",
       "    </tr>\n",
       "    <tr>\n",
       "      <td>1</td>\n",
       "      <td>14.90</td>\n",
       "      <td>27.55</td>\n",
       "    </tr>\n",
       "    <tr>\n",
       "      <td>2</td>\n",
       "      <td>14.45</td>\n",
       "      <td>28.35</td>\n",
       "    </tr>\n",
       "    <tr>\n",
       "      <td>3</td>\n",
       "      <td>14.15</td>\n",
       "      <td>28.80</td>\n",
       "    </tr>\n",
       "    <tr>\n",
       "      <td>4</td>\n",
       "      <td>13.75</td>\n",
       "      <td>28.05</td>\n",
       "    </tr>\n",
       "    <tr>\n",
       "      <td>...</td>\n",
       "      <td>...</td>\n",
       "      <td>...</td>\n",
       "    </tr>\n",
       "    <tr>\n",
       "      <td>95</td>\n",
       "      <td>6.55</td>\n",
       "      <td>21.15</td>\n",
       "    </tr>\n",
       "    <tr>\n",
       "      <td>96</td>\n",
       "      <td>7.45</td>\n",
       "      <td>21.95</td>\n",
       "    </tr>\n",
       "    <tr>\n",
       "      <td>97</td>\n",
       "      <td>7.40</td>\n",
       "      <td>21.55</td>\n",
       "    </tr>\n",
       "    <tr>\n",
       "      <td>98</td>\n",
       "      <td>7.75</td>\n",
       "      <td>21.20</td>\n",
       "    </tr>\n",
       "    <tr>\n",
       "      <td>99</td>\n",
       "      <td>7.65</td>\n",
       "      <td>20.65</td>\n",
       "    </tr>\n",
       "  </tbody>\n",
       "</table>\n",
       "<p>100 rows × 2 columns</p>\n",
       "</div>"
      ],
      "text/plain": [
       "        0      1\n",
       "0   15.55  28.65\n",
       "1   14.90  27.55\n",
       "2   14.45  28.35\n",
       "3   14.15  28.80\n",
       "4   13.75  28.05\n",
       "..    ...    ...\n",
       "95   6.55  21.15\n",
       "96   7.45  21.95\n",
       "97   7.40  21.55\n",
       "98   7.75  21.20\n",
       "99   7.65  20.65\n",
       "\n",
       "[100 rows x 2 columns]"
      ]
     },
     "execution_count": 4,
     "metadata": {},
     "output_type": "execute_result"
    }
   ],
   "source": [
    "df.iloc[:100,:]"
   ]
  }
 ],
 "metadata": {
  "kernelspec": {
   "display_name": "Python 3",
   "language": "python",
   "name": "python3"
  },
  "language_info": {
   "codemirror_mode": {
    "name": "ipython",
    "version": 3
   },
   "file_extension": ".py",
   "mimetype": "text/x-python",
   "name": "python",
   "nbconvert_exporter": "python",
   "pygments_lexer": "ipython3",
   "version": "3.6.5"
  },
  "toc": {
   "base_numbering": 1,
   "nav_menu": {},
   "number_sections": true,
   "sideBar": true,
   "skip_h1_title": false,
   "title_cell": "Table of Contents",
   "title_sidebar": "Contents",
   "toc_cell": false,
   "toc_position": {},
   "toc_section_display": true,
   "toc_window_display": false
  }
 },
 "nbformat": 4,
 "nbformat_minor": 2
}
