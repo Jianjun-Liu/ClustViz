{
 "cells": [
  {
   "cell_type": "code",
   "execution_count": 1,
   "metadata": {
    "ExecuteTime": {
     "end_time": "2019-11-26T14:31:50.375221Z",
     "start_time": "2019-11-26T14:31:50.365517Z"
    }
   },
   "outputs": [
    {
     "name": "stdout",
     "output_type": "stream",
     "text": [
      "Random number with seed 30\n",
      "first -  42\n",
      "Second -  42\n",
      "Third -  42\n"
     ]
    }
   ],
   "source": [
    "import random\n",
    "\n",
    "print (\"Random number with seed 30\")\n",
    "random.seed( 30 )\n",
    "print (\"first - \", random.randint(25,50))\n",
    "\n",
    "#will generate a same random number as previous\n",
    "random.seed( 30 )\n",
    "print (\"Second - \", random.randint(25,50))\n",
    "\n",
    "#will generate a same random number as previous\n",
    "random.seed( 30 )\n",
    "print (\"Third - \", random.randint(25,50))"
   ]
  },
  {
   "cell_type": "code",
   "execution_count": 4,
   "metadata": {
    "ExecuteTime": {
     "end_time": "2019-11-26T14:49:58.232291Z",
     "start_time": "2019-11-26T14:49:58.225984Z"
    }
   },
   "outputs": [],
   "source": [
    "a = {7: [0, 1, 2, 5, 7, 8, 9, 11, 14, 17, 25, 31, 35], 13: [4, 6, 12, 13, 16, 18, 21, 22, 23, 28, 30, 33, 38, 39], 32: [3, 10, 15, 19, 20, 24, 26, 27, 29, 32, 34, 36, 37]}"
   ]
  },
  {
   "cell_type": "code",
   "execution_count": 3,
   "metadata": {
    "ExecuteTime": {
     "end_time": "2019-11-26T14:49:45.020196Z",
     "start_time": "2019-11-26T14:49:45.015752Z"
    }
   },
   "outputs": [],
   "source": [
    "import pprint"
   ]
  },
  {
   "cell_type": "code",
   "execution_count": 11,
   "metadata": {
    "ExecuteTime": {
     "end_time": "2019-11-26T14:50:31.312695Z",
     "start_time": "2019-11-26T14:50:31.306240Z"
    }
   },
   "outputs": [
    {
     "name": "stdout",
     "output_type": "stream",
     "text": [
      "{ 7: [0, 1, 2, 5, 7, 8, 9, 11, 14, 17, 25, 31, 35],\n",
      "  13: [4, 6, 12, 13, 16, 18, 21, 22, 23, 28, 30, 33, 38, 39],\n",
      "  32: [3, 10, 15, 19, 20, 24, 26, 27, 29, 32, 34, 36, 37]}\n"
     ]
    }
   ],
   "source": [
    "pprint.PrettyPrinter(indent=2).pprint(a)"
   ]
  },
  {
   "cell_type": "code",
   "execution_count": null,
   "metadata": {},
   "outputs": [],
   "source": []
  }
 ],
 "metadata": {
  "kernelspec": {
   "display_name": "Python 3",
   "language": "python",
   "name": "python3"
  },
  "language_info": {
   "codemirror_mode": {
    "name": "ipython",
    "version": 3
   },
   "file_extension": ".py",
   "mimetype": "text/x-python",
   "name": "python",
   "nbconvert_exporter": "python",
   "pygments_lexer": "ipython3",
   "version": "3.6.5"
  },
  "toc": {
   "base_numbering": 1,
   "nav_menu": {},
   "number_sections": true,
   "sideBar": true,
   "skip_h1_title": false,
   "title_cell": "Table of Contents",
   "title_sidebar": "Contents",
   "toc_cell": false,
   "toc_position": {},
   "toc_section_display": true,
   "toc_window_display": false
  }
 },
 "nbformat": 4,
 "nbformat_minor": 2
}
