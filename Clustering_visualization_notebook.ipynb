{
 "cells": [
  {
   "cell_type": "markdown",
   "metadata": {
    "heading_collapsed": true
   },
   "source": [
    "# Importing"
   ]
  },
  {
   "cell_type": "code",
   "execution_count": 15,
   "metadata": {
    "ExecuteTime": {
     "end_time": "2019-11-25T17:45:53.588861Z",
     "start_time": "2019-11-25T17:45:53.577475Z"
    },
    "hidden": true
   },
   "outputs": [],
   "source": [
    "import pandas as pd\n",
    "import numpy as np\n",
    "import matplotlib.pyplot as plt\n",
    "import seaborn as sns\n",
    "import random\n",
    "import math\n",
    "import sklearn\n",
    "import scipy\n",
    "from sklearn.datasets.samples_generator import make_blobs, make_moons, make_circles\n",
    "from collections import OrderedDict, Counter\n",
    "from copy import deepcopy\n",
    "import graphviz\n",
    "from IPython.display import display"
   ]
  },
  {
   "cell_type": "code",
   "execution_count": 2,
   "metadata": {
    "ExecuteTime": {
     "end_time": "2019-11-25T17:36:47.041822Z",
     "start_time": "2019-11-25T17:36:46.987667Z"
    },
    "hidden": true
   },
   "outputs": [],
   "source": [
    "from pyclustering.cluster.birch import birch, measurement_type\n",
    "from pyclustering.cluster import cluster_visualizer"
   ]
  },
  {
   "cell_type": "code",
   "execution_count": 3,
   "metadata": {
    "ExecuteTime": {
     "end_time": "2019-11-25T17:36:48.430544Z",
     "start_time": "2019-11-25T17:36:47.047799Z"
    },
    "hidden": true
   },
   "outputs": [],
   "source": [
    "import hdbscan\n",
    "from sklearn.neighbors import NearestNeighbors\n",
    "from sklearn.cluster import SpectralClustering, KMeans, AgglomerativeClustering, Birch\n",
    "from sklearn.metrics import pairwise_distances\n",
    "from scipy.cluster.hierarchy import dendrogram, linkage\n",
    "from matplotlib.patches import Rectangle\n",
    "import networkx as nx\n",
    "from mpl_toolkits.mplot3d import Axes3D \n",
    "from scipy import ndimage"
   ]
  },
  {
   "cell_type": "code",
   "execution_count": 4,
   "metadata": {
    "ExecuteTime": {
     "end_time": "2019-11-25T17:36:48.452589Z",
     "start_time": "2019-11-25T17:36:48.433848Z"
    },
    "hidden": true
   },
   "outputs": [],
   "source": [
    "# import jtplot module in notebook\n",
    "from jupyterthemes import jtplot\n",
    "#! jt -t oceans16 -tf merriserif -tfs 10 -nf ptsans -nfs 13 -T -N -kl -m 90\n",
    "\n",
    "# choose which theme to inherit plotting style from\n",
    "# onedork | grade3 | oceans16 | chesterish | monokai | solarizedl | solarizedd\n",
    "#jtplot.style(theme='monokai')\n",
    "#jtplot.style(ticks=True, grid=False)\n",
    "jtplot.reset()"
   ]
  },
  {
   "cell_type": "code",
   "execution_count": 5,
   "metadata": {
    "ExecuteTime": {
     "end_time": "2019-11-25T17:36:48.467304Z",
     "start_time": "2019-11-25T17:36:48.461228Z"
    },
    "hidden": true
   },
   "outputs": [],
   "source": [
    "import warnings\n",
    "warnings.filterwarnings(\"ignore\") "
   ]
  },
  {
   "cell_type": "markdown",
   "metadata": {
    "heading_collapsed": true
   },
   "source": [
    "# Generating Dataset"
   ]
  },
  {
   "cell_type": "code",
   "execution_count": 5,
   "metadata": {
    "ExecuteTime": {
     "end_time": "2019-11-24T11:32:02.727975Z",
     "start_time": "2019-11-24T11:32:02.711139Z"
    },
    "hidden": true
   },
   "outputs": [],
   "source": [
    "# generate 2d classification dataset\n",
    "X, y = make_blobs(n_samples=80, centers=4, n_features=2, cluster_std=1.8, random_state=42)\n",
    "\n",
    "# scatter plot, dots colored by class value\n",
    "#df = pd.DataFrame(dict(x=X[:,0], y=X[:,1], label=y))\n",
    "#colors = {0:'red', 1:'blue', 2:'green', 3:'yellow'}\n",
    "#fig, ax = plt.subplots(figsize=(12,4))\n",
    "#grouped = df.groupby('label')\n",
    "#for key, group in grouped:\n",
    "#    group.plot(ax=ax, kind='scatter', x='x', y='y', label=key, color=colors[key], s=50, edgecolor=\"black\")\n",
    "#plt.show()"
   ]
  },
  {
   "cell_type": "code",
   "execution_count": 6,
   "metadata": {
    "ExecuteTime": {
     "end_time": "2019-11-24T11:32:03.149422Z",
     "start_time": "2019-11-24T11:32:03.137378Z"
    },
    "hidden": true
   },
   "outputs": [],
   "source": [
    "# generate 2d classification dataset\n",
    "X, y = make_moons(n_samples=80, noise=0.05, random_state=42)\n",
    "\n",
    "# scatter plot, dots colored by class value\n",
    "#df = pd.DataFrame(dict(x=X[:,0], y=X[:,1], label=y))\n",
    "#colors = {0:'red', 1:'blue', 2:'green', 3:'yellow'}\n",
    "#fig, ax = plt.subplots(figsize=(12,4))\n",
    "#grouped = df.groupby('label')\n",
    "#for key, group in grouped:\n",
    "#    group.plot(ax=ax, kind='scatter', x='x', y='y', label=key, color=colors[key], s=50, edgecolor=\"black\")\n",
    "#plt.show()"
   ]
  },
  {
   "cell_type": "code",
   "execution_count": 91,
   "metadata": {
    "ExecuteTime": {
     "end_time": "2019-11-24T12:47:40.504947Z",
     "start_time": "2019-11-24T12:47:40.259213Z"
    },
    "hidden": true
   },
   "outputs": [
    {
     "data": {
      "image/png": "[encoded data removed]",
      "text/plain": [
       "<Figure size 640x480 with 1 Axes>"
      ]
     },
     "metadata": {},
     "output_type": "display_data"
    }
   ],
   "source": [
    "varied = make_blobs(n_samples=15,\n",
    "                             cluster_std=[2.0, 2.0, 2.0],\n",
    "                             random_state=42)[0]\n",
    "plt.scatter(varied[:,0], varied[:,1])\n",
    "#plt.gcf().gca().add_artist(plt.Circle((-5, 0), 5, color=\"red\", fill=False, linewidth=3, alpha=0.7))\n",
    "plt.show()"
   ]
  },
  {
   "cell_type": "markdown",
   "metadata": {
    "heading_collapsed": true
   },
   "source": [
    "# OPTICS"
   ]
  },
  {
   "cell_type": "markdown",
   "metadata": {
    "hidden": true
   },
   "source": [
    "Cluster analysis method based on the OPTICS algorithm. OPTICS computes an augmented cluster-ordering of the database objects. The main advantage of our approach, when compared to the clustering algorithms proposed in the literature, is that we do not limit ourselves to one global parameter setting. Instead, the augmented cluster-ordering contains information which is equivalent to the density-based clusterings corresponding to a broad range of parameter settings and thus is a versatile basis for both automatic and interactive cluster analysis."
   ]
  },
  {
   "cell_type": "markdown",
   "metadata": {
    "heading_collapsed": true,
    "hidden": true
   },
   "source": [
    "## Functions"
   ]
  },
  {
   "cell_type": "code",
   "execution_count": 8,
   "metadata": {
    "ExecuteTime": {
     "end_time": "2019-11-25T17:32:58.738731Z",
     "start_time": "2019-11-25T17:32:58.726968Z"
    },
    "hidden": true
   },
   "outputs": [],
   "source": [
    "def point_plot(X_dict, x,y, eps, processed=None, col='yellow'):\n",
    "    \n",
    "    fig, ax = plt.subplots(figsize=(14,6))\n",
    "    \n",
    "    plt.scatter(X[:,0], X[:,1], s=300, color=\"lime\", edgecolor=\"black\")\n",
    "    \n",
    "    if processed is not None:\n",
    "        for i in processed:\n",
    "            plt.scatter(X_dict[i][0],X_dict[i][1], color=col, s=300 )\n",
    "    \n",
    "    plt.scatter(x=x,y=y,s=400, color=\"black\", alpha=0.4)\n",
    "    \n",
    "    circle1 = plt.Circle((x, y), eps, color='r', fill=False, linewidth=3, alpha=0.7)\n",
    "    plt.gcf().gca().add_artist(circle1)\n",
    "    \n",
    "    xmin, xmax, ymin, ymax = plt.axis()\n",
    "    xwidth = xmax - xmin\n",
    "    ywidth = ymax - ymin\n",
    "    \n",
    "    xw1 = xwidth*0.008\n",
    "    yw1 = ywidth*0.01\n",
    "    \n",
    "    xw2 = xwidth*0.005\n",
    "    yw2 = ywidth*0.01\n",
    "\n",
    "    for i, txt in enumerate([i for i in range(len(X))]):\n",
    "        if len(str(txt))==2:\n",
    "            ax.annotate(txt, (X[:,0][i]-xw1, X[:,1][i]-yw1), fontsize=12, size=12)\n",
    "        else:\n",
    "            ax.annotate(txt, (X[:,0][i]-xw2, X[:,1][i]-yw2), fontsize=12, size=12)\n",
    "    \n",
    "    plt.show()"
   ]
  },
  {
   "cell_type": "code",
   "execution_count": 9,
   "metadata": {
    "ExecuteTime": {
     "end_time": "2019-11-25T17:32:58.916839Z",
     "start_time": "2019-11-25T17:32:58.913651Z"
    },
    "hidden": true
   },
   "outputs": [],
   "source": [
    "#point_plot(dict(zip([str(i) for i in range(len(X))], X)), X[0,0], X[0,1], eps=0.3)"
   ]
  },
  {
   "cell_type": "code",
   "execution_count": 10,
   "metadata": {
    "ExecuteTime": {
     "end_time": "2019-11-25T17:32:59.094520Z",
     "start_time": "2019-11-25T17:32:59.087697Z"
    },
    "hidden": true
   },
   "outputs": [],
   "source": [
    "# original euclidean distance\n",
    "def dist1(x,y):   \n",
    "    return np.sqrt(np.sum((x-y)**2))"
   ]
  },
  {
   "cell_type": "code",
   "execution_count": 11,
   "metadata": {
    "ExecuteTime": {
     "end_time": "2019-11-25T17:32:59.229902Z",
     "start_time": "2019-11-25T17:32:59.226359Z"
    },
    "hidden": true
   },
   "outputs": [],
   "source": [
    "# euclidean distance which takes keys of a dictionary (X_dict) as inputs\n",
    "def dist2(data, x,y):   \n",
    "    return np.sqrt(np.sum((data[x]-data[y])**2))"
   ]
  },
  {
   "cell_type": "code",
   "execution_count": 12,
   "metadata": {
    "ExecuteTime": {
     "end_time": "2019-11-25T17:32:59.333339Z",
     "start_time": "2019-11-25T17:32:59.328054Z"
    },
    "hidden": true
   },
   "outputs": [],
   "source": [
    "# neighborhood search for a point of a given dataset-dictionary (data) with a fixed eps\n",
    "def scan_neigh1(data, point, eps):\n",
    "    \n",
    "    neigh = {}\n",
    "    distances = {}\n",
    "    \n",
    "    for i, element in enumerate(data.values()):\n",
    "        \n",
    "        d = dist1(element, point)\n",
    "        \n",
    "        if (d <= eps) and (d != 0):\n",
    "            \n",
    "            neigh.update({str(i):element})\n",
    "\n",
    "    return neigh   \n"
   ]
  },
  {
   "cell_type": "code",
   "execution_count": 13,
   "metadata": {
    "ExecuteTime": {
     "end_time": "2019-11-25T17:32:59.965085Z",
     "start_time": "2019-11-25T17:32:59.960050Z"
    },
    "hidden": true
   },
   "outputs": [],
   "source": [
    "# variation that returns only the keys of the input dictionary with the euclidean distances <= eps from the point\n",
    "def scan_neigh2(data, point, eps):\n",
    "    \n",
    "    neigh = {}\n",
    "    distances = {}\n",
    "    \n",
    "    for i, element in enumerate(data.values()):\n",
    "        \n",
    "        d = dist1(element, point)\n",
    "        \n",
    "        if (d <= eps) and (d != 0):\n",
    "            \n",
    "            distances.update({str(i):d})\n",
    "\n",
    "    d_sorted = sorted(distances.items(), key=lambda x: x[1], reverse=False)\n",
    "\n",
    "    return d_sorted"
   ]
  },
  {
   "cell_type": "code",
   "execution_count": 14,
   "metadata": {
    "ExecuteTime": {
     "end_time": "2019-11-25T17:33:00.106607Z",
     "start_time": "2019-11-25T17:33:00.101981Z"
    },
    "hidden": true
   },
   "outputs": [],
   "source": [
    "# returns the minPTS-distance of a point if it is a core point, else it return np.inf\n",
    "def minPTSdist(data, o, minPTS, eps):\n",
    "    \n",
    "    S = scan_neigh2(data, data[o], eps)\n",
    "    \n",
    "    if len(S) >= minPTS-1:\n",
    "        \n",
    "        return S[minPTS-2][1]\n",
    "    \n",
    "    else:\n",
    "        \n",
    "        return np.inf    "
   ]
  },
  {
   "cell_type": "code",
   "execution_count": 15,
   "metadata": {
    "ExecuteTime": {
     "end_time": "2019-11-25T17:33:00.350462Z",
     "start_time": "2019-11-25T17:33:00.346476Z"
    },
    "hidden": true
   },
   "outputs": [],
   "source": [
    "#reachability distance (even if it is not a distance because it isn't symmetrical)\n",
    "def reach_dist(data, x,y, minPTS, eps):\n",
    "    \n",
    "    return max(dist2(data, x,y), minPTSdist(data, y, minPTS, eps))"
   ]
  },
  {
   "cell_type": "code",
   "execution_count": 16,
   "metadata": {
    "ExecuteTime": {
     "end_time": "2019-11-25T17:33:00.579396Z",
     "start_time": "2019-11-25T17:33:00.570226Z"
    },
    "hidden": true
   },
   "outputs": [],
   "source": [
    "# plots the reachability plot, along with a horizontal line denoting eps, from the ClustDist produced by OPTICS\n",
    "def Reach_plot(data, ClustDist, eps):\n",
    "    plot_dic = {}\n",
    "\n",
    "    for key, value in ClustDist.items():\n",
    "        \n",
    "        if np.isinf(value) == True:\n",
    "            \n",
    "            plot_dic[key] = eps*1.15\n",
    "        \n",
    "        else:\n",
    "            \n",
    "            plot_dic[key] = ClustDist[key]\n",
    "        \n",
    "    missing_keys = list(set(data.keys())-set(ClustDist.keys()))\n",
    "    \n",
    "    tick_list = list(ClustDist.keys()) + [' ']*(len(missing_keys))\n",
    "\n",
    "    for m_k in missing_keys:\n",
    "\n",
    "        plot_dic[m_k] = 0\n",
    "        \n",
    "    fig, ax = plt.subplots(1, 1, figsize=(12,5))\n",
    "    \n",
    "    ax.bar(plot_dic.keys(),plot_dic.values())\n",
    "    \n",
    "    ax.set_xticks(tick_list)\n",
    "    \n",
    "    ax.axhline(eps, color=\"red\", linewidth=3)\n",
    "    \n",
    "    ax1 = ax.twinx()\n",
    "    ax1.set_ylim(ax.get_ylim())\n",
    "    ax1.set_yticks([eps])\n",
    "    ax1.set_yticklabels([\"\\u03B5\"])\n",
    "\n",
    "    plt.show()"
   ]
  },
  {
   "cell_type": "code",
   "execution_count": 17,
   "metadata": {
    "ExecuteTime": {
     "end_time": "2019-11-25T17:33:00.926771Z",
     "start_time": "2019-11-25T17:33:00.916056Z"
    },
    "hidden": true,
    "scrolled": true
   },
   "outputs": [],
   "source": [
    "def OPTICS(X, eps, minPTS, plot=True, plot_reach=False):\n",
    "    \n",
    "    ClustDist = {}\n",
    "    CoreDist = {}\n",
    "    Seed =  {}\n",
    "    processed = []\n",
    "    \n",
    "    # create dictionary\n",
    "    X_dict = dict(zip([str(i) for i in range(len(X))], X))\n",
    "\n",
    "    while len(processed) != len(X):\n",
    "\n",
    "        if len(Seed) == 0:\n",
    "\n",
    "                unprocessed = list(set(list(X_dict.keys())) - set(processed))\n",
    "\n",
    "                (o, r) = (random.choice(unprocessed), np.inf)\n",
    "\n",
    "        else:\n",
    "\n",
    "            (o, r) = (min(Seed, key=Seed.get), Seed[min(Seed, key=Seed.get)])\n",
    "\n",
    "            del Seed[o]\n",
    "\n",
    "        N = scan_neigh1(X_dict, X_dict[o], eps)\n",
    "\n",
    "        ClustDist.update({o:r})\n",
    "        \n",
    "        CoreDist.update({o: minPTSdist(X_dict, o, minPTS, eps)})\n",
    "        \n",
    "        if plot == True:\n",
    "            \n",
    "            point_plot(X_dict, X_dict[o][0], X_dict[o][1], eps, processed)\n",
    "            \n",
    "            if plot_reach == True:\n",
    "                \n",
    "                Reach_plot(X_dict, ClustDist, eps)\n",
    "        \n",
    "\n",
    "        processed.append(o)\n",
    "\n",
    "        if len(N) >= minPTS-1 :\n",
    "\n",
    "            for n in N:\n",
    "\n",
    "                if n in processed:\n",
    "\n",
    "                    continue\n",
    "\n",
    "                else:\n",
    "\n",
    "                    p = reach_dist(X_dict, n, o, minPTS, eps)\n",
    "\n",
    "                    if n in Seed:\n",
    "\n",
    "                        if p < Seed[n]:\n",
    "\n",
    "                            Seed[n] = p\n",
    "                    else:\n",
    "\n",
    "                        Seed.update({n:p})\n",
    "    \n",
    "    return (ClustDist, CoreDist)"
   ]
  },
  {
   "cell_type": "code",
   "execution_count": 18,
   "metadata": {
    "ExecuteTime": {
     "end_time": "2019-11-25T17:33:01.117377Z",
     "start_time": "2019-11-25T17:33:01.111990Z"
    },
    "hidden": true
   },
   "outputs": [],
   "source": [
    "#extracts cluster in a DBSCAN fashion; one can use any eps_db <= eps of OPTICS\n",
    "def ExtractDBSCANclust(ClustDist, CoreDist, eps_db):\n",
    "    \n",
    "    Clust_Dict = {}\n",
    "    \n",
    "    noise = -1\n",
    "    \n",
    "    clust_id = -1\n",
    "    \n",
    "    for key, value in ClustDist.items():\n",
    "        \n",
    "        if value > eps_db:\n",
    "            \n",
    "            if CoreDist[key] <= eps_db:\n",
    "                \n",
    "                clust_id += 1\n",
    "                \n",
    "                Clust_Dict[key] = clust_id\n",
    "                \n",
    "            else:\n",
    "                \n",
    "                Clust_Dict[key] = noise\n",
    "                \n",
    "        else:\n",
    "            \n",
    "            Clust_Dict[key] = clust_id\n",
    "    \n",
    "    return Clust_Dict"
   ]
  },
  {
   "cell_type": "code",
   "execution_count": 18,
   "metadata": {
    "ExecuteTime": {
     "end_time": "2019-11-24T11:32:11.915900Z",
     "start_time": "2019-11-24T11:32:11.890103Z"
    },
    "hidden": true
   },
   "outputs": [],
   "source": [
    "def plot_clust(X, ClustDist, CoreDist, eps, eps_db):\n",
    "    \n",
    "    X_dict = dict(zip([str(i) for i in range(len(X))], X))\n",
    "\n",
    "    cl = ExtractDBSCANclust(ClustDist, CoreDist, eps_db)\n",
    "\n",
    "    new_dict = {key: (val1, cl[key]) for key,val1 in zip(list(X_dict.keys()),list(X_dict.values())) }\n",
    "\n",
    "    new_dict = OrderedDict((k, new_dict[k]) for k in list(ClustDist.keys()))\n",
    "\n",
    "    df = pd.DataFrame(dict(x = [i[0][0] for i in list(new_dict.values())], \n",
    "                 y=[i[0][1] for i in list(new_dict.values())], \n",
    "                 label= [i[1]for i in list(new_dict.values())]), index=new_dict.keys())\n",
    "\n",
    "    colors = {-1:'red', 0:'lightblue', 1:'beige', 2:'yellow', 3:'grey', \n",
    "              4:'pink', 5:'navy', 6:'orange', 7:'purple', 8:'salmon', 9:'olive', 10:'brown',\n",
    "             11:'tan', 12: 'lime'}\n",
    "\n",
    "    #fig, ax = plt.subplots(figsize=(14,6))\n",
    "    fig, (ax1, ax2) = plt.subplots(1, 2, figsize=(18,6))\n",
    "    \n",
    "    grouped = df.groupby('label')\n",
    "    for key, group in grouped:\n",
    "        group.plot(ax=ax1, kind='scatter', x='x', y='y', label=key, color=colors[key], s=300, edgecolor=\"black\")\n",
    "\n",
    "    ax1.set_xlabel(\"\")\n",
    "    ax1.set_ylabel(\"\")\n",
    "    \n",
    "    xmin, xmax, ymin, ymax = ax1.axis()\n",
    "    xwidth = xmax - xmin\n",
    "    ywidth = ymax - ymin\n",
    "\n",
    "    xw1 = xwidth*0.01\n",
    "    yw1 = ywidth*0.01\n",
    "    \n",
    "    xw2 = xwidth*0.003\n",
    "    yw2 = ywidth*0.01\n",
    "\n",
    "    for i, txt in enumerate([i for i in range(len(X))]):\n",
    "        if len(str(txt))==2:\n",
    "            ax1.annotate(txt, (X[:,0][i]-xw1, X[:,1][i]-yw1), fontsize=8, size=10)\n",
    "        else:\n",
    "            ax1.annotate(txt, (X[:,0][i]-xw2, X[:,1][i]-yw2), fontsize=8, size=10)\n",
    "\n",
    "\n",
    "    #plt.show()\n",
    "\n",
    "    plot_dic = {}\n",
    "\n",
    "    for key, value in ClustDist.items():\n",
    "\n",
    "        if np.isinf(value) == True:\n",
    "\n",
    "            plot_dic[key] = eps*1.15\n",
    "\n",
    "        else:\n",
    "\n",
    "            plot_dic[key] = ClustDist[key]\n",
    "\n",
    "    #plt.figure(figsize=(8,5), ax=ax)\n",
    "    #fig, ax = plt.subplots(figsize=(8,5))\n",
    "    ax2.bar(plot_dic.keys(),plot_dic.values(), color=[colors[i] for i in df.label], edgecolor=\"black\")\n",
    "\n",
    "    ax2.axhline(eps, color=\"black\", linewidth=3)\n",
    "\n",
    "    #plt.annotate(\"\\u03B5\", (0.920,0.79), xycoords='figure fraction')\n",
    "\n",
    "    ax2.axhline(eps_db, color=\"black\", linewidth=3)\n",
    "\n",
    "    #plt.annotate(\"\\u03B5\"+\"\\'\", (438,eps_db*103), xycoords='axes points')\n",
    "    \n",
    "    ax3 = ax2.twinx()\n",
    "    ax3.set_ylim(ax2.get_ylim())\n",
    "    ax3.set_yticks([eps, eps_db])\n",
    "    ax3.set_yticklabels([\"\\u03B5\", \"\\u03B5\"+\"\\'\"])\n",
    "\n",
    "    plt.show()"
   ]
  },
  {
   "cell_type": "markdown",
   "metadata": {
    "heading_collapsed": true,
    "hidden": true
   },
   "source": [
    "## Testing"
   ]
  },
  {
   "cell_type": "code",
   "execution_count": 19,
   "metadata": {
    "ExecuteTime": {
     "end_time": "2019-11-22T08:31:59.677564Z",
     "start_time": "2019-11-22T08:31:59.672544Z"
    },
    "hidden": true,
    "scrolled": true
   },
   "outputs": [],
   "source": [
    "#ClustDist, CoreDist = OPTICS(X, eps=0.5, minPTS=3, plot=True, plot_reach=True)"
   ]
  },
  {
   "cell_type": "code",
   "execution_count": 22,
   "metadata": {
    "ExecuteTime": {
     "end_time": "2019-11-19T08:43:25.804516Z",
     "start_time": "2019-11-19T08:43:25.801167Z"
    },
    "hidden": true
   },
   "outputs": [],
   "source": [
    "#ClustDist, CoreDist = OPTICS(X, eps=0.5, minPTS=3, plot=False, plot_reach=False)"
   ]
  },
  {
   "cell_type": "code",
   "execution_count": 23,
   "metadata": {
    "ExecuteTime": {
     "end_time": "2019-11-19T08:43:27.919620Z",
     "start_time": "2019-11-19T08:43:27.916476Z"
    },
    "hidden": true
   },
   "outputs": [],
   "source": [
    "#plot_clust(X, ClustDist, CoreDist, eps=0.5, eps_db=0.22)"
   ]
  },
  {
   "cell_type": "markdown",
   "metadata": {
    "heading_collapsed": true
   },
   "source": [
    "# DBSCAN"
   ]
  },
  {
   "cell_type": "markdown",
   "metadata": {
    "hidden": true
   },
   "source": [
    "ADVANTAGES:\n",
    "\n",
    "DBSCAN does not require one to specify the number of clusters in the data a priori, as opposed to k-means.\n",
    "\n",
    "DBSCAN can find arbitrarily shaped clusters. It can even find a cluster completely surrounded by (but not connected to) a different cluster. Due to the MinPts parameter, the so-called single-link effect (different clusters being connected by a thin line of points) is reduced.\n",
    "\n",
    "DBSCAN has a notion of noise, and is robust to outliers.\n",
    "\n",
    "DBSCAN requires just two parameters and is mostly insensitive to the ordering of the points in the database. (However, points sitting on the edge of two different clusters might swap cluster membership if the ordering of the points is changed, and the cluster assignment is unique only up to isomorphism.)\n",
    "\n",
    "DBSCAN is designed for use with databases that can accelerate region queries, e.g. using an R* tree.\n",
    "\n",
    "The parameters minPts and ε can be set by a domain expert, if the data is well understood.\n",
    "\n",
    "DISADVANTAGES:\n",
    "\n",
    "DBSCAN is not entirely deterministic: border points that are reachable from more than one cluster can be part of either cluster, depending on the order the data are processed. For most data sets and domains, this situation does not arise often and has little impact on the clustering result: both on core points and noise points, DBSCAN is deterministic. DBSCAN* is a variation that treats border points as noise, and this way achieves a fully deterministic result as well as a more consistent statistical interpretation of density-connected components.\n",
    "\n",
    "The quality of DBSCAN depends on the distance measure used in the function regionQuery(P,ε). The most common distance metric used is Euclidean distance. Especially for high-dimensional data, this metric can be rendered almost useless due to the so-called \"Curse of dimensionality\", making it difficult to find an appropriate value for ε. This effect, however, is also present in any other algorithm based on Euclidean distance.\n",
    "\n",
    "DBSCAN cannot cluster data sets well with large differences in densities, since the minPts-ε combination cannot then be chosen appropriately for all clusters.\n",
    "\n",
    "If the data and scale are not well understood, choosing a meaningful distance threshold ε can be difficult."
   ]
  },
  {
   "cell_type": "markdown",
   "metadata": {
    "hidden": true
   },
   "source": [
    "## Functions"
   ]
  },
  {
   "cell_type": "code",
   "execution_count": 19,
   "metadata": {
    "ExecuteTime": {
     "end_time": "2019-11-24T11:32:23.971281Z",
     "start_time": "2019-11-24T11:32:23.966032Z"
    },
    "hidden": true,
    "scrolled": true
   },
   "outputs": [],
   "source": [
    "# modification that takes also the point itself into account\n",
    "def scan_neigh1_mod(data, point, eps):\n",
    "    \n",
    "    neigh = {}\n",
    "    distances = {}\n",
    "    \n",
    "    for i, element in enumerate(data.values()):\n",
    "        \n",
    "        d = dist1(element, point)\n",
    "        \n",
    "        if (d <= eps):\n",
    "            \n",
    "            neigh.update({str(i):element})\n",
    "\n",
    "    return neigh   "
   ]
  },
  {
   "cell_type": "code",
   "execution_count": 20,
   "metadata": {
    "ExecuteTime": {
     "end_time": "2019-11-24T11:32:24.352182Z",
     "start_time": "2019-11-24T11:32:24.336293Z"
    },
    "hidden": true
   },
   "outputs": [],
   "source": [
    "def point_plot_mod(X_dict, x,y, eps, ClustDict, clust_id):\n",
    "    \n",
    "    colors = {-1:'red', 0:'lightblue', 1:'beige', 2:'yellow', 3:'grey', \n",
    "              4:'pink', 5:'navy', 6:'orange', 7:'purple', 8:'salmon', 9:'olive', 10:'brown',\n",
    "             11:'tan', 12: 'lime'}\n",
    "    \n",
    "    fig, ax = plt.subplots(figsize=(14,6))\n",
    "    \n",
    "    plt.scatter(X[:,0], X[:,1], s=300, color=\"lime\", edgecolor=\"black\")\n",
    "    \n",
    "    for i in ClustDict:\n",
    "        plt.scatter(X_dict[i][0],X_dict[i][1], color=colors[ClustDict[i]], s=300 )\n",
    "    \n",
    "    plt.scatter(x=x,y=y,s=400, color=\"black\", alpha=0.4)\n",
    "    \n",
    "    circle1 = plt.Circle((x, y), eps, color='r', fill=False, linewidth=3, alpha=0.7)\n",
    "    plt.gcf().gca().add_artist(circle1)\n",
    "    \n",
    "    xmin, xmax, ymin, ymax = plt.axis()\n",
    "    xwidth = xmax - xmin\n",
    "    ywidth = ymax - ymin\n",
    "    \n",
    "    xw1 = xwidth*0.008\n",
    "    yw1 = ywidth*0.01\n",
    "    \n",
    "    xw2 = xwidth*0.005\n",
    "    yw2 = ywidth*0.01\n",
    "\n",
    "    for i, txt in enumerate([i for i in range(len(X))]):\n",
    "        if len(str(txt))==2:\n",
    "            ax.annotate(txt, (X[:,0][i]-xw1, X[:,1][i]-yw1), fontsize=12, size=12)\n",
    "        else:\n",
    "            ax.annotate(txt, (X[:,0][i]-xw2, X[:,1][i]-yw2), fontsize=12, size=12)\n",
    "    \n",
    "    plt.show()"
   ]
  },
  {
   "cell_type": "code",
   "execution_count": 21,
   "metadata": {
    "ExecuteTime": {
     "end_time": "2019-11-24T11:32:24.576175Z",
     "start_time": "2019-11-24T11:32:24.555563Z"
    },
    "hidden": true
   },
   "outputs": [],
   "source": [
    "def plot_clust_DB(X, ClustDict, eps, circle_class=None, Noise_circle=True):\n",
    "\n",
    "    X_dict = dict(zip([str(i) for i in range(len(X))], X))\n",
    "\n",
    "    new_dict = {key: (val1, ClustDict[key]) for key,val1 in zip(list(X_dict.keys()),list(X_dict.values())) }\n",
    "\n",
    "    new_dict = OrderedDict((k, new_dict[k]) for k in list(ClustDict.keys()))\n",
    "\n",
    "    df = pd.DataFrame(dict(x = [i[0][0] for i in list(new_dict.values())], \n",
    "                 y=[i[0][1] for i in list(new_dict.values())], \n",
    "                 label= [i[1]for i in list(new_dict.values())]), index=new_dict.keys())\n",
    "\n",
    "    colors = {-1:'red', 0:'lightblue', 1:'beige', 2:'yellow', 3:'grey', \n",
    "              4:'pink', 5:'navy', 6:'orange', 7:'purple', 8:'salmon', 9:'olive', 10:'brown',\n",
    "             11:'tan', 12: 'lime'}\n",
    "\n",
    "    #fig, ax = plt.subplots(figsize=(14,6))\n",
    "    fig, ax1 = plt.subplots(1, 1, figsize=(18,6))\n",
    "\n",
    "    grouped = df.groupby('label')\n",
    "\n",
    "        #for key, group in grouped:\n",
    "\n",
    "            #group.plot(ax=ax1, kind='scatter', x='x', y='y', label=key, color=colors[key], s=300, edgecolor=\"black\")\n",
    "\n",
    "    lista_lab = list(df.label.value_counts().index)\n",
    "    \n",
    "    for lab in lista_lab:\n",
    "\n",
    "        df_sub = df[df.label == lab]\n",
    "        plt.scatter(df_sub.x, df_sub.y, color = colors[lab], s=300, edgecolor=\"black\")\n",
    "\n",
    "    if Noise_circle == True:\n",
    "\n",
    "        df_noise = df[df.label == -1]\n",
    "\n",
    "        for i in range(len(df_noise)):\n",
    "            \n",
    "            ax1.add_artist(plt.Circle((df_noise[\"x\"].iloc[i], \n",
    "                                       df_noise[\"y\"].iloc[i]), eps, color='r', fill=False, linewidth=3, alpha=0.7))\n",
    "            \n",
    "    if circle_class is not None:\n",
    "        \n",
    "        if circle_class != \"true\":\n",
    "            \n",
    "            lista_lab = circle_class\n",
    "        \n",
    "        for lab in lista_lab:\n",
    "        \n",
    "            if lab != -1:\n",
    "                \n",
    "                df_temp = df[df.label == lab]\n",
    "                \n",
    "                for i in range(len(df_temp)):\n",
    "            \n",
    "                    ax1.add_artist(plt.Circle((df_temp[\"x\"].iloc[i], df_temp[\"y\"].iloc[i]), \n",
    "                                              eps, color=colors[lab], fill=False, linewidth=3, alpha=0.7))\n",
    "                \n",
    "    ax1.set_xlabel(\"\")\n",
    "    ax1.set_ylabel(\"\")\n",
    "    \n",
    "    \n",
    "    xmin, xmax, ymin, ymax = plt.axis()\n",
    "    xwidth = xmax - xmin\n",
    "    ywidth = ymax - ymin\n",
    "    \n",
    "    xw1 = xwidth*0.005\n",
    "    yw1 = ywidth*0.01\n",
    "    \n",
    "    xw2 = xwidth*0.0025\n",
    "    yw2 = ywidth*0.01\n",
    "\n",
    "    for i, txt in enumerate([i for i in range(len(X))]):\n",
    "        if len(str(txt))==2:\n",
    "            ax1.annotate(txt, (X[:,0][i]-xw1, X[:,1][i]-yw1), fontsize=8, size=10)\n",
    "        else:\n",
    "            ax1.annotate(txt, (X[:,0][i]-xw2, X[:,1][i]-yw2), fontsize=8, size=10)\n",
    "\n",
    "\n",
    "    plt.show()"
   ]
  },
  {
   "cell_type": "code",
   "execution_count": 22,
   "metadata": {
    "ExecuteTime": {
     "end_time": "2019-11-24T11:32:24.757103Z",
     "start_time": "2019-11-24T11:32:24.742978Z"
    },
    "hidden": true
   },
   "outputs": [],
   "source": [
    "def DBSCAN(data, eps, minPTS, plotting=False, print_details=False):\n",
    "        \n",
    "    ClustDict = {}\n",
    "\n",
    "    clust_id = -1\n",
    "\n",
    "    X_dict = dict(zip([str(i) for i in range(len(X))], X))\n",
    "\n",
    "    processed = []\n",
    "\n",
    "    processed_list = []\n",
    "\n",
    "    #unprocessed = list(set(list(X_dict.keys())) - set(processed))\n",
    "\n",
    "    for point in X_dict:\n",
    "\n",
    "        if point not in processed:\n",
    "\n",
    "            processed.append(point)\n",
    "\n",
    "            #print(processed)\n",
    "\n",
    "            N = scan_neigh1_mod(X_dict, X_dict[point], eps)\n",
    "            \n",
    "            if print_details == True:\n",
    "                \n",
    "                print(\"len(N): \", len(N))\n",
    "\n",
    "            if len(N) < minPTS:\n",
    "\n",
    "                ClustDict.update({point: -1})\n",
    "                \n",
    "                if plotting == True:\n",
    "                    \n",
    "                    point_plot_mod(X_dict, X_dict[point][0], X_dict[point][1], eps, ClustDict, -1)\n",
    "\n",
    "            else:\n",
    "\n",
    "                clust_id+=1\n",
    "\n",
    "                ClustDict.update({point: clust_id})\n",
    "                \n",
    "                if plotting == True:\n",
    "                \n",
    "                    point_plot_mod(X_dict, X_dict[point][0], X_dict[point][1], eps, ClustDict, clust_id)\n",
    "\n",
    "                processed_list = [point]\n",
    "                \n",
    "                del N[point]\n",
    "\n",
    "                while len(N)>0:\n",
    "                    \n",
    "                    if print_details == True:\n",
    "                    \n",
    "                        print(\"len(N) in while loop: \", len(N))\n",
    "\n",
    "                    n = random.choice(list(N.keys()))\n",
    "\n",
    "                    while (n in processed_list):\n",
    "\n",
    "                        n = random.choice(list(N.keys()))\n",
    "\n",
    "                    processed_list.append(n)\n",
    "\n",
    "                    del N[n]\n",
    "\n",
    "                    if n not in processed:\n",
    "\n",
    "                        processed.append(n)\n",
    "\n",
    "                        N_2 = scan_neigh1_mod(X_dict, X_dict[n], eps)\n",
    "                        \n",
    "                        if print_details == True:\n",
    "                        \n",
    "                            print(\"len N2: \", len(N_2))\n",
    "\n",
    "                        if len(N_2) >= minPTS:\n",
    "\n",
    "                            for element in N_2:\n",
    "\n",
    "                                if element not in processed_list:\n",
    "\n",
    "                                    N.update({element: X_dict[element]})\n",
    "\n",
    "                    if (n not in ClustDict) or (ClustDict[n] == -1):\n",
    "\n",
    "                        ClustDict.update({n: clust_id})\n",
    "                    \n",
    "                    if plotting == True:\n",
    "                            \n",
    "                            point_plot_mod(X_dict, X_dict[n][0], X_dict[n][1], eps, ClustDict, clust_id)\n",
    "                            \n",
    "    return ClustDict"
   ]
  },
  {
   "cell_type": "markdown",
   "metadata": {
    "heading_collapsed": true,
    "hidden": true
   },
   "source": [
    "## Choosing eps"
   ]
  },
  {
   "cell_type": "code",
   "execution_count": 24,
   "metadata": {
    "ExecuteTime": {
     "end_time": "2019-11-24T11:32:28.916085Z",
     "start_time": "2019-11-24T11:32:28.904730Z"
    },
    "hidden": true
   },
   "outputs": [],
   "source": [
    "# we choose k as minPTS\n",
    "k = 3\n",
    "neigh = NearestNeighbors(n_neighbors=k)\n",
    "nbrs = neigh.fit(X)\n",
    "distances, indices = nbrs.kneighbors(X)\n",
    "\n",
    "distances = np.sort(distances, axis=0)\n",
    "distances = distances[:,1]\n",
    "#plt.plot(distances)\n",
    "#plt.xlabel(\"Points\")\n",
    "#plt.ylabel(\"Distances\")\n",
    "#plt.title(\"{0}-distance plot\".format(k))\n",
    "#plt.show()\n",
    "\n",
    "#the best eps seems to be around 0.150, even if later we see that eps = 0.3 works better"
   ]
  },
  {
   "cell_type": "markdown",
   "metadata": {
    "hidden": true
   },
   "source": [
    "## Testing"
   ]
  },
  {
   "cell_type": "code",
   "execution_count": 30,
   "metadata": {
    "ExecuteTime": {
     "end_time": "2019-11-19T08:43:58.213883Z",
     "start_time": "2019-11-19T08:43:58.210656Z"
    },
    "hidden": true,
    "scrolled": true
   },
   "outputs": [],
   "source": [
    "#ClustDict = DBSCAN(X, eps=0.3, minPTS=3, plotting=True)"
   ]
  },
  {
   "cell_type": "code",
   "execution_count": 31,
   "metadata": {
    "ExecuteTime": {
     "end_time": "2019-11-19T08:44:00.013684Z",
     "start_time": "2019-11-19T08:44:00.010769Z"
    },
    "hidden": true
   },
   "outputs": [],
   "source": [
    "#ClustDict = DBSCAN(X, eps=0.3, minPTS=3, plotting=False)"
   ]
  },
  {
   "cell_type": "code",
   "execution_count": 32,
   "metadata": {
    "ExecuteTime": {
     "end_time": "2019-11-19T08:44:01.775483Z",
     "start_time": "2019-11-19T08:44:01.772404Z"
    },
    "hidden": true
   },
   "outputs": [],
   "source": [
    "#plot_clust_DB(X, ClustDict, eps=0.3, Noise_circle=True, circle_class=\"true\")"
   ]
  },
  {
   "cell_type": "markdown",
   "metadata": {
    "heading_collapsed": true
   },
   "source": [
    "# HDBSCAN"
   ]
  },
  {
   "cell_type": "markdown",
   "metadata": {
    "hidden": true
   },
   "source": [
    "https://hdbscan.readthedocs.io/en/latest/how_hdbscan_works.html "
   ]
  },
  {
   "cell_type": "markdown",
   "metadata": {
    "hidden": true
   },
   "source": [
    "Density-based clustering is a popular clustering paradigm. However, the existing methods have a number of limitations: \n",
    "\n",
    "(i) Some methods (e.g., DBSCAN and DENCLUE ) can only provide a “flat” (i.e. non-hierarchical) labeling of the data objects, based on a global density threshold. Using a single density threshold can often not properly characterize common data sets with clusters of very different densities and/or nested clusters. \n",
    "\n",
    "(ii) Among the methods that provide a clustering hierarchy, some (e.g., gSkeletonClu) are not able to automatically simplify the hierarchy into an easily interpretable representation involving only the most significant clusters. \n",
    "\n",
    "(iii) Many hierarchical methods, including OPTICS and gSkeletonClu, suggest only how to extract a flat partition by using a global cut/density threshold, which may not result in the most significant clusters if these clusters are characterized by different density levels. \n",
    "\n",
    "(iv) Some methods are limited to specific classes of problems, such as networks (gSkeletonClu), and point sets in the real coordinate space (e.g., DECODE, and Generalized Single-Linkage). \n",
    "\n",
    "(v) Most methods depend on multiple, often critical input parameters.\n",
    "\n",
    "In this paper, we propose a clustering approach that, to the best of our knowledge, is unique in that it does not suffer from any of these drawbacks. \n",
    "In detail, we make the following contributions: \n",
    "\n",
    "(i) We introduce a hierarchical clustering method, called HDBSCAN, which generates a complete density-based clustering hierarchy from which a simplified hierarchy composed only of the most significant clusters can be easily extracted. \n",
    "\n",
    "(ii) We propose a new measure of cluster stability for the purpose of extracting a set of significant clusters from possibly different levels of a simplified cluster tree produced by HDBSCAN. \n",
    "\n",
    "(iii) We formulate the task of extracting a set of significant clusters as an optimization problem in which the overall stability of the composing clusters is maximized. \n",
    "\n",
    "(iv) We propose an algorithm that finds the globally optimal solution to this problem. \n",
    "\n",
    "(v) We demonstrate the advancement in density-based clustering that our approach represents on a variety of real world data sets."
   ]
  },
  {
   "cell_type": "code",
   "execution_count": 39,
   "metadata": {
    "ExecuteTime": {
     "end_time": "2019-11-15T12:46:40.554376Z",
     "start_time": "2019-11-15T12:46:40.541532Z"
    },
    "hidden": true
   },
   "outputs": [
    {
     "data": {
      "text/plain": [
       "HDBSCAN(algorithm='best', allow_single_cluster=False, alpha=1.0,\n",
       "        approx_min_span_tree=True, cluster_selection_method='eom',\n",
       "        core_dist_n_jobs=4, gen_min_span_tree=True, leaf_size=40,\n",
       "        match_reference_implementation=False, memory=Memory(location=None),\n",
       "        metric='euclidean', min_cluster_size=3, min_samples=None, p=None,\n",
       "        prediction_data=False)"
      ]
     },
     "execution_count": 39,
     "metadata": {},
     "output_type": "execute_result"
    }
   ],
   "source": [
    "# by default min_samples is set equal to min_cluster_size\n",
    "clusterer = hdbscan.HDBSCAN(min_cluster_size=3, gen_min_span_tree=True)\n",
    "clusterer.fit(X)"
   ]
  },
  {
   "cell_type": "code",
   "execution_count": null,
   "metadata": {
    "ExecuteTime": {
     "end_time": "2019-11-15T12:46:41.789524Z",
     "start_time": "2019-11-15T12:46:40.939095Z"
    },
    "hidden": true
   },
   "outputs": [],
   "source": [
    "plt.figure(figsize = (18,8))\n",
    "clusterer.minimum_spanning_tree_.plot(edge_cmap='viridis',\n",
    "                                      edge_alpha=0.6,\n",
    "                                      node_size=120,\n",
    "                                      edge_linewidth=3,\n",
    "                                      )\n",
    "\n",
    "xmin, xmax, ymin, ymax = plt.axis()\n",
    "xwidth = xmax - xmin\n",
    "ywidth = ymax - ymin\n",
    "\n",
    "xw1 = xwidth*0.015\n",
    "yw1 = ywidth*0\n",
    "\n",
    "xw2 = xwidth*0.01\n",
    "yw2 = ywidth*0\n",
    "\n",
    "for i, txt in enumerate([i for i in range(len(X))]):\n",
    "    if len(str(txt))==2:\n",
    "        plt.annotate(txt, (X[:,0][i]+xw1, X[:,1][i]-yw1), fontsize=12, size=12)\n",
    "    else:\n",
    "        plt.annotate(txt, (X[:,0][i]+xw2, X[:,1][i]-yw2), fontsize=12, size=12)\n",
    "\n",
    "\n",
    "plt.show()"
   ]
  },
  {
   "cell_type": "code",
   "execution_count": 41,
   "metadata": {
    "ExecuteTime": {
     "end_time": "2019-11-15T12:46:41.807375Z",
     "start_time": "2019-11-15T12:46:41.791930Z"
    },
    "hidden": true,
    "scrolled": true
   },
   "outputs": [
    {
     "data": {
      "text/html": [
       "<div>\n",
       "<style scoped>\n",
       "    .dataframe tbody tr th:only-of-type {\n",
       "        vertical-align: middle;\n",
       "    }\n",
       "\n",
       "    .dataframe tbody tr th {\n",
       "        vertical-align: top;\n",
       "    }\n",
       "\n",
       "    .dataframe thead th {\n",
       "        text-align: right;\n",
       "    }\n",
       "</style>\n",
       "<table border=\"1\" class=\"dataframe\">\n",
       "  <thead>\n",
       "    <tr style=\"text-align: right;\">\n",
       "      <th></th>\n",
       "      <th>from</th>\n",
       "      <th>to</th>\n",
       "      <th>distance</th>\n",
       "    </tr>\n",
       "  </thead>\n",
       "  <tbody>\n",
       "    <tr>\n",
       "      <td>78</td>\n",
       "      <td>1</td>\n",
       "      <td>65</td>\n",
       "      <td>0.393793</td>\n",
       "    </tr>\n",
       "    <tr>\n",
       "      <td>77</td>\n",
       "      <td>1</td>\n",
       "      <td>69</td>\n",
       "      <td>0.289347</td>\n",
       "    </tr>\n",
       "    <tr>\n",
       "      <td>76</td>\n",
       "      <td>29</td>\n",
       "      <td>43</td>\n",
       "      <td>0.280570</td>\n",
       "    </tr>\n",
       "    <tr>\n",
       "      <td>75</td>\n",
       "      <td>31</td>\n",
       "      <td>51</td>\n",
       "      <td>0.272799</td>\n",
       "    </tr>\n",
       "    <tr>\n",
       "      <td>74</td>\n",
       "      <td>45</td>\n",
       "      <td>36</td>\n",
       "      <td>0.240618</td>\n",
       "    </tr>\n",
       "    <tr>\n",
       "      <td>...</td>\n",
       "      <td>...</td>\n",
       "      <td>...</td>\n",
       "      <td>...</td>\n",
       "    </tr>\n",
       "    <tr>\n",
       "      <td>4</td>\n",
       "      <td>30</td>\n",
       "      <td>18</td>\n",
       "      <td>0.129756</td>\n",
       "    </tr>\n",
       "    <tr>\n",
       "      <td>3</td>\n",
       "      <td>7</td>\n",
       "      <td>14</td>\n",
       "      <td>0.128782</td>\n",
       "    </tr>\n",
       "    <tr>\n",
       "      <td>2</td>\n",
       "      <td>15</td>\n",
       "      <td>56</td>\n",
       "      <td>0.126826</td>\n",
       "    </tr>\n",
       "    <tr>\n",
       "      <td>1</td>\n",
       "      <td>42</td>\n",
       "      <td>4</td>\n",
       "      <td>0.125325</td>\n",
       "    </tr>\n",
       "    <tr>\n",
       "      <td>0</td>\n",
       "      <td>48</td>\n",
       "      <td>16</td>\n",
       "      <td>0.112480</td>\n",
       "    </tr>\n",
       "  </tbody>\n",
       "</table>\n",
       "<p>79 rows × 3 columns</p>\n",
       "</div>"
      ],
      "text/plain": [
       "    from  to  distance\n",
       "78     1  65  0.393793\n",
       "77     1  69  0.289347\n",
       "76    29  43  0.280570\n",
       "75    31  51  0.272799\n",
       "74    45  36  0.240618\n",
       "..   ...  ..       ...\n",
       "4     30  18  0.129756\n",
       "3      7  14  0.128782\n",
       "2     15  56  0.126826\n",
       "1     42   4  0.125325\n",
       "0     48  16  0.112480\n",
       "\n",
       "[79 rows x 3 columns]"
      ]
     },
     "execution_count": 41,
     "metadata": {},
     "output_type": "execute_result"
    }
   ],
   "source": [
    "# distances in detail\n",
    "dist_df = clusterer.minimum_spanning_tree_.to_pandas()\n",
    "dist_df = dist_df.sort_values(\"distance\", ascending=False)\n",
    "dist_df\n",
    "#they are processed in this order in the dendrogram below, starting from the whole data \n",
    "#and finishing with the single points\n",
    "# in case of a tie in distances the splits must be executed simultaneously (as in 69 and 68 in the dist_df)"
   ]
  },
  {
   "cell_type": "code",
   "execution_count": null,
   "metadata": {
    "ExecuteTime": {
     "end_time": "2019-11-15T12:46:42.912756Z",
     "start_time": "2019-11-15T12:46:41.813897Z"
    },
    "hidden": true
   },
   "outputs": [],
   "source": [
    "#the scale is in log2, it proceeds from the top to the bottom\n",
    "plt.figure(figsize = (18,8))\n",
    "clusterer.single_linkage_tree_.plot(cmap='viridis', colorbar=True)\n",
    "plt.show()"
   ]
  },
  {
   "cell_type": "code",
   "execution_count": 43,
   "metadata": {
    "ExecuteTime": {
     "end_time": "2019-11-15T12:46:42.939863Z",
     "start_time": "2019-11-15T12:46:42.915748Z"
    },
    "hidden": true,
    "scrolled": true
   },
   "outputs": [
    {
     "data": {
      "text/html": [
       "<div>\n",
       "<style scoped>\n",
       "    .dataframe tbody tr th:only-of-type {\n",
       "        vertical-align: middle;\n",
       "    }\n",
       "\n",
       "    .dataframe tbody tr th {\n",
       "        vertical-align: top;\n",
       "    }\n",
       "\n",
       "    .dataframe thead th {\n",
       "        text-align: right;\n",
       "    }\n",
       "</style>\n",
       "<table border=\"1\" class=\"dataframe\">\n",
       "  <thead>\n",
       "    <tr style=\"text-align: right;\">\n",
       "      <th></th>\n",
       "      <th>parent</th>\n",
       "      <th>child</th>\n",
       "      <th>lambda_val</th>\n",
       "      <th>child_size</th>\n",
       "    </tr>\n",
       "  </thead>\n",
       "  <tbody>\n",
       "    <tr>\n",
       "      <td>0</td>\n",
       "      <td>80</td>\n",
       "      <td>81</td>\n",
       "      <td>2.539408</td>\n",
       "      <td>40</td>\n",
       "    </tr>\n",
       "    <tr>\n",
       "      <td>1</td>\n",
       "      <td>80</td>\n",
       "      <td>82</td>\n",
       "      <td>2.539408</td>\n",
       "      <td>40</td>\n",
       "    </tr>\n",
       "    <tr>\n",
       "      <td>2</td>\n",
       "      <td>81</td>\n",
       "      <td>1</td>\n",
       "      <td>3.456058</td>\n",
       "      <td>1</td>\n",
       "    </tr>\n",
       "    <tr>\n",
       "      <td>3</td>\n",
       "      <td>82</td>\n",
       "      <td>31</td>\n",
       "      <td>3.665699</td>\n",
       "      <td>1</td>\n",
       "    </tr>\n",
       "    <tr>\n",
       "      <td>4</td>\n",
       "      <td>81</td>\n",
       "      <td>29</td>\n",
       "      <td>3.564171</td>\n",
       "      <td>1</td>\n",
       "    </tr>\n",
       "    <tr>\n",
       "      <td>...</td>\n",
       "      <td>...</td>\n",
       "      <td>...</td>\n",
       "      <td>...</td>\n",
       "      <td>...</td>\n",
       "    </tr>\n",
       "    <tr>\n",
       "      <td>91</td>\n",
       "      <td>95</td>\n",
       "      <td>2</td>\n",
       "      <td>7.224528</td>\n",
       "      <td>1</td>\n",
       "    </tr>\n",
       "    <tr>\n",
       "      <td>92</td>\n",
       "      <td>95</td>\n",
       "      <td>57</td>\n",
       "      <td>7.224528</td>\n",
       "      <td>1</td>\n",
       "    </tr>\n",
       "    <tr>\n",
       "      <td>93</td>\n",
       "      <td>96</td>\n",
       "      <td>28</td>\n",
       "      <td>6.529639</td>\n",
       "      <td>1</td>\n",
       "    </tr>\n",
       "    <tr>\n",
       "      <td>94</td>\n",
       "      <td>96</td>\n",
       "      <td>42</td>\n",
       "      <td>6.529639</td>\n",
       "      <td>1</td>\n",
       "    </tr>\n",
       "    <tr>\n",
       "      <td>95</td>\n",
       "      <td>96</td>\n",
       "      <td>4</td>\n",
       "      <td>6.529639</td>\n",
       "      <td>1</td>\n",
       "    </tr>\n",
       "  </tbody>\n",
       "</table>\n",
       "<p>96 rows × 4 columns</p>\n",
       "</div>"
      ],
      "text/plain": [
       "    parent  child  lambda_val  child_size\n",
       "0       80     81    2.539408          40\n",
       "1       80     82    2.539408          40\n",
       "2       81      1    3.456058           1\n",
       "3       82     31    3.665699           1\n",
       "4       81     29    3.564171           1\n",
       "..     ...    ...         ...         ...\n",
       "91      95      2    7.224528           1\n",
       "92      95     57    7.224528           1\n",
       "93      96     28    6.529639           1\n",
       "94      96     42    6.529639           1\n",
       "95      96      4    6.529639           1\n",
       "\n",
       "[96 rows x 4 columns]"
      ]
     },
     "execution_count": 43,
     "metadata": {},
     "output_type": "execute_result"
    }
   ],
   "source": [
    "#Each row of the dataframe corresponds to an edge in the tree. \n",
    "#The parent and child are the ids of the parent and child nodes in the tree. \n",
    "#Node ids less than the number of points in the original dataset represent individual points, \n",
    "#while ids greater than the number of points are clusters.\n",
    "\n",
    "#The lambda_val value is the value (1/distance) at which the child node\n",
    "#leaves the cluster (1/distance of previous dataframe)\n",
    "\n",
    "#The child_size is the number of points in the child node.\n",
    "\n",
    "clusterer.condensed_tree_.to_pandas()"
   ]
  },
  {
   "cell_type": "code",
   "execution_count": null,
   "metadata": {
    "ExecuteTime": {
     "end_time": "2019-11-15T12:46:57.068301Z",
     "start_time": "2019-11-15T12:46:56.320403Z"
    },
    "hidden": true
   },
   "outputs": [],
   "source": [
    "plt.figure(figsize = (18,8))\n",
    "clusterer.condensed_tree_.plot()\n",
    "clust_data = clusterer.condensed_tree_.get_plot_data()[\"cluster_bounds\"]\n",
    "\n",
    "xmin, xmax, ymin, ymax = plt.axis()\n",
    "xwidth = xmax - xmin\n",
    "ywidth = ymax - ymin\n",
    "\n",
    "for name in list(clust_data.keys()):\n",
    "    data = clust_data[name]\n",
    "    x = (data[0] + data[1])/2 -xwidth*0.01\n",
    "    y = (data[3])-ywidth*0.04\n",
    "    plt.annotate(\"{0}\".format(name), (x,y), fontsize=15, size=15, color=\"black\")\n",
    "\n",
    "plt.show()"
   ]
  },
  {
   "cell_type": "code",
   "execution_count": null,
   "metadata": {
    "ExecuteTime": {
     "end_time": "2019-11-15T12:46:58.694115Z",
     "start_time": "2019-11-15T12:46:58.025536Z"
    },
    "hidden": true
   },
   "outputs": [],
   "source": [
    "plt.figure(figsize = (18,8))\n",
    "clusterer.condensed_tree_.plot(select_clusters=True, selection_palette=sns.color_palette())\n",
    "clust_data = clusterer.condensed_tree_.get_plot_data()[\"cluster_bounds\"]\n",
    "\n",
    "xmin, xmax, ymin, ymax = plt.axis()\n",
    "xwidth = xmax - xmin\n",
    "ywidth = ymax - ymin\n",
    "\n",
    "for name in list(clust_data.keys()):\n",
    "    data = clust_data[name]\n",
    "    x = (data[0] + data[1])/2 -xwidth*0.01\n",
    "    y = (data[3])-ywidth*0.04\n",
    "    plt.annotate(\"{0}\".format(name), (x,y), fontsize=15, size=15)\n",
    "plt.show()"
   ]
  },
  {
   "cell_type": "code",
   "execution_count": 33,
   "metadata": {
    "ExecuteTime": {
     "end_time": "2019-11-19T08:44:44.678194Z",
     "start_time": "2019-11-19T08:44:44.675525Z"
    },
    "hidden": true
   },
   "outputs": [],
   "source": [
    "#clusterer.labels_"
   ]
  },
  {
   "cell_type": "code",
   "execution_count": 34,
   "metadata": {
    "ExecuteTime": {
     "end_time": "2019-11-19T08:44:46.746282Z",
     "start_time": "2019-11-19T08:44:46.743179Z"
    },
    "hidden": true
   },
   "outputs": [],
   "source": [
    "#clusterer.probabilities_"
   ]
  },
  {
   "cell_type": "code",
   "execution_count": 35,
   "metadata": {
    "ExecuteTime": {
     "end_time": "2019-11-19T08:44:49.042081Z",
     "start_time": "2019-11-19T08:44:49.039149Z"
    },
    "hidden": true
   },
   "outputs": [],
   "source": [
    "#clusterer.outlier_scores_"
   ]
  },
  {
   "cell_type": "code",
   "execution_count": null,
   "metadata": {
    "ExecuteTime": {
     "end_time": "2019-11-15T12:47:01.268574Z",
     "start_time": "2019-11-15T12:47:00.414068Z"
    },
    "hidden": true
   },
   "outputs": [],
   "source": [
    "plt.figure(figsize=(18,8))\n",
    "palette = sns.color_palette()\n",
    "cluster_colors = [sns.desaturate(palette[col], sat)\n",
    "                  if col >= 0 else (0.5, 0.5, 0.5) for col, sat in\n",
    "                  zip(clusterer.labels_, clusterer.probabilities_)]\n",
    "plt.scatter(X.T[0], X.T[1], c=cluster_colors, s=400, edgecolor=\"black\")\n",
    "\n",
    "xmin, xmax, ymin, ymax = plt.axis()\n",
    "xwidth = xmax - xmin\n",
    "ywidth = ymax - ymin\n",
    "\n",
    "xw1 = xwidth*0.008\n",
    "yw1 = ywidth*0.008\n",
    "\n",
    "xw2 = xwidth*0.005\n",
    "yw2 = ywidth*0.008\n",
    "\n",
    "for i, txt in enumerate([i for i in range(len(X))]):\n",
    "    if len(str(txt))==2:\n",
    "        plt.annotate(txt, (X[:,0][i]-xw1, X[:,1][i]-yw1), fontsize=12, size=12)\n",
    "    else:\n",
    "        plt.annotate(txt, (X[:,0][i]-xw2, X[:,1][i]-yw2), fontsize=12, size=12)\n",
    "\n",
    "\n",
    "plt.show()"
   ]
  },
  {
   "cell_type": "markdown",
   "metadata": {
    "heading_collapsed": true
   },
   "source": [
    "# SPECTRAL CLUSTERING"
   ]
  },
  {
   "cell_type": "markdown",
   "metadata": {
    "heading_collapsed": true,
    "hidden": true
   },
   "source": [
    "## Initial Discussion"
   ]
  },
  {
   "cell_type": "markdown",
   "metadata": {
    "hidden": true
   },
   "source": [
    "http://people.csail.mit.edu/dsontag/courses/ml14/notes/Luxburg07_tutorial_spectral_clustering.pdf"
   ]
  },
  {
   "cell_type": "markdown",
   "metadata": {
    "hidden": true
   },
   "source": [
    "The ε-neighborhood graph: Here we connect all points whose pairwise distances are smaller than ε. As the distances between all connected points are roughly of the same scale (at most ε), weighting the edges would not incorporate more information about the data to the graph. Hence, the ε-neighborhood graph is usually considered as an unweighted graph.\n",
    "\n",
    "k-nearest neighbor graphs: Here the goal is to connect vertex vi with vertex vj if vj is among the k-nearest neighbors of vi. However, this definition leads to a directed graph, as the neighborhood relationship is not symmetric. There are two ways of making this graph undirected. The first way is to simply ignore the directions of the edges, that is we connect vi and vj with an undirected edge if vi is among the k-nearest neighbors of vj or if vj is among the k-nearest neighbors of vi. The resulting graph is what is usually called the k-nearest neighbor graph. The second choice is to connect vertices vi and vj if both vi is among the k-nearest neighbors of vj and vj is among the k-nearest neighbors of vi. The resulting graph is called the mutual k-nearest neighbor graph. In both cases, after connecting the appropriate vertices we weight the edges by the similarity of their endpoints.\n",
    "\n",
    "The fully connected graph: Here we simply connect all points with positive similarity with each other, and we weight all edges by sij. As the graph should represent the local neighborhood re- lationships, this construction is only useful if the similarity function itself models local neighbor- hoods. An example for such a similarity function is the Gaussian similarity function s(xi,xj) = exp(−||xi −xj||^2/(2σ^2)), where the parameter σ controls the width of the neighborhoods. This pa- rameter plays a similar role as the parameter ε in case of the ε-neighborhood graph."
   ]
  },
  {
   "cell_type": "markdown",
   "metadata": {
    "hidden": true
   },
   "source": [
    "The matrix L satisfies the following properties:\n",
    "1. L is symmetric and positive semi-definite.\n",
    "2. The smallest eigenvalue of L is 0, the corresponding eigenvector is the constant one vector . \n",
    "3. L has n non-negative, real-valued eigenvalues 0 = λ1 ≤ λ2 ≤ . . . ≤ λn ."
   ]
  },
  {
   "cell_type": "markdown",
   "metadata": {
    "hidden": true
   },
   "source": [
    "Let G be an undirected graph with non-negative weights. Then the multiplicity k of the eigenvalue 0 of L equals the number of connected components A1, . . . , Ak in the graph. The eigenspace of eigenvalue 0 is spanned by the indicator vectors   A1 , . . . ,   Ak of those components."
   ]
  },
  {
   "cell_type": "markdown",
   "metadata": {
    "hidden": true
   },
   "source": [
    "$$L_{sym} := D^{−1/2} L D^{−1/2} = I − D^{−1/2} W D^{−1/2}$$\n",
    "\n",
    "$$L_{rw} :=D^{−1} L = I − D^{−1} W. $$"
   ]
  },
  {
   "cell_type": "markdown",
   "metadata": {
    "ExecuteTime": {
     "end_time": "2019-11-15T15:44:00.451117Z",
     "start_time": "2019-11-15T15:44:00.443800Z"
    },
    "hidden": true
   },
   "source": [
    "The normalized Laplacians satisfy the following properties:\n",
    "1. λ is an eigenvalue of L_rw with eigenvector u if and only if λ is an eigenvalue of L_sym with eigenvector w = D^1/2u.\n",
    "2. λ is an eigenvalue of L_rw with eigenvector u if and only if λ and u solve the generalized eigenproblem Lu = λDu.\n",
    "3. 0 is an eigenvalue of L_rw with the constant one vector as eigenvector. 0 is an eigenvalue of L_sym with eigenvector D^1/2 .\n",
    "4. L_sym and L_rw are positive semi-definite and have n non-negative real-valued eigenvalues 0 = λ1 ≤...≤ λn."
   ]
  },
  {
   "cell_type": "markdown",
   "metadata": {
    "hidden": true
   },
   "source": [
    "Let G be an undirected graph with non-negative weights. Then the multiplicity k of the eigenvalue 0 of both L_rw and L_sym equals the number of connected components A1 , . . . , Ak in the graph. For L_rw , the eigenspace of 0 is spanned by the indicator vectors 1_Ai of those components. For L_sym, the eigenspace of 0 is spanned by the vectors D^1/2 1_Ai ."
   ]
  },
  {
   "cell_type": "code",
   "execution_count": 35,
   "metadata": {
    "ExecuteTime": {
     "end_time": "2019-11-15T17:49:10.663354Z",
     "start_time": "2019-11-15T17:49:10.657969Z"
    },
    "hidden": true
   },
   "outputs": [],
   "source": [
    "float_formatter = lambda x: \"%.3f\" % x\n",
    "np.set_printoptions(formatter={'float_kind':float_formatter})\n",
    "sns.set()"
   ]
  },
  {
   "cell_type": "code",
   "execution_count": null,
   "metadata": {
    "ExecuteTime": {
     "end_time": "2019-11-15T17:49:15.452976Z",
     "start_time": "2019-11-15T17:49:15.122285Z"
    },
    "hidden": true
   },
   "outputs": [],
   "source": [
    "X = np.array([\n",
    "    [1, 3], [2, 1], [1, 1],\n",
    "    [3, 2], [7, 8], [9, 8],\n",
    "    [9, 9], [8, 7], [13, 14],\n",
    "    [14, 14], [15, 16], [14, 15]\n",
    "])\n",
    "plt.figure(figsize=(10,3))\n",
    "plt.scatter(X[:,0], X[:,1], alpha=0.7, edgecolors='b', s=250)\n",
    "plt.xlabel('Weight')\n",
    "plt.ylabel('Height')\n",
    "plt.show()"
   ]
  },
  {
   "cell_type": "code",
   "execution_count": 38,
   "metadata": {
    "ExecuteTime": {
     "end_time": "2019-11-15T17:49:17.383540Z",
     "start_time": "2019-11-15T17:49:17.373989Z"
    },
    "hidden": true
   },
   "outputs": [
    {
     "name": "stdout",
     "output_type": "stream",
     "text": [
      "[[1 1 1 1 0 0 0 0 0 0 0 0]\n",
      " [1 1 1 1 0 0 0 0 0 0 0 0]\n",
      " [1 1 1 1 0 0 0 0 0 0 0 0]\n",
      " [1 1 1 1 0 0 0 0 0 0 0 0]\n",
      " [0 0 0 0 1 1 1 1 0 0 0 0]\n",
      " [0 0 0 0 1 1 1 1 0 0 0 0]\n",
      " [0 0 0 0 1 1 1 1 0 0 0 0]\n",
      " [0 0 0 0 1 1 1 1 0 0 0 0]\n",
      " [0 0 0 0 0 0 0 0 1 1 1 1]\n",
      " [0 0 0 0 0 0 0 0 1 1 1 1]\n",
      " [0 0 0 0 0 0 0 0 1 1 1 1]\n",
      " [0 0 0 0 0 0 0 0 1 1 1 1]]\n"
     ]
    }
   ],
   "source": [
    "W = pairwise_distances(X, metric=\"euclidean\")\n",
    "vectorizer = np.vectorize(lambda x: 1 if x < 5 else 0)\n",
    "W = np.vectorize(vectorizer)(W)\n",
    "print(W)"
   ]
  },
  {
   "cell_type": "code",
   "execution_count": 39,
   "metadata": {
    "ExecuteTime": {
     "end_time": "2019-11-15T17:49:19.348639Z",
     "start_time": "2019-11-15T17:49:19.342865Z"
    },
    "hidden": true
   },
   "outputs": [],
   "source": [
    "def draw_graph(G):\n",
    "    pos = nx.spring_layout(G)\n",
    "    nx.draw_networkx_nodes(G, pos)\n",
    "    nx.draw_networkx_labels(G, pos)\n",
    "    nx.draw_networkx_edges(G, pos, width=1.0, alpha=0.5)\n",
    "    plt.show()"
   ]
  },
  {
   "cell_type": "markdown",
   "metadata": {
    "heading_collapsed": true,
    "hidden": true
   },
   "source": [
    "## First Example"
   ]
  },
  {
   "cell_type": "markdown",
   "metadata": {
    "hidden": true
   },
   "source": [
    "GRAPH with a single connected component. We will observe a single null eigenvalue; the fact that the second smallest eigenvalue is big indicates that there is a single cluster"
   ]
  },
  {
   "cell_type": "code",
   "execution_count": null,
   "metadata": {
    "ExecuteTime": {
     "end_time": "2019-11-15T17:49:30.377480Z",
     "start_time": "2019-11-15T17:49:30.005882Z"
    },
    "hidden": true
   },
   "outputs": [],
   "source": [
    "G = nx.random_graphs.erdos_renyi_graph(10, 0.5)\n",
    "draw_graph(G)\n",
    "W = nx.adjacency_matrix(G)\n",
    "print(W.todense())"
   ]
  },
  {
   "cell_type": "code",
   "execution_count": 44,
   "metadata": {
    "ExecuteTime": {
     "end_time": "2019-11-15T17:49:33.668787Z",
     "start_time": "2019-11-15T17:49:33.660557Z"
    },
    "hidden": true
   },
   "outputs": [
    {
     "name": "stdout",
     "output_type": "stream",
     "text": [
      "degree matrix:\n",
      "[[8 0 0 0 0 0 0 0 0 0]\n",
      " [0 4 0 0 0 0 0 0 0 0]\n",
      " [0 0 7 0 0 0 0 0 0 0]\n",
      " [0 0 0 4 0 0 0 0 0 0]\n",
      " [0 0 0 0 4 0 0 0 0 0]\n",
      " [0 0 0 0 0 4 0 0 0 0]\n",
      " [0 0 0 0 0 0 8 0 0 0]\n",
      " [0 0 0 0 0 0 0 5 0 0]\n",
      " [0 0 0 0 0 0 0 0 5 0]\n",
      " [0 0 0 0 0 0 0 0 0 5]]\n",
      "laplacian matrix:\n",
      "[[ 8 -1 -1 -1  0 -1 -1 -1 -1 -1]\n",
      " [-1  4  0  0 -1  0  0 -1  0 -1]\n",
      " [-1  0  7 -1 -1 -1 -1 -1  0 -1]\n",
      " [-1  0 -1  4  0  0 -1  0  0 -1]\n",
      " [ 0 -1 -1  0  4  0 -1  0 -1  0]\n",
      " [-1  0 -1  0  0  4 -1  0 -1  0]\n",
      " [-1  0 -1 -1 -1 -1  8 -1 -1 -1]\n",
      " [-1 -1 -1  0  0  0 -1  5 -1  0]\n",
      " [-1  0  0  0 -1 -1 -1 -1  5  0]\n",
      " [-1 -1 -1 -1  0  0 -1  0  0  5]]\n"
     ]
    }
   ],
   "source": [
    "# degree matrix\n",
    "D = np.diag(np.sum(np.array(W.todense()), axis=1))\n",
    "print('degree matrix:')\n",
    "print(D)\n",
    "# Laplacian matrix\n",
    "L = D - W\n",
    "print('laplacian matrix:')\n",
    "print(L)"
   ]
  },
  {
   "cell_type": "code",
   "execution_count": 45,
   "metadata": {
    "ExecuteTime": {
     "end_time": "2019-11-15T17:49:35.801037Z",
     "start_time": "2019-11-15T17:49:35.792430Z"
    },
    "hidden": true
   },
   "outputs": [
    {
     "name": "stdout",
     "output_type": "stream",
     "text": [
      "eigenvalues:\n",
      "[0.000 9.325 8.950 8.398 3.126 3.229 4.228 4.817 6.043 5.882]\n",
      "eigenvectors:\n",
      "[[0.316 0.664 -0.568 -0.319 0.072 0.046 0.152 0.025 -0.060 0.012]\n",
      " [0.316 -0.202 0.033 -0.105 -0.133 -0.641 0.365 -0.332 -0.260 -0.327]\n",
      " [0.316 -0.226 0.267 -0.728 0.101 0.084 -0.087 -0.003 0.471 0.032]\n",
      " [0.316 0.019 0.155 0.143 0.670 0.074 -0.292 0.185 -0.249 -0.468]\n",
      " [0.316 0.216 0.028 0.192 -0.421 -0.266 -0.724 -0.104 0.177 -0.037]\n",
      " [0.316 0.053 0.150 0.241 -0.187 0.625 0.210 -0.542 0.079 -0.217]\n",
      " [0.316 -0.623 -0.662 0.174 0.023 0.111 -0.076 0.079 0.088 0.105]\n",
      " [0.316 0.112 0.179 0.342 -0.158 -0.090 0.411 0.604 0.404 -0.092]\n",
      " [0.316 -0.098 0.221 -0.185 -0.358 0.241 -0.036 0.341 -0.660 0.260]\n",
      " [0.316 0.085 0.196 0.246 0.391 -0.184 0.079 -0.253 0.010 0.733]]\n"
     ]
    }
   ],
   "source": [
    "e, v = np.linalg.eig(L)\n",
    "# eigenvalues\n",
    "print('eigenvalues:')\n",
    "print(e)\n",
    "# eigenvectors\n",
    "print('eigenvectors:')\n",
    "print(v)"
   ]
  },
  {
   "cell_type": "code",
   "execution_count": null,
   "metadata": {
    "ExecuteTime": {
     "end_time": "2019-11-15T17:49:39.857501Z",
     "start_time": "2019-11-15T17:49:39.260000Z"
    },
    "hidden": true
   },
   "outputs": [],
   "source": [
    "fig = plt.figure(figsize=(12,3))\n",
    "ax1 = plt.subplot(121)\n",
    "plt.plot(e)\n",
    "ax1.title.set_text('eigenvalues')\n",
    "i = np.where(e < 10e-6)[0] #very low #1st column\n",
    "ax2 = plt.subplot(122)\n",
    "plt.plot(v[:, i[0]])\n",
    "fig.tight_layout()\n",
    "plt.show()"
   ]
  },
  {
   "cell_type": "markdown",
   "metadata": {
    "heading_collapsed": true,
    "hidden": true
   },
   "source": [
    "## Second Example"
   ]
  },
  {
   "cell_type": "markdown",
   "metadata": {
    "hidden": true
   },
   "source": [
    "GRAPH with two cluster. We will observe two null eigenvalues, so two clusters, since the third eigenvalue is pretty high"
   ]
  },
  {
   "cell_type": "code",
   "execution_count": null,
   "metadata": {
    "ExecuteTime": {
     "end_time": "2019-11-15T17:49:45.173788Z",
     "start_time": "2019-11-15T17:49:44.844830Z"
    },
    "hidden": true
   },
   "outputs": [],
   "source": [
    "G = nx.Graph()\n",
    "G.add_edges_from([\n",
    "    [1, 2], [1, 3], [1, 4], [2, 3], [2, 7], [3, 4], [4, 7], [1, 7],\n",
    "    [6, 5], [5, 8], [6, 8], [9, 8], [9, 6]\n",
    "])\n",
    "draw_graph(G)\n",
    "W = nx.adjacency_matrix(G)\n",
    "#print(W.todense())"
   ]
  },
  {
   "cell_type": "code",
   "execution_count": 48,
   "metadata": {
    "ExecuteTime": {
     "end_time": "2019-11-15T17:49:47.496584Z",
     "start_time": "2019-11-15T17:49:47.484930Z"
    },
    "hidden": true
   },
   "outputs": [
    {
     "name": "stdout",
     "output_type": "stream",
     "text": [
      "eigenvalues:\n",
      "[5.000 0.000 5.000 3.000 3.000 4.000 0.000 4.000 2.000]\n",
      "eigenvectors:\n",
      "[[0.894 -0.447 0.077 0.000 0.000 0.000 0.000 0.000 0.000]\n",
      " [-0.224 -0.447 0.479 0.707 0.392 0.000 0.000 0.000 0.000]\n",
      " [-0.224 -0.447 -0.517 -0.000 -0.588 0.000 0.000 0.000 0.000]\n",
      " [-0.224 -0.447 0.479 -0.707 -0.392 0.000 0.000 0.000 0.000]\n",
      " [-0.224 -0.447 -0.517 0.000 0.588 0.000 0.000 0.000 0.000]\n",
      " [0.000 0.000 0.000 0.000 0.000 0.866 -0.500 -0.154 0.000]\n",
      " [0.000 0.000 0.000 0.000 0.000 -0.289 -0.500 -0.350 -0.707]\n",
      " [0.000 0.000 0.000 0.000 0.000 -0.289 -0.500 0.855 -0.000]\n",
      " [0.000 0.000 0.000 0.000 0.000 -0.289 -0.500 -0.350 0.707]]\n"
     ]
    }
   ],
   "source": [
    "# degree matrix\n",
    "D = np.diag(np.sum(np.array(W.todense()), axis=1))\n",
    "#print('degree matrix:')\n",
    "#print(D)\n",
    "# laplacian matrix\n",
    "L = D - W\n",
    "#print('laplacian matrix:')\n",
    "#print(L)\n",
    "e, v = np.linalg.eig(L)\n",
    "# eigenvalues\n",
    "print('eigenvalues:')\n",
    "print(e)\n",
    "# eigenvectors\n",
    "print('eigenvectors:')\n",
    "print(v)"
   ]
  },
  {
   "cell_type": "code",
   "execution_count": null,
   "metadata": {
    "ExecuteTime": {
     "end_time": "2019-11-15T17:49:50.250634Z",
     "start_time": "2019-11-15T17:49:49.418568Z"
    },
    "hidden": true
   },
   "outputs": [],
   "source": [
    "fig = plt.figure(figsize=[18, 3])\n",
    "ax1 = plt.subplot(131)\n",
    "plt.plot(e)\n",
    "ax1.title.set_text('eigenvalues')\n",
    "i = np.where(e < 10e-6)[0] #(array([1, 6]),)\n",
    "ax2 = plt.subplot(132)\n",
    "plt.plot(v[:, i[0]]) #2nd column\n",
    "ax2.title.set_text('first eigenvector with eigenvalue of 0')\n",
    "ax3 = plt.subplot(133)\n",
    "plt.plot(v[:, i[1]]) #7th column\n",
    "ax3.title.set_text('second eigenvector with eigenvalue of 0')\n",
    "plt.show()"
   ]
  },
  {
   "cell_type": "code",
   "execution_count": null,
   "metadata": {
    "ExecuteTime": {
     "end_time": "2019-11-15T17:50:43.181086Z",
     "start_time": "2019-11-15T17:50:42.845147Z"
    },
    "hidden": true
   },
   "outputs": [],
   "source": [
    "new_mat = np.concatenate([v[:, i[0]], v[:, i[1]]], axis=1)\n",
    "\n",
    "plt.scatter(np.array(new_mat.T[0])[0], np.array(new_mat.T[1])[0], alpha=0.5, s=400)\n",
    "plt.show()\n",
    "\n",
    "km = KMeans(init='k-means++', n_clusters=2)\n",
    "km.fit(new_mat)\n",
    "print(km.labels_)"
   ]
  },
  {
   "cell_type": "markdown",
   "metadata": {
    "hidden": true
   },
   "source": [
    "Alternative way with $ L_{sym} $"
   ]
  },
  {
   "cell_type": "code",
   "execution_count": 51,
   "metadata": {
    "ExecuteTime": {
     "end_time": "2019-11-15T17:52:26.099592Z",
     "start_time": "2019-11-15T17:52:26.093313Z"
    },
    "hidden": true
   },
   "outputs": [],
   "source": [
    "D_pow = scipy.linalg.fractional_matrix_power(D,-0.5)\n",
    "\n",
    "L_norm = np.matmul(np.matmul(D_pow, L), D_pow)"
   ]
  },
  {
   "cell_type": "code",
   "execution_count": 52,
   "metadata": {
    "ExecuteTime": {
     "end_time": "2019-11-15T17:52:26.659118Z",
     "start_time": "2019-11-15T17:52:26.650669Z"
    },
    "hidden": true
   },
   "outputs": [
    {
     "name": "stdout",
     "output_type": "stream",
     "text": [
      "eigenvalues:\n",
      "[1.333 0.000 1.000 1.667 1.000 -0.000 1.333 1.667 1.000]\n",
      "eigenvectors:\n",
      "[[0.866 -0.500 0.000 -0.000 0.000 0.000 0.000 0.000 0.000]\n",
      " [-0.250 -0.433 -0.707 0.500 -0.333 0.000 0.000 0.000 0.000]\n",
      " [-0.250 -0.433 -0.000 -0.500 -0.624 0.000 0.000 0.000 0.000]\n",
      " [-0.250 -0.433 0.707 0.500 0.333 0.000 0.000 0.000 0.000]\n",
      " [-0.250 -0.433 -0.000 -0.500 0.624 0.000 0.000 0.000 0.000]\n",
      " [0.000 0.000 0.000 0.000 0.000 0.548 0.707 -0.447 0.000]\n",
      " [0.000 0.000 0.000 0.000 0.000 0.447 -0.000 0.548 -0.707]\n",
      " [0.000 0.000 0.000 0.000 0.000 0.548 -0.707 -0.447 0.000]\n",
      " [0.000 0.000 0.000 0.000 0.000 0.447 0.000 0.548 0.707]]\n"
     ]
    }
   ],
   "source": [
    "e, v = np.linalg.eig(L_norm)\n",
    "# eigenvalues\n",
    "print('eigenvalues:')\n",
    "print(e)\n",
    "# eigenvectors\n",
    "print('eigenvectors:')\n",
    "print(v)"
   ]
  },
  {
   "cell_type": "code",
   "execution_count": 53,
   "metadata": {
    "ExecuteTime": {
     "end_time": "2019-11-15T17:52:28.992630Z",
     "start_time": "2019-11-15T17:52:28.984351Z"
    },
    "hidden": true
   },
   "outputs": [
    {
     "name": "stdout",
     "output_type": "stream",
     "text": [
      "[1 5]\n"
     ]
    }
   ],
   "source": [
    "i = np.where(e < 10e-6)[0] #(array([1, 6]),)\n",
    "print(i)\n",
    "new_mat = np.concatenate([v[:, i[0]], v[:, i[1]]], axis=1)"
   ]
  },
  {
   "cell_type": "code",
   "execution_count": 54,
   "metadata": {
    "ExecuteTime": {
     "end_time": "2019-11-15T17:52:31.493358Z",
     "start_time": "2019-11-15T17:52:31.186372Z"
    },
    "hidden": true
   },
   "outputs": [
    {
     "data": {
      "image/png": "[encoded data removed]",
      "text/plain": [
       "<Figure size 640x480 with 1 Axes>"
      ]
     },
     "metadata": {},
     "output_type": "display_data"
    }
   ],
   "source": [
    "plt.scatter(np.array(new_mat.T[0])[0], np.array(new_mat.T[1])[0], alpha=0.5, s=400)\n",
    "plt.show()"
   ]
  },
  {
   "cell_type": "code",
   "execution_count": 55,
   "metadata": {
    "ExecuteTime": {
     "end_time": "2019-11-15T17:52:33.442940Z",
     "start_time": "2019-11-15T17:52:33.421368Z"
    },
    "hidden": true
   },
   "outputs": [
    {
     "data": {
      "text/plain": [
       "array([0, 0, 0, 0, 0, 1, 1, 1, 1], dtype=int32)"
      ]
     },
     "execution_count": 55,
     "metadata": {},
     "output_type": "execute_result"
    }
   ],
   "source": [
    "km = KMeans(init='k-means++', n_clusters=2)\n",
    "km.fit(new_mat)\n",
    "km.labels_"
   ]
  },
  {
   "cell_type": "markdown",
   "metadata": {
    "ExecuteTime": {
     "end_time": "2019-11-15T13:08:12.078771Z",
     "start_time": "2019-11-15T13:08:12.072142Z"
    },
    "heading_collapsed": true,
    "hidden": true
   },
   "source": [
    "## Third Example"
   ]
  },
  {
   "cell_type": "markdown",
   "metadata": {
    "hidden": true
   },
   "source": [
    "GRAPH with only one connected component, but with two visible clusters; we will observe a null eigenvalue, but the second and third smallest are also close to zero, so one can choose k=2 or k=3"
   ]
  },
  {
   "cell_type": "code",
   "execution_count": null,
   "metadata": {
    "ExecuteTime": {
     "end_time": "2019-11-15T18:01:27.279864Z",
     "start_time": "2019-11-15T18:01:26.931732Z"
    },
    "hidden": true
   },
   "outputs": [],
   "source": [
    "G = nx.Graph()\n",
    "G.add_edges_from([\n",
    "    [1, 2], [1, 3], [1, 4], [2, 3],\n",
    "    [3, 4], [4, 5], [1, 5], [6, 7],\n",
    "    [7, 8], [6, 8], [6, 9], [9, 6], [7, 10], [7, 2]\n",
    "])\n",
    "draw_graph(G)\n",
    "W = nx.adjacency_matrix(G)\n",
    "print(W.todense())"
   ]
  },
  {
   "cell_type": "code",
   "execution_count": 64,
   "metadata": {
    "ExecuteTime": {
     "end_time": "2019-11-15T18:01:32.886276Z",
     "start_time": "2019-11-15T18:01:32.875766Z"
    },
    "hidden": true
   },
   "outputs": [
    {
     "name": "stdout",
     "output_type": "stream",
     "text": [
      "eigenvalues:\n",
      "[5.485 4.898 4.398 3.801 3.155 -0.000 0.229 0.728 1.913 1.393]\n",
      "eigenvectors:\n",
      "[[-0.430 0.773 -0.021 0.068 -0.049 -0.316 -0.320 -0.047 -0.078 0.011]\n",
      " [0.478 -0.014 0.232 0.123 -0.532 -0.316 -0.154 0.054 -0.525 -0.130]\n",
      " [-0.092 -0.345 -0.592 0.021 0.378 -0.316 -0.303 -0.032 -0.430 -0.033]\n",
      " [0.181 -0.104 0.616 -0.207 0.522 -0.316 -0.364 -0.078 0.136 0.066]\n",
      " [0.071 -0.231 -0.248 0.077 -0.410 -0.316 -0.387 -0.099 0.656 0.127]\n",
      " [0.240 0.203 -0.244 -0.744 -0.028 -0.316 0.338 -0.164 0.083 -0.199]\n",
      " [-0.666 -0.401 0.288 -0.187 -0.246 -0.316 0.196 0.201 -0.062 -0.187]\n",
      " [0.122 0.068 -0.018 0.517 0.238 -0.316 0.301 0.029 0.244 -0.636]\n",
      " [-0.054 -0.052 0.072 0.266 0.013 -0.316 0.438 -0.603 -0.091 0.505]\n",
      " [0.148 0.103 -0.085 0.067 0.114 -0.316 0.254 0.739 0.068 0.476]]\n"
     ]
    }
   ],
   "source": [
    "D = np.diag(np.sum(np.array(W.todense()), axis=1))\n",
    "L = D - W\n",
    "e, v = np.linalg.eig(L)\n",
    "# eigenvalues\n",
    "print('eigenvalues:')\n",
    "print(e)\n",
    "# eigenvectors\n",
    "print('eigenvectors:')\n",
    "print(v)"
   ]
  },
  {
   "cell_type": "code",
   "execution_count": null,
   "metadata": {
    "ExecuteTime": {
     "end_time": "2019-11-15T18:03:09.113889Z",
     "start_time": "2019-11-15T18:03:08.299961Z"
    },
    "hidden": true
   },
   "outputs": [],
   "source": [
    "fig = plt.figure(figsize=[18, 3])\n",
    "ax1 = plt.subplot(131)\n",
    "plt.plot(e)\n",
    "ax1.title.set_text('eigenvalues')\n",
    "i = np.where(e < 0.8)[0]\n",
    "ax2 = plt.subplot(132)\n",
    "plt.plot(v[:, i[0]])\n",
    "ax3 = plt.subplot(133)\n",
    "plt.plot(v[:, i[1]])\n",
    "ax3.title.set_text('second eigenvector with eigenvalue close to 0')\n",
    "plt.show()"
   ]
  },
  {
   "cell_type": "code",
   "execution_count": null,
   "metadata": {
    "ExecuteTime": {
     "end_time": "2019-11-15T18:03:12.121894Z",
     "start_time": "2019-11-15T18:03:11.778057Z"
    },
    "hidden": true
   },
   "outputs": [],
   "source": [
    "new_mat = np.concatenate([v[:, i[0]], v[:, i[1]]], axis=1)\n",
    "\n",
    "plt.scatter(np.array(new_mat.T[0])[0], np.array(new_mat.T[1])[0], alpha=0.5, s=400)\n",
    "plt.show()\n",
    "\n",
    "km = KMeans(init='k-means++', n_clusters=2)\n",
    "km.fit(new_mat)\n",
    "print(km.labels_)"
   ]
  },
  {
   "cell_type": "code",
   "execution_count": null,
   "metadata": {
    "ExecuteTime": {
     "end_time": "2019-11-15T18:06:28.100374Z",
     "start_time": "2019-11-15T18:06:27.826640Z"
    },
    "hidden": true
   },
   "outputs": [],
   "source": [
    "new_mat = np.concatenate([v[:, i[0]], v[:, i[1]], v[:,i[2]]], axis=1)\n",
    "\n",
    "fig = plt.figure()\n",
    "ax = fig.add_subplot(111, projection='3d')\n",
    "ax.scatter(np.array(new_mat.T[0])[0], np.array(new_mat.T[1])[0],np.array(new_mat.T[2])[0], alpha=0.5, s=400)\n",
    "plt.show()\n",
    "\n",
    "km = KMeans(init='k-means++', n_clusters=3, random_state=42)\n",
    "km.fit(new_mat)\n",
    "print(km.labels_)"
   ]
  },
  {
   "cell_type": "markdown",
   "metadata": {
    "heading_collapsed": true,
    "hidden": true
   },
   "source": [
    "## Fourth Example"
   ]
  },
  {
   "cell_type": "markdown",
   "metadata": {
    "hidden": true
   },
   "source": [
    "GRAPH with one single connected component, but with 3 or 4 visible clusters, therefore we try with k=3 and k=4 "
   ]
  },
  {
   "cell_type": "code",
   "execution_count": null,
   "metadata": {
    "ExecuteTime": {
     "end_time": "2019-11-15T18:07:04.545100Z",
     "start_time": "2019-11-15T18:07:04.163706Z"
    },
    "hidden": true
   },
   "outputs": [],
   "source": [
    "G = nx.Graph()\n",
    "G.add_edges_from([\n",
    "    [1, 2], [1, 3], [1, 4], [2, 3], [3, 4], [4, 5],\n",
    "    [1, 5], [6, 7], [7, 8], [6, 8], [6, 9], [9, 6],\n",
    "    [7, 10], [7, 2], [11, 12], [12, 13], [7, 12],\n",
    "    [11, 13]\n",
    "])\n",
    "\n",
    "draw_graph(G)\n",
    "W = nx.adjacency_matrix(G)\n",
    "#print(W.todense())"
   ]
  },
  {
   "cell_type": "code",
   "execution_count": 77,
   "metadata": {
    "ExecuteTime": {
     "end_time": "2019-11-15T18:07:07.385578Z",
     "start_time": "2019-11-15T18:07:07.373516Z"
    },
    "hidden": true
   },
   "outputs": [
    {
     "name": "stdout",
     "output_type": "stream",
     "text": [
      "eigenvalues:\n",
      "[6.333 5.020 4.471 3.862 3.535 3.138 1.915 -0.000 0.184 0.348 0.772 1.421\n",
      " 3.000]\n",
      "eigenvectors:\n",
      "[[0.136 -0.867 0.086 -0.015 0.092 0.040 -0.079 -0.277 0.347 0.078 0.040\n",
      "  -0.009 -0.000]\n",
      " [-0.312 0.253 0.318 -0.023 0.299 0.482 -0.527 -0.277 0.205 0.014 -0.054\n",
      "  0.127 -0.000]\n",
      " [0.070 0.189 -0.667 -0.008 -0.073 -0.355 -0.434 -0.277 0.333 0.071 0.025\n",
      "  0.035 0.000]\n",
      " [-0.056 0.231 0.577 0.044 -0.352 -0.473 0.135 -0.277 0.384 0.096 0.069\n",
      "  -0.062 -0.000]\n",
      " [-0.018 0.211 -0.269 -0.016 0.169 0.380 0.661 -0.277 0.403 0.106 0.089\n",
      "  -0.124 -0.000]\n",
      " [-0.220 -0.077 -0.087 0.795 -0.122 0.025 0.077 -0.277 -0.152 -0.355\n",
      "  0.113 0.214 0.000]\n",
      " [0.834 0.166 0.114 0.042 -0.179 0.248 -0.058 -0.277 -0.102 -0.113 -0.185\n",
      "  0.174 -0.000]\n",
      " [-0.142 -0.029 -0.011 -0.450 0.196 -0.240 0.226 -0.277 -0.140 -0.284\n",
      "  -0.059 0.670 0.000]\n",
      " [0.041 0.019 0.025 -0.278 0.048 -0.012 -0.084 -0.277 -0.187 -0.545 0.495\n",
      "  -0.507 -0.000]\n",
      " [-0.156 -0.041 -0.033 -0.015 0.071 -0.116 0.063 -0.277 -0.125 -0.174\n",
      "  -0.810 -0.414 -0.000]\n",
      " [0.053 0.027 0.037 0.091 0.278 -0.146 0.019 -0.277 -0.343 0.417 0.124\n",
      "  -0.065 -0.707]\n",
      " [-0.282 -0.109 -0.127 -0.259 -0.705 0.311 -0.018 -0.277 -0.280 0.272\n",
      "  0.028 0.028 -0.000]\n",
      " [0.053 0.027 0.037 0.091 0.278 -0.146 0.019 -0.277 -0.343 0.417 0.124\n",
      "  -0.065 0.707]]\n"
     ]
    }
   ],
   "source": [
    "D = np.diag(np.sum(np.array(W.todense()), axis=1))\n",
    "L = D - W\n",
    "e, v = np.linalg.eig(L)\n",
    "# eigenvalues\n",
    "print('eigenvalues:')\n",
    "print(e)\n",
    "# eigenvectors\n",
    "print('eigenvectors:')\n",
    "print(v)"
   ]
  },
  {
   "cell_type": "code",
   "execution_count": null,
   "metadata": {
    "ExecuteTime": {
     "end_time": "2019-11-15T18:10:03.860571Z",
     "start_time": "2019-11-15T18:10:02.488010Z"
    },
    "hidden": true
   },
   "outputs": [],
   "source": [
    "fig = plt.figure(figsize=[15, 6])\n",
    "ax1 = plt.subplot(221)\n",
    "plt.plot(e)\n",
    "ax1.title.set_text('eigenvalues')\n",
    "i = np.where(e < 0.8)[0]\n",
    "ax2 = plt.subplot(222)\n",
    "plt.plot(v[:, i[0]])\n",
    "ax3 = plt.subplot(223)\n",
    "plt.plot(v[:, i[1]])\n",
    "ax3.title.set_text('second eigenvector with eigenvalue close to 0')\n",
    "ax4 = plt.subplot(224)\n",
    "plt.plot(v[:, i[2]])\n",
    "ax4.title.set_text('third eigenvector with eigenvalue close to 0')\n",
    "fig.tight_layout()\n",
    "plt.show()"
   ]
  },
  {
   "cell_type": "code",
   "execution_count": null,
   "metadata": {
    "ExecuteTime": {
     "end_time": "2019-11-15T18:08:18.906070Z",
     "start_time": "2019-11-15T18:08:18.648166Z"
    },
    "hidden": true
   },
   "outputs": [],
   "source": [
    "plt.figure(figsize=(3,3))\n",
    "draw_graph(G)"
   ]
  },
  {
   "cell_type": "code",
   "execution_count": null,
   "metadata": {
    "ExecuteTime": {
     "end_time": "2019-11-15T18:09:06.623946Z",
     "start_time": "2019-11-15T18:09:06.363323Z"
    },
    "hidden": true
   },
   "outputs": [],
   "source": [
    "new_mat = np.concatenate([v[:, i[0]], v[:, i[1]], v[:,i[2]]], axis=1)\n",
    "\n",
    "fig = plt.figure()\n",
    "ax = fig.add_subplot(111, projection='3d')\n",
    "ax.scatter(np.array(new_mat.T[0])[0], np.array(new_mat.T[1])[0],np.array(new_mat.T[2])[0], alpha=0.5, s=400)\n",
    "plt.show()\n",
    "\n",
    "km = KMeans(init='k-means++', n_clusters=3, random_state=42)\n",
    "km.fit(new_mat)\n",
    "print(km.labels_)"
   ]
  },
  {
   "cell_type": "code",
   "execution_count": 85,
   "metadata": {
    "ExecuteTime": {
     "end_time": "2019-11-15T18:10:08.743867Z",
     "start_time": "2019-11-15T18:10:08.708846Z"
    },
    "hidden": true
   },
   "outputs": [
    {
     "name": "stdout",
     "output_type": "stream",
     "text": [
      "[0 0 0 0 0 1 1 1 1 2 3 3 3]\n"
     ]
    }
   ],
   "source": [
    "new_mat = np.concatenate([v[:, i[0]], v[:, i[1]], v[:,i[2]], v[:,i[3]]], axis=1)\n",
    "\n",
    "#fig = plt.figure()\n",
    "#ax = fig.add_subplot(111, projection='3d')\n",
    "#ax.scatter(np.array(new_mat.T[0])[0], np.array(new_mat.T[1])[0],np.array(new_mat.T[2])[0], alpha=0.5, s=400)\n",
    "#plt.show()\n",
    "\n",
    "km = KMeans(init='k-means++', n_clusters=4, random_state=42)\n",
    "km.fit(new_mat)\n",
    "print(km.labels_)"
   ]
  },
  {
   "cell_type": "code",
   "execution_count": null,
   "metadata": {
    "ExecuteTime": {
     "end_time": "2019-11-15T14:43:15.309007Z",
     "start_time": "2019-11-15T14:43:14.660574Z"
    },
    "hidden": true
   },
   "outputs": [],
   "source": [
    "X, clusters = make_circles(n_samples=1000, noise=.06, factor=.5, random_state=0)\n",
    "\n",
    "sc = SpectralClustering(n_clusters=2, affinity='nearest_neighbors', random_state=42)\n",
    "sc_clustering = sc.fit(X)\n",
    "plt.scatter(X[:,0], X[:,1], c=sc_clustering.labels_, cmap='rainbow', alpha=0.7, edgecolors='b')"
   ]
  },
  {
   "cell_type": "markdown",
   "metadata": {
    "heading_collapsed": true
   },
   "source": [
    "# HIERARCHICAL AGGLOMERATIVE CLUSTERING"
   ]
  },
  {
   "cell_type": "markdown",
   "metadata": {
    "heading_collapsed": true,
    "hidden": true
   },
   "source": [
    "## Function update_mat and testing"
   ]
  },
  {
   "cell_type": "code",
   "execution_count": 20,
   "metadata": {
    "ExecuteTime": {
     "end_time": "2019-11-22T08:32:10.136259Z",
     "start_time": "2019-11-22T08:32:10.121425Z"
    },
    "hidden": true
   },
   "outputs": [],
   "source": [
    "def update_mat(mat,i,j, linkage):\n",
    "    \n",
    "    a1 = mat.iloc[i]\n",
    "    b1 = mat.iloc[j]\n",
    "    \n",
    "    if linkage == \"single\":\n",
    "        \n",
    "        vec = [np.min([p,q]) for p,q in zip(a1.values,b1.values)]\n",
    "        vec[i] = np.inf\n",
    "        vec[j] = np.inf\n",
    "    \n",
    "    elif linkage == \"complete\":\n",
    "        \n",
    "        vec = [np.max([p,q]) for p,q in zip(a1.values,b1.values)]\n",
    "    \n",
    "    elif linkage == \"average\":\n",
    "        \n",
    "        l_a1 = len(a1.name.replace(\"(\",\"\").replace(\")\",\"\").split(\"-\"))\n",
    "        l_b1 = len(b1.name.replace(\"(\",\"\").replace(\")\",\"\").split(\"-\"))\n",
    "        vec = [(l_a1*a1[k]+l_b1*b1[k])/(l_a1+l_b1) for k in range(len(a1))]\n",
    "        #vec = [np.mean([p,q]) for p,q in zip(a1.values,b1.values)]\n",
    "\n",
    "    mat.loc[\"(\"+a1.name+\")\"+\"-\"+\"(\"+b1.name+\")\",:] = vec\n",
    "    mat[\"(\"+a1.name+\")\"+\"-\"+\"(\"+b1.name+\")\"] = vec + [np.inf]\n",
    "    \n",
    "    mat = mat.drop([a1.name,b1.name], 0)\n",
    "    mat = mat.drop([a1.name,b1.name], 1)\n",
    "    \n",
    "    return mat    "
   ]
  },
  {
   "cell_type": "code",
   "execution_count": 21,
   "metadata": {
    "ExecuteTime": {
     "end_time": "2019-11-22T08:32:10.782745Z",
     "start_time": "2019-11-22T08:32:10.776355Z"
    },
    "hidden": true
   },
   "outputs": [],
   "source": [
    "def prova_update_mat(mat, linkage, steps):\n",
    "    for _ in range(steps):\n",
    "        (i, j) = np.unravel_index(np.array(mat).argmin(), np.array(mat).shape)\n",
    "        mat = update_mat(mat,i,j, linkage)\n",
    "    return mat"
   ]
  },
  {
   "cell_type": "markdown",
   "metadata": {
    "heading_collapsed": true,
    "hidden": true
   },
   "source": [
    "### Testing"
   ]
  },
  {
   "cell_type": "code",
   "execution_count": 43,
   "metadata": {
    "ExecuteTime": {
     "end_time": "2019-11-19T08:47:34.563453Z",
     "start_time": "2019-11-19T08:47:34.554766Z"
    },
    "hidden": true
   },
   "outputs": [],
   "source": [
    "provaX = pd.DataFrame({\"0\":[np.inf,1,5,2], \"1\":[1,np.inf,3,4], \"2\":[5,3,np.inf,1], \"3\":[2,4,1,np.inf]}, \n",
    "                      index=[str(i) for i in range(4)])"
   ]
  },
  {
   "cell_type": "code",
   "execution_count": 44,
   "metadata": {
    "ExecuteTime": {
     "end_time": "2019-11-19T08:47:35.029534Z",
     "start_time": "2019-11-19T08:47:35.016345Z"
    },
    "hidden": true
   },
   "outputs": [
    {
     "data": {
      "text/html": [
       "<div>\n",
       "<style scoped>\n",
       "    .dataframe tbody tr th:only-of-type {\n",
       "        vertical-align: middle;\n",
       "    }\n",
       "\n",
       "    .dataframe tbody tr th {\n",
       "        vertical-align: top;\n",
       "    }\n",
       "\n",
       "    .dataframe thead th {\n",
       "        text-align: right;\n",
       "    }\n",
       "</style>\n",
       "<table border=\"1\" class=\"dataframe\">\n",
       "  <thead>\n",
       "    <tr style=\"text-align: right;\">\n",
       "      <th></th>\n",
       "      <th>0</th>\n",
       "      <th>1</th>\n",
       "      <th>2</th>\n",
       "      <th>3</th>\n",
       "    </tr>\n",
       "  </thead>\n",
       "  <tbody>\n",
       "    <tr>\n",
       "      <td>0</td>\n",
       "      <td>inf</td>\n",
       "      <td>1.0</td>\n",
       "      <td>5.0</td>\n",
       "      <td>2.0</td>\n",
       "    </tr>\n",
       "    <tr>\n",
       "      <td>1</td>\n",
       "      <td>1.0</td>\n",
       "      <td>inf</td>\n",
       "      <td>3.0</td>\n",
       "      <td>4.0</td>\n",
       "    </tr>\n",
       "    <tr>\n",
       "      <td>2</td>\n",
       "      <td>5.0</td>\n",
       "      <td>3.0</td>\n",
       "      <td>inf</td>\n",
       "      <td>1.0</td>\n",
       "    </tr>\n",
       "    <tr>\n",
       "      <td>3</td>\n",
       "      <td>2.0</td>\n",
       "      <td>4.0</td>\n",
       "      <td>1.0</td>\n",
       "      <td>inf</td>\n",
       "    </tr>\n",
       "  </tbody>\n",
       "</table>\n",
       "</div>"
      ],
      "text/plain": [
       "     0    1    2    3\n",
       "0  inf  1.0  5.0  2.0\n",
       "1  1.0  inf  3.0  4.0\n",
       "2  5.0  3.0  inf  1.0\n",
       "3  2.0  4.0  1.0  inf"
      ]
     },
     "execution_count": 44,
     "metadata": {},
     "output_type": "execute_result"
    }
   ],
   "source": [
    "provaX"
   ]
  },
  {
   "cell_type": "code",
   "execution_count": 45,
   "metadata": {
    "ExecuteTime": {
     "end_time": "2019-11-19T08:47:36.793111Z",
     "start_time": "2019-11-19T08:47:36.788571Z"
    },
    "hidden": true
   },
   "outputs": [
    {
     "data": {
      "text/plain": [
       "(0, 1)"
      ]
     },
     "execution_count": 45,
     "metadata": {},
     "output_type": "execute_result"
    }
   ],
   "source": [
    "(i, j) = np.unravel_index(np.array(provaX).argmin(), np.array(provaX).shape)\n",
    "(i,j)"
   ]
  },
  {
   "cell_type": "code",
   "execution_count": 46,
   "metadata": {
    "ExecuteTime": {
     "end_time": "2019-11-19T08:47:36.823377Z",
     "start_time": "2019-11-19T08:47:36.797090Z"
    },
    "hidden": true
   },
   "outputs": [
    {
     "data": {
      "text/html": [
       "<div>\n",
       "<style scoped>\n",
       "    .dataframe tbody tr th:only-of-type {\n",
       "        vertical-align: middle;\n",
       "    }\n",
       "\n",
       "    .dataframe tbody tr th {\n",
       "        vertical-align: top;\n",
       "    }\n",
       "\n",
       "    .dataframe thead th {\n",
       "        text-align: right;\n",
       "    }\n",
       "</style>\n",
       "<table border=\"1\" class=\"dataframe\">\n",
       "  <thead>\n",
       "    <tr style=\"text-align: right;\">\n",
       "      <th></th>\n",
       "      <th>2</th>\n",
       "      <th>3</th>\n",
       "      <th>(0)-(1)</th>\n",
       "    </tr>\n",
       "  </thead>\n",
       "  <tbody>\n",
       "    <tr>\n",
       "      <td>2</td>\n",
       "      <td>inf</td>\n",
       "      <td>1.0</td>\n",
       "      <td>4.0</td>\n",
       "    </tr>\n",
       "    <tr>\n",
       "      <td>3</td>\n",
       "      <td>1.0</td>\n",
       "      <td>inf</td>\n",
       "      <td>3.0</td>\n",
       "    </tr>\n",
       "    <tr>\n",
       "      <td>(0)-(1)</td>\n",
       "      <td>4.0</td>\n",
       "      <td>3.0</td>\n",
       "      <td>inf</td>\n",
       "    </tr>\n",
       "  </tbody>\n",
       "</table>\n",
       "</div>"
      ],
      "text/plain": [
       "           2    3  (0)-(1)\n",
       "2        inf  1.0      4.0\n",
       "3        1.0  inf      3.0\n",
       "(0)-(1)  4.0  3.0      inf"
      ]
     },
     "execution_count": 46,
     "metadata": {},
     "output_type": "execute_result"
    }
   ],
   "source": [
    "bum = update_mat(provaX,i,j,\"average\")\n",
    "bum"
   ]
  },
  {
   "cell_type": "code",
   "execution_count": 47,
   "metadata": {
    "ExecuteTime": {
     "end_time": "2019-11-19T08:47:36.855820Z",
     "start_time": "2019-11-19T08:47:36.837918Z"
    },
    "hidden": true
   },
   "outputs": [
    {
     "data": {
      "text/html": [
       "<div>\n",
       "<style scoped>\n",
       "    .dataframe tbody tr th:only-of-type {\n",
       "        vertical-align: middle;\n",
       "    }\n",
       "\n",
       "    .dataframe tbody tr th {\n",
       "        vertical-align: top;\n",
       "    }\n",
       "\n",
       "    .dataframe thead th {\n",
       "        text-align: right;\n",
       "    }\n",
       "</style>\n",
       "<table border=\"1\" class=\"dataframe\">\n",
       "  <thead>\n",
       "    <tr style=\"text-align: right;\">\n",
       "      <th></th>\n",
       "      <th>(0)-(1)</th>\n",
       "      <th>(2)-(3)</th>\n",
       "    </tr>\n",
       "  </thead>\n",
       "  <tbody>\n",
       "    <tr>\n",
       "      <td>(0)-(1)</td>\n",
       "      <td>inf</td>\n",
       "      <td>3.5</td>\n",
       "    </tr>\n",
       "    <tr>\n",
       "      <td>(2)-(3)</td>\n",
       "      <td>3.5</td>\n",
       "      <td>inf</td>\n",
       "    </tr>\n",
       "  </tbody>\n",
       "</table>\n",
       "</div>"
      ],
      "text/plain": [
       "         (0)-(1)  (2)-(3)\n",
       "(0)-(1)      inf      3.5\n",
       "(2)-(3)      3.5      inf"
      ]
     },
     "execution_count": 47,
     "metadata": {},
     "output_type": "execute_result"
    }
   ],
   "source": [
    "bam = update_mat(bum,i,j, \"average\")\n",
    "bam"
   ]
  },
  {
   "cell_type": "code",
   "execution_count": 48,
   "metadata": {
    "ExecuteTime": {
     "end_time": "2019-11-19T08:47:36.865614Z",
     "start_time": "2019-11-19T08:47:36.859577Z"
    },
    "hidden": true
   },
   "outputs": [
    {
     "data": {
      "text/plain": [
       "(0, 1)"
      ]
     },
     "execution_count": 48,
     "metadata": {},
     "output_type": "execute_result"
    }
   ],
   "source": [
    "(i, j) = np.unravel_index(np.array(bam).argmin(), np.array(bam).shape)\n",
    "(i,j)"
   ]
  },
  {
   "cell_type": "code",
   "execution_count": 49,
   "metadata": {
    "ExecuteTime": {
     "end_time": "2019-11-19T08:47:37.607044Z",
     "start_time": "2019-11-19T08:47:37.595304Z"
    },
    "hidden": true
   },
   "outputs": [
    {
     "data": {
      "text/html": [
       "<div>\n",
       "<style scoped>\n",
       "    .dataframe tbody tr th:only-of-type {\n",
       "        vertical-align: middle;\n",
       "    }\n",
       "\n",
       "    .dataframe tbody tr th {\n",
       "        vertical-align: top;\n",
       "    }\n",
       "\n",
       "    .dataframe thead th {\n",
       "        text-align: right;\n",
       "    }\n",
       "</style>\n",
       "<table border=\"1\" class=\"dataframe\">\n",
       "  <thead>\n",
       "    <tr style=\"text-align: right;\">\n",
       "      <th></th>\n",
       "      <th>((0)-(1))-((2)-(3))</th>\n",
       "    </tr>\n",
       "  </thead>\n",
       "  <tbody>\n",
       "    <tr>\n",
       "      <td>((0)-(1))-((2)-(3))</td>\n",
       "      <td>inf</td>\n",
       "    </tr>\n",
       "  </tbody>\n",
       "</table>\n",
       "</div>"
      ],
      "text/plain": [
       "                     ((0)-(1))-((2)-(3))\n",
       "((0)-(1))-((2)-(3))                  inf"
      ]
     },
     "execution_count": 49,
     "metadata": {},
     "output_type": "execute_result"
    }
   ],
   "source": [
    "bim = update_mat(bam,i,j, \"average\")\n",
    "bim"
   ]
  },
  {
   "cell_type": "markdown",
   "metadata": {
    "heading_collapsed": true,
    "hidden": true
   },
   "source": [
    "## Functions"
   ]
  },
  {
   "cell_type": "code",
   "execution_count": 25,
   "metadata": {
    "ExecuteTime": {
     "end_time": "2019-11-24T11:32:38.715724Z",
     "start_time": "2019-11-24T11:32:38.707763Z"
    },
    "hidden": true,
    "scrolled": true
   },
   "outputs": [],
   "source": [
    "#X #80\n",
    "X, y = make_moons(n_samples=80, noise=0.05, random_state=42)"
   ]
  },
  {
   "cell_type": "code",
   "execution_count": 26,
   "metadata": {
    "ExecuteTime": {
     "end_time": "2019-11-24T11:32:38.941759Z",
     "start_time": "2019-11-24T11:32:38.911666Z"
    },
    "hidden": true
   },
   "outputs": [],
   "source": [
    "def point_plot_mod(X, a, level_txt, level2_txt=None):\n",
    "    \n",
    "    fig, ax = plt.subplots(figsize=(14,6))\n",
    "    \n",
    "    plt.scatter(X[:,0], X[:,1], s=300, color=\"lime\", edgecolor=\"black\")\n",
    "    \n",
    "    a = a.dropna(1, how=\"all\")\n",
    "    \n",
    "    colors = { 0:\"seagreen\", 1:'beige', 2:'yellow', 3:'grey', \n",
    "              4:'pink', 5:'navy', 6:'orange', 7:'purple', 8:'salmon', 9:'olive', 10:'brown',\n",
    "             11:'tan', 12: 'plum', 13:'red', 14:'lightblue', 15:\"khaki\", 16:\"gainsboro\", 17:\"peachpuff\"}\n",
    "    \n",
    "    len_ind = [len(i.split(\"-\")) for i in list(a.index)]\n",
    "    start = np.min([i for i in range(len(len_ind)) if len_ind[i]>1])\n",
    "    \n",
    "    for ind,i in enumerate(range(start,len(a))):\n",
    "        point = a.iloc[i].name.replace(\"(\",\"\").replace(\")\",\"\").split(\"-\")\n",
    "        point = [int(i) for i in point]\n",
    "        for j in range(len(point)):\n",
    "            plt.scatter(X[point[j],0], X[point[j],1], s=350, color=colors[ind%14])\n",
    "                \n",
    "    point = a.iloc[-1].name.replace(\"(\",\"\").replace(\")\",\"\").split(\"-\")\n",
    "    point = [int(i) for i in point]\n",
    "    com = X[point].mean(axis=0)\n",
    "    rect_min = X[point].min(axis=0)\n",
    "    rect_diff = X[point].max(axis=0)-rect_min\n",
    "    \n",
    "    xmin, xmax, ymin, ymax = plt.axis()\n",
    "    xwidth = xmax - xmin\n",
    "    ywidth = ymax - ymin\n",
    "    \n",
    "    plt.gcf().gca().add_patch(Rectangle((rect_min[0] - .05, rect_min[1] - .05), \n",
    "                                        rect_diff[0]+.1, rect_diff[1]+.1, fill=True, \n",
    "                                        color=colors[ind%14], alpha=0.3, linewidth=3, \n",
    "                                        ec=\"black\"))\n",
    "    plt.gcf().gca().add_patch(Rectangle((rect_min[0] - .05, rect_min[1] - .05), \n",
    "                                        rect_diff[0]+.1, rect_diff[1]+.1, fill=None, \n",
    "                                        color='r', alpha=1, linewidth=3 \n",
    "                                        ))\n",
    "    \n",
    "    xmin, xmax, ymin, ymax = plt.axis()\n",
    "    xwidth = xmax - xmin\n",
    "    ywidth = ymax - ymin\n",
    "    \n",
    "    xw1 = xwidth*0.008\n",
    "    yw1 = ywidth*0.01\n",
    "    \n",
    "    xw2 = xwidth*0.005\n",
    "    yw2 = ywidth*0.01\n",
    "\n",
    "    for i, txt in enumerate([i for i in range(len(X))]):\n",
    "        if len(str(txt))==2:\n",
    "            ax.annotate(txt, (X[:,0][i]-xw1, X[:,1][i]-yw1), fontsize=12, size=12)\n",
    "        else:\n",
    "            ax.annotate(txt, (X[:,0][i]-xw2, X[:,1][i]-yw2), fontsize=12, size=12)\n",
    "            \n",
    "    ax.annotate(\"dist_tot: \" + str(round(level_txt,5)), (xmax*0.75,ymax*0.9), fontsize=12, size=12)\n",
    "    \n",
    "    if level2_txt is not None:\n",
    "        ax.annotate(\"dist_incr: \" + str(round(level2_txt,5)), (xmax*0.75,ymax*0.8), fontsize=12, size=12)\n",
    "    \n",
    "    ax.annotate(\"n° clust: \" + str(len(a)), (xmax*0.75,ymax*0.7), fontsize=12, size=12)\n",
    "    \n",
    "    plt.show()"
   ]
  },
  {
   "cell_type": "code",
   "execution_count": 27,
   "metadata": {
    "ExecuteTime": {
     "end_time": "2019-11-24T11:32:39.081639Z",
     "start_time": "2019-11-24T11:32:39.068682Z"
    },
    "hidden": true
   },
   "outputs": [],
   "source": [
    "def dist_mat(mat, linkage):\n",
    "    \n",
    "    even_num = [i for i in range(2,len(X)+1) if i%2==0]\n",
    "    D = pd.DataFrame()\n",
    "    ind = list(mat.index)\n",
    "    k = 0\n",
    "    for i in ind:\n",
    "        for j in ind[k:]:\n",
    "            if i!=j:\n",
    "                \n",
    "                a = mat.loc[i].values\n",
    "                b = mat.loc[j].values\n",
    "                z1 = [i for i in even_num if i<=len(a)]\n",
    "                z2 = [i for i in even_num if i<=len(b)]\n",
    "                a = [a[:z1[0]]]+[a[z1[i]:z1[i+1]] for i in range(len(z1)-1)]\n",
    "                b = [b[:z2[0]]]+[b[z2[i]:z2[i+1]] for i in range(len(z2)-1)]\n",
    "\n",
    "                if linkage == \"single\":\n",
    "                    D.loc[i,j] = sl_dist(a, b)\n",
    "                elif linkage == \"complete\":\n",
    "                    D.loc[i,j] = cl_dist(a, b)\n",
    "                elif linkage == \"average\":\n",
    "                    D.loc[i,j] = avg_dist(a, b)\n",
    "            else:\n",
    "                \n",
    "                D.loc[i,j] = np.inf \n",
    "            \n",
    "        k += 1\n",
    "    \n",
    "    D = D.fillna(np.inf)\n",
    "    \n",
    "    return D"
   ]
  },
  {
   "cell_type": "code",
   "execution_count": 28,
   "metadata": {
    "ExecuteTime": {
     "end_time": "2019-11-24T11:32:39.214468Z",
     "start_time": "2019-11-24T11:32:39.200400Z"
    },
    "hidden": true
   },
   "outputs": [],
   "source": [
    "def dist_mat_full(mat, linkage):\n",
    "    \n",
    "    even_num = [i for i in range(2,len(X)+1) if i%2==0]\n",
    "    D = pd.DataFrame()\n",
    "    ind = list(mat.index)\n",
    "    k = 0\n",
    "    for i in ind:\n",
    "        for j in ind[k:]:\n",
    "            if i!=j:\n",
    "                \n",
    "                a = mat.loc[i].values\n",
    "                b = mat.loc[j].values\n",
    "                z1 = [i for i in even_num if i<=len(a)]\n",
    "                z2 = [i for i in even_num if i<=len(b)]\n",
    "                a = [a[:z1[0]]]+[a[z1[i]:z1[i+1]] for i in range(len(z1)-1)]\n",
    "                b = [b[:z2[0]]]+[b[z2[i]:z2[i+1]] for i in range(len(z2)-1)]\n",
    "\n",
    "                if linkage == \"single\":\n",
    "                    D.loc[i,j] = sl_dist(a, b)\n",
    "                    D.loc[j,i] = sl_dist(a, b)\n",
    "                elif linkage == \"complete\":\n",
    "                    D.loc[i,j] = cl_dist(a, b)\n",
    "                    D.loc[j,i] = cl_dist(a, b)\n",
    "                elif linkage == \"average\":\n",
    "                    D.loc[i,j] = avg_dist(a, b)\n",
    "                    D.loc[j,i] = avg_dist(a, b)\n",
    "            else:\n",
    "                \n",
    "                D.loc[i,j] = np.inf \n",
    "            \n",
    "        k += 1\n",
    "    \n",
    "    D = D.fillna(np.inf)\n",
    "    \n",
    "    return D"
   ]
  },
  {
   "cell_type": "code",
   "execution_count": 29,
   "metadata": {
    "ExecuteTime": {
     "end_time": "2019-11-24T11:32:39.344382Z",
     "start_time": "2019-11-24T11:32:39.324227Z"
    },
    "hidden": true
   },
   "outputs": [],
   "source": [
    "def dist_mat_gen(mat):\n",
    "    \n",
    "    even_num = [i for i in range(2,len(X)+1) if i%2==0]\n",
    "    D = pd.DataFrame()\n",
    "    ind = list(mat.index)\n",
    "    k = 0\n",
    "    for i in ind:\n",
    "        for j in ind[k:]:\n",
    "            if i!=j:\n",
    "                \n",
    "                a = mat.loc[i].values\n",
    "                b = mat.loc[j].values\n",
    "                z1 = [i for i in even_num if i<=len(a)]\n",
    "                z2 = [i for i in even_num if i<=len(b)]\n",
    "                a = [a[:z1[0]]]+[a[z1[i]:z1[i+1]] for i in range(len(z1)-1)]\n",
    "                b = [b[:z2[0]]]+[b[z2[i]:z2[i+1]] for i in range(len(z2)-1)]\n",
    "\n",
    "                D.loc[i,j] = sl_dist(a, b)\n",
    "                D.loc[j,i] = sl_dist(a, b)\n",
    "            else:\n",
    "                \n",
    "                D.loc[i,j] = np.inf \n",
    "            \n",
    "        k += 1\n",
    "    \n",
    "    D = D.fillna(np.inf)\n",
    "    \n",
    "    return D"
   ]
  },
  {
   "cell_type": "code",
   "execution_count": 30,
   "metadata": {
    "ExecuteTime": {
     "end_time": "2019-11-24T11:32:39.622321Z",
     "start_time": "2019-11-24T11:32:39.612234Z"
    },
    "hidden": true
   },
   "outputs": [],
   "source": [
    "def compute_var(X, mat):\n",
    "    cleaned_index = [i.replace(\"(\",\"\").replace(\")\",\"\").split(\"-\") for i in mat.index]\n",
    "    cent_x_tot = []\n",
    "    for li in cleaned_index:\n",
    "        cent_x = []\n",
    "        for el in li:\n",
    "            cent_x.append(X[int(el)][0])\n",
    "        cent_x_tot.append(np.mean(cent_x))\n",
    "    cent_y_tot = []\n",
    "    for li in cleaned_index:\n",
    "        cent_y = []\n",
    "        for el in li:\n",
    "            cent_y.append(X[int(el)][1])\n",
    "        cent_y_tot.append(np.mean(cent_y))\n",
    "    \n",
    "    centroids = pd.DataFrame(index=mat.index)\n",
    "    centroids[\"cx\"] = cent_x_tot\n",
    "    centroids[\"cy\"] = cent_y_tot\n",
    "    \n",
    "    var_int = compute_var_sing(mat, centroids)  \n",
    "    \n",
    "    centroids[\"var\"] = var_int\n",
    "    \n",
    "    return (centroids, centroids[\"var\"].sum())    "
   ]
  },
  {
   "cell_type": "code",
   "execution_count": 31,
   "metadata": {
    "ExecuteTime": {
     "end_time": "2019-11-24T11:32:39.793870Z",
     "start_time": "2019-11-24T11:32:39.779030Z"
    },
    "hidden": true
   },
   "outputs": [],
   "source": [
    "def compute_var_sing(mat, centroids):\n",
    "    even_num = [i for i in range(2,len(X)+1) if i%2==0]\n",
    "    var_int = []\n",
    "    for i in list(mat.index):\n",
    "        az = mat.loc[i].values\n",
    "        z1 = [i for i in even_num if i<=len(az)]\n",
    "        az = [az[:z1[0]]]+[az[z1[i]:z1[i+1]] for i in range(len(z1)-1)]\n",
    "        az = [az[i] for i in range(len(az)) if np.isinf(az[i]).sum()!=2]\n",
    "\n",
    "        var_int_par = []\n",
    "        for el in az:\n",
    "            distance = (dist1(el,centroids.loc[i,[\"cx\",\"cy\"]].values))**2\n",
    "            var_int_par.append(distance)\n",
    "        var_int.append(np.sum(var_int_par))\n",
    "        \n",
    "    return var_int"
   ]
  },
  {
   "cell_type": "code",
   "execution_count": 32,
   "metadata": {
    "ExecuteTime": {
     "end_time": "2019-11-24T11:32:40.045293Z",
     "start_time": "2019-11-24T11:32:40.028500Z"
    },
    "hidden": true
   },
   "outputs": [],
   "source": [
    "#computes difference in total within-cluster variance, with squared euclidean distance\n",
    "def compute_ward_ij(X, mat):\n",
    "    \n",
    "    even_num = [i for i in range(2,len(X)+1) if i%2==0]\n",
    "    \n",
    "    (centroids, summ) = compute_var(X, mat)\n",
    "    variances = {}\n",
    "    D = pd.DataFrame()\n",
    "    k = 0\n",
    "    ind = list(mat.index)\n",
    "    \n",
    "    partial_var = {}\n",
    "    \n",
    "    for i in ind:\n",
    "        for j in ind[k:]:\n",
    "            if i!=j:\n",
    "                az = mat.loc[i].values\n",
    "                bz = mat.loc[j].values\n",
    "                z1 = [i for i in even_num if i<=len(az)]\n",
    "                z2 = [i for i in even_num if i<=len(bz)]\n",
    "                az = [az[:z1[0]]]+[az[z1[i]:z1[i+1]] for i in range(len(z1)-1)]\n",
    "                bz = [bz[:z2[0]]]+[bz[z2[i]:z2[i+1]] for i in range(len(z2)-1)]\n",
    "                d = az + bz\n",
    "                valid = [d[i] for i in range(len(d)) if np.isinf(d[i]).sum()!=2]\n",
    "                #print(valid)\n",
    "                centroid = np.mean(valid, axis=0)\n",
    "                var_intz = []\n",
    "                var_int_par = []\n",
    "                for el in valid:\n",
    "                    var_int_par.append(dist1(el,centroid)**2)\n",
    "                var_intz = np.sum(var_int_par)\n",
    "                partial_var[(i,j)] = var_intz - centroids.loc[i][\"var\"] - centroids.loc[j][\"var\"]\n",
    "                \n",
    "                var_new = summ + partial_var[(i,j)]\n",
    "                variances[(i,j)] = var_new\n",
    "        k+=1\n",
    "\n",
    "    (i,j) = min(variances, key=variances.get)\n",
    "    new_summ = np.min(list(variances.values()))\n",
    "    par_var = partial_var[(i,j)]\n",
    "    if new_summ == summ:\n",
    "        print(\"wrong\")\n",
    "    \n",
    "    return ((i,j), new_summ, par_var)"
   ]
  },
  {
   "cell_type": "code",
   "execution_count": 33,
   "metadata": {
    "ExecuteTime": {
     "end_time": "2019-11-24T11:32:40.304672Z",
     "start_time": "2019-11-24T11:32:40.297269Z"
    },
    "hidden": true
   },
   "outputs": [],
   "source": [
    "def deleteFrom2D(arr2D, row, column):\n",
    "    'Delete element from 2D numpy array by row and column position'\n",
    "    modArr = np.delete(arr2D, row * arr2D.shape[1] + column)\n",
    "    return modArr"
   ]
  },
  {
   "cell_type": "code",
   "execution_count": 34,
   "metadata": {
    "ExecuteTime": {
     "end_time": "2019-11-24T11:32:40.754083Z",
     "start_time": "2019-11-24T11:32:40.747332Z"
    },
    "hidden": true
   },
   "outputs": [],
   "source": [
    "def sl_dist(a, b):\n",
    "    distances = []\n",
    "    for i in a:\n",
    "        for j in b:\n",
    "            distances.append(dist1(i,j))\n",
    "    distances = [i for i in distances if np.isnan(i)==False]\n",
    "    return np.min(distances)"
   ]
  },
  {
   "cell_type": "code",
   "execution_count": 35,
   "metadata": {
    "ExecuteTime": {
     "end_time": "2019-11-24T11:32:41.019094Z",
     "start_time": "2019-11-24T11:32:41.012085Z"
    },
    "hidden": true
   },
   "outputs": [],
   "source": [
    "def cl_dist(a, b):\n",
    "    distances = []\n",
    "    for i in a:\n",
    "        for j in b:\n",
    "            distances.append(dist1(i,j))\n",
    "    distances = [i for i in distances if (np.isnan(i)==False) and (np.isinf(i)==False)]\n",
    "    return np.max(distances)"
   ]
  },
  {
   "cell_type": "code",
   "execution_count": 36,
   "metadata": {
    "ExecuteTime": {
     "end_time": "2019-11-24T11:32:41.406181Z",
     "start_time": "2019-11-24T11:32:41.399623Z"
    },
    "hidden": true
   },
   "outputs": [],
   "source": [
    "def avg_dist(a, b):\n",
    "    distances = []\n",
    "    for i in a:\n",
    "        for j in b:\n",
    "            distances.append(dist1(i,j))\n",
    "    #print(distances)\n",
    "    distances = [i for i in distances if (np.isnan(i)==False) and (np.isinf(i)==False)]\n",
    "    #print(distances)\n",
    "    return np.mean(distances)"
   ]
  },
  {
   "cell_type": "markdown",
   "metadata": {
    "heading_collapsed": true,
    "hidden": true
   },
   "source": [
    "## Algorithms"
   ]
  },
  {
   "cell_type": "code",
   "execution_count": 62,
   "metadata": {
    "ExecuteTime": {
     "end_time": "2019-11-19T08:48:20.378169Z",
     "start_time": "2019-11-19T08:48:20.363182Z"
    },
    "hidden": true,
    "hide_input": false,
    "scrolled": true
   },
   "outputs": [],
   "source": [
    "def agg_clust(X, linkage):\n",
    "    levels = []\n",
    "    levels2 = []\n",
    "    ind_list = []\n",
    "\n",
    "    l = [[i,i] for i in range(len(X))]\n",
    "    flat_list = [item for sublist in l for item in sublist]\n",
    "    col = [str(el)+\"x\" if i%2==0 else str(el)+\"y\" for i, el in enumerate(flat_list)]\n",
    "\n",
    "    a = pd.DataFrame(index=[str(i) for i in range(len(X))], columns=col)\n",
    "\n",
    "    a[\"0x\"]=X.T[0]\n",
    "    a[\"0y\"]=X.T[1]\n",
    "\n",
    "    while len(a) > 1:\n",
    "\n",
    "        b = a.dropna(axis=1, how=\"all\")\n",
    "        \n",
    "        if (linkage == \"single\") or (linkage == \"average\"):\n",
    "            \n",
    "            b = b.fillna(np.inf)\n",
    "            \n",
    "        elif linkage == \"complete\":\n",
    "            \n",
    "            b = b.fillna(np.NINF)\n",
    "        \n",
    "        elif linkage == \"ward\":\n",
    "            \n",
    "            b = b.fillna(np.inf)\n",
    "            \n",
    "            if len(a) == len(X):\n",
    "                var_sum = 0\n",
    "                levels.append(var_sum)\n",
    "                levels2.append(var_sum)\n",
    "            \n",
    "        else:\n",
    "            print(\"input metric is not valid\")\n",
    "            return\n",
    "        \n",
    "        if (linkage != \"ward\"):\n",
    "            X_dist1 = dist_mat(b, linkage)\n",
    "            #find indexes of minimum\n",
    "            (i, j) = np.unravel_index(np.array(X_dist1).argmin(), np.array(X_dist1).shape)\n",
    "            levels.append(np.min(np.array(X_dist1)))\n",
    "            ind_list.append((i, j))\n",
    "            new_clust = a.iloc[[i, j], :]\n",
    "        \n",
    "        elif (linkage == \"ward\"):\n",
    "            ((i,j), var_sum, par_var) = compute_ward_ij(X, b)\n",
    "\n",
    "            levels.append(var_sum)\n",
    "            levels2.append(par_var)\n",
    "            ind_list.append((i, j))\n",
    "            new_clust = a.loc[[i, j], :]\n",
    "\n",
    "        a = a.drop([new_clust.iloc[0].name],0)\n",
    "        a = a.drop([new_clust.iloc[1].name],0)\n",
    "\n",
    "        dim1 = int(new_clust.iloc[0].notna().sum())\n",
    "        \n",
    "        a.loc[\"(\"+new_clust.iloc[0].name+\")\"+\"-\"+\"(\"+new_clust.iloc[1].name+\")\",:] = \\\n",
    "                new_clust.iloc[0].fillna(0) + new_clust.iloc[1].shift(dim1, fill_value=0)\n",
    "\n",
    "        if linkage != \"ward\":\n",
    "            point_plot_mod(X, a, levels[-1]) \n",
    "        else:\n",
    "            point_plot_mod(X, a, levels[-2], levels2[-1])"
   ]
  },
  {
   "cell_type": "code",
   "execution_count": 63,
   "metadata": {
    "ExecuteTime": {
     "end_time": "2019-11-19T08:48:22.745479Z",
     "start_time": "2019-11-19T08:48:22.730926Z"
    },
    "hidden": true
   },
   "outputs": [],
   "source": [
    "def agg_clust_mod(X, linkage):\n",
    "    levels = []\n",
    "    levels2 = []\n",
    "    ind_list = []\n",
    "\n",
    "    l = [[i,i] for i in range(len(X))]\n",
    "    flat_list = [item for sublist in l for item in sublist]\n",
    "    col = [str(el)+\"x\" if i%2==0 else str(el)+\"y\" for i, el in enumerate(flat_list)]\n",
    "\n",
    "    a = pd.DataFrame(index=[str(i) for i in range(len(X))], columns=col)\n",
    "\n",
    "    a[\"0x\"]=X.T[0]\n",
    "    a[\"0y\"]=X.T[1]\n",
    "\n",
    "    b = a.dropna(axis=1, how=\"all\")\n",
    "\n",
    "    X_dist1 = dist_mat_gen(b)\n",
    "    var_sum = 0\n",
    "    levels.append(var_sum)\n",
    "    levels2.append(var_sum)\n",
    "\n",
    "    while len(a) > 1:\n",
    "\n",
    "        if linkage == \"ward\":\n",
    "\n",
    "            b = a.dropna(axis=1, how=\"all\")\n",
    "            b = b.fillna(np.inf)\n",
    "            ((i,j), var_sum, par_var) = compute_ward_ij(X, b)\n",
    "\n",
    "            levels.append(var_sum)\n",
    "            levels2.append(par_var)\n",
    "            ind_list.append((i, j))\n",
    "            new_clust = a.loc[[i, j], :]\n",
    "\n",
    "        else:\n",
    "            #find indexes of minimum\n",
    "            (i, j) = np.unravel_index(np.array(X_dist1).argmin(), np.array(X_dist1).shape)\n",
    "            levels.append(np.min(np.array(X_dist1)))\n",
    "            ind_list.append((i, j))\n",
    "            new_clust = a.iloc[[i, j], :]\n",
    "\n",
    "            X_dist1 = update_mat(X_dist1,i,j, linkage)\n",
    "\n",
    "        a = a.drop([new_clust.iloc[0].name],0)\n",
    "        a = a.drop([new_clust.iloc[1].name],0)\n",
    "\n",
    "        dim1 = int(new_clust.iloc[0].notna().sum())\n",
    "\n",
    "        a.loc[\"(\"+new_clust.iloc[0].name+\")\"+\"-\"+\"(\"+new_clust.iloc[1].name+\")\",:] = \\\n",
    "                new_clust.iloc[0].fillna(0) + new_clust.iloc[1].shift(dim1, fill_value=0)\n",
    "\n",
    "        if linkage != \"ward\":\n",
    "            point_plot_mod(X, a, levels[-1]) \n",
    "        else:\n",
    "            point_plot_mod(X, a, levels[-2], levels2[-1])"
   ]
  },
  {
   "cell_type": "markdown",
   "metadata": {
    "heading_collapsed": true,
    "hidden": true
   },
   "source": [
    "## Plots"
   ]
  },
  {
   "cell_type": "code",
   "execution_count": 75,
   "metadata": {
    "ExecuteTime": {
     "end_time": "2019-11-19T08:55:54.812270Z",
     "start_time": "2019-11-19T08:55:54.808802Z"
    },
    "hidden": true,
    "scrolled": true
   },
   "outputs": [],
   "source": [
    "#agg_clust(X, \"single\")\n",
    "#agg_clust_mod(X, \"single\")"
   ]
  },
  {
   "cell_type": "code",
   "execution_count": 80,
   "metadata": {
    "ExecuteTime": {
     "end_time": "2019-11-19T09:00:24.687252Z",
     "start_time": "2019-11-19T09:00:24.682836Z"
    },
    "hidden": true,
    "scrolled": true
   },
   "outputs": [],
   "source": [
    "#agg_clust(X, \"complete\")\n",
    "#agg_clust_mod(X, \"complete\")"
   ]
  },
  {
   "cell_type": "code",
   "execution_count": 82,
   "metadata": {
    "ExecuteTime": {
     "end_time": "2019-11-19T09:04:28.922359Z",
     "start_time": "2019-11-19T09:04:28.918875Z"
    },
    "hidden": true,
    "scrolled": true
   },
   "outputs": [],
   "source": [
    "#agg_clust(X, \"average\")\n",
    "#agg_clust_mod(X, \"average\")"
   ]
  },
  {
   "cell_type": "code",
   "execution_count": 85,
   "metadata": {
    "ExecuteTime": {
     "end_time": "2019-11-19T09:07:40.426662Z",
     "start_time": "2019-11-19T09:07:40.423661Z"
    },
    "hidden": true,
    "scrolled": true
   },
   "outputs": [],
   "source": [
    "#agg_clust(X, \"ward\")\n",
    "#agg_clust_mod(X, \"ward\")"
   ]
  },
  {
   "cell_type": "code",
   "execution_count": 84,
   "metadata": {
    "ExecuteTime": {
     "end_time": "2019-11-19T09:07:37.310964Z",
     "start_time": "2019-11-19T09:07:37.307893Z"
    },
    "hidden": true
   },
   "outputs": [],
   "source": [
    "#1m15s single\n",
    "#1m20s complete\n",
    "#1m15s average vs 2m20s\n",
    "#2m26s ward vs 2m21s"
   ]
  },
  {
   "cell_type": "markdown",
   "metadata": {
    "heading_collapsed": true,
    "hidden": true
   },
   "source": [
    "## Scipy examples"
   ]
  },
  {
   "cell_type": "markdown",
   "metadata": {
    "hidden": true
   },
   "source": [
    "Ward distance is not consistent with our custom implementation, but Ward clustering is"
   ]
  },
  {
   "cell_type": "markdown",
   "metadata": {
    "hidden": true
   },
   "source": [
    "SINGLE e COMPLETE uguali nei due metodi anche per numeri dist e scipy dendrogram\n",
    "\n",
    "AVERAGE uguale nei due metodi, però secondo scipy dendrogram è meglio quello più veloce, ultimo risultato diverso\n",
    "\n",
    "per WARD un solo metodo, le distanze non sono uguali, dovrebbero essere poste sotto radice e moltiplicate per radice di 2, ma ultima sbagliata"
   ]
  },
  {
   "cell_type": "code",
   "execution_count": 66,
   "metadata": {
    "ExecuteTime": {
     "end_time": "2019-11-19T08:49:37.130358Z",
     "start_time": "2019-11-19T08:49:37.123630Z"
    },
    "hidden": true
   },
   "outputs": [],
   "source": [
    "def fancy_dendrogram(*args, **kwargs):\n",
    "    max_d = kwargs.pop('max_d', None)\n",
    "    if max_d and 'color_threshold' not in kwargs:\n",
    "        kwargs['color_threshold'] = max_d\n",
    "    annotate_above = kwargs.pop('annotate_above', 0)\n",
    "\n",
    "    ddata = dendrogram(*args, **kwargs)\n",
    "\n",
    "    if not kwargs.get('no_plot', False):\n",
    "        plt.title('Hierarchical Clustering Dendrogram (truncated)')\n",
    "        plt.xlabel('sample index or (cluster size)')\n",
    "        plt.ylabel('distance')\n",
    "        for i, d, c in zip(ddata['icoord'], ddata['dcoord'], ddata['color_list']):\n",
    "            x = 0.5 * sum(i[1:3])\n",
    "            y = d[1]\n",
    "            if y > annotate_above:\n",
    "                plt.plot(x, y, 'o', c=c)\n",
    "                plt.annotate(\"%.3g\" % y, (x, y), xytext=(0, -5),\n",
    "                             textcoords='offset points',\n",
    "                             va='top', ha='center')\n",
    "        if max_d:\n",
    "            plt.axhline(y=max_d, c='k')\n",
    "    return ddata"
   ]
  },
  {
   "cell_type": "code",
   "execution_count": 126,
   "metadata": {
    "ExecuteTime": {
     "end_time": "2019-11-18T10:33:15.568479Z",
     "start_time": "2019-11-18T10:33:15.225447Z"
    },
    "hidden": true
   },
   "outputs": [
    {
     "data": {
      "image/png": "[encoded data removed]",
      "text/plain": [
       "<Figure size 640x480 with 1 Axes>"
      ]
     },
     "metadata": {},
     "output_type": "display_data"
    }
   ],
   "source": [
    "Z = linkage(X, 'ward')\n",
    "fancy_dendrogram(\n",
    "    Z,\n",
    "    truncate_mode='lastp',\n",
    "    p=8,\n",
    "    leaf_rotation=90.,\n",
    "    leaf_font_size=12.,\n",
    "    show_contracted=True,\n",
    "    annotate_above=1,  # useful in small plots so annotations don't overlap\n",
    ")\n",
    "plt.show()"
   ]
  },
  {
   "cell_type": "code",
   "execution_count": 79,
   "metadata": {
    "ExecuteTime": {
     "end_time": "2019-11-19T08:59:12.524261Z",
     "start_time": "2019-11-19T08:59:11.719064Z"
    },
    "hidden": true
   },
   "outputs": [
    {
     "data": {
      "image/png": "[encoded data removed]",
      "text/plain": [
       "<Figure size 640x480 with 1 Axes>"
      ]
     },
     "metadata": {},
     "output_type": "display_data"
    }
   ],
   "source": [
    "Z = linkage(X, 'average')\n",
    "fancy_dendrogram(\n",
    "    Z,\n",
    "    truncate_mode='lastp',\n",
    "    p=20,\n",
    "    leaf_rotation=90.,\n",
    "    leaf_font_size=12.,\n",
    "    show_contracted=True,\n",
    "    annotate_above=0.2,  # useful in small plots so annotations don't overlap\n",
    ")\n",
    "plt.show()"
   ]
  },
  {
   "cell_type": "code",
   "execution_count": 394,
   "metadata": {
    "ExecuteTime": {
     "end_time": "2019-11-18T18:00:32.987098Z",
     "start_time": "2019-11-18T18:00:32.985125Z"
    },
    "hidden": true
   },
   "outputs": [],
   "source": [
    "#levels[::-1]"
   ]
  },
  {
   "cell_type": "markdown",
   "metadata": {
    "heading_collapsed": true,
    "hidden": true
   },
   "source": [
    "## Sklearn examples"
   ]
  },
  {
   "cell_type": "code",
   "execution_count": null,
   "metadata": {
    "ExecuteTime": {
     "end_time": "2019-11-19T09:10:17.474071Z",
     "start_time": "2019-11-19T09:10:16.923201Z"
    },
    "hidden": true
   },
   "outputs": [],
   "source": [
    "linkage = \"ward\"\n",
    "clustering = AgglomerativeClustering(n_clusters=2, linkage=linkage).fit(X)\n",
    "lab = clustering.labels_\n",
    "colors = { 0:\"seagreen\", 1:'beige', 2:'yellow', 3:'grey', \n",
    "           4:'pink', 5:'navy', 6:'orange', 7:'purple', 8:'salmon', 9:'olive', 10:'brown',\n",
    "           11:'tan', 12: 'plum', 13:'red', 14:'lightblue', 15:\"khaki\", 16:\"gainsboro\", 17:\"peachpuff\"}\n",
    "plt.figure(figsize=(14,4))\n",
    "for i in range(len(X)):\n",
    "    plt.scatter(X[i,0], X[i,1], color=colors[lab[i]], s=300)\n",
    "plt.show()"
   ]
  },
  {
   "cell_type": "markdown",
   "metadata": {
    "heading_collapsed": true
   },
   "source": [
    "# CURE"
   ]
  },
  {
   "cell_type": "markdown",
   "metadata": {
    "hidden": true
   },
   "source": [
    "The clustering algorithm starts with each input point as a separate cluster, and at each successive step merges the closest pair of clusters. In order to compute the distance between a pair of clusters, for each cluster, $c$ representative points are stored. These are determined by first choosing $c$ well scattered points within the cluster, and then shrinking them toward the mean of the cluster by a fraction $\\alpha$. The distance between two clusters is then the distance between the closest pair of representative points - one belonging to each of the two clusters. Thus, only the representative points of a cluster are used to compute its distance from other clusters.\n",
    "\n",
    "The $c$ representative points attempt to capture the physical shape and geometry of the cluster. Furthermore, shrinking the scattered points toward the mean by a factor $c$ gets rid of surface abnormalities and mitigates the effects of outliers. The reason for this is that outliers typically will be further away from the cluster center, and as a result, the shrinking would cause outliers to move more toward the center while the remaining representative points would experience minimal shifts. The larger movements in the outliers would thus reduce their ability to cause the wrong clusters to be merged. The parameter $\\alpha$ can also be used to control the shapes of clusters. A smaller value of $\\alpha$ shrinks the scattered points very little and thus favors elongated clusters. On the other hand, with larger values of $\\alpha$, the scattered points get located closer to the mean, and clusters tend to be more compact.\n",
    "\n",
    "The HEAP update phase is not optimized in this version of the algorithm, see the paper to know more about optimization details.\n",
    "\n",
    "\n",
    "See the OPTIMIZATION paragraph for the optimized version for larger datasets.\n",
    "\n",
    "\n",
    "In this version, outliers are not taken into consideration; see the paper to know how to handle outliers."
   ]
  },
  {
   "cell_type": "markdown",
   "metadata": {
    "hidden": true
   },
   "source": [
    "## Functions"
   ]
  },
  {
   "cell_type": "code",
   "execution_count": 81,
   "metadata": {
    "ExecuteTime": {
     "end_time": "2019-11-24T12:35:36.508935Z",
     "start_time": "2019-11-24T12:35:36.457767Z"
    },
    "hidden": true
   },
   "outputs": [],
   "source": [
    "def point_plot_mod2(X, a, reps, level_txt, level2_txt=None, plot_lines=False, \n",
    "                    par_index=None, u=None, u_cl=None, initial_ind=None, last_reps=None,\n",
    "                    not_sampled=None, not_sampled_ind=None, n_rep_fin=None):\n",
    "    \n",
    "    if par_index is not None:\n",
    "        diz = dict(zip(par_index,[i for i in range(len(par_index))]))\n",
    "    \n",
    "    fig, ax = plt.subplots(figsize=(14,6))\n",
    "    \n",
    "    plt.scatter(X[:,0], X[:,1], s=300, color=\"lime\", edgecolor=\"black\")\n",
    "    \n",
    "    a = a.dropna(1, how=\"all\")\n",
    "    \n",
    "    colors = { 0:\"seagreen\", 1:'beige', 2:'yellow', 3:'grey', \n",
    "               4:'pink', 5:'turquoise', 6:'orange', 7:'purple', 8:'yellowgreen', 9:'olive', 10:'brown',\n",
    "               11:'tan', 12: 'plum', 13:'rosybrown', 14:'lightblue', 15:\"khaki\", 16:\"gainsboro\", 17:\"peachpuff\"}\n",
    "    \n",
    "    len_ind = [len(i.split(\"-\")) for i in list(a.index)]\n",
    "    start = np.min([i for i in range(len(len_ind)) if len_ind[i]>1])\n",
    "    \n",
    "    for ind,i in enumerate(range(start,len(a))):\n",
    "        point = a.iloc[i].name.replace(\"(\",\"\").replace(\")\",\"\").split(\"-\")\n",
    "        if par_index is not None:\n",
    "            for j in range(len(point)):\n",
    "                plt.scatter(X[diz[point[j]],0], X[diz[point[j]],1], s=350, color=colors[ind%18])\n",
    "        else:\n",
    "            point = [int(i) for i in point]\n",
    "            for j in range(len(point)):\n",
    "                plt.scatter(X[point[j],0], X[point[j],1], s=350, color=colors[ind%18])\n",
    "                \n",
    "    point = a.iloc[-1].name.replace(\"(\",\"\").replace(\")\",\"\").split(\"-\")\n",
    "    #print(point)\n",
    "    if par_index is not None:\n",
    "        point = [diz[point[i]] for i in range(len(point))]\n",
    "        com = X[point].mean(axis=0)\n",
    "    else:\n",
    "        point = [int(i) for i in point]\n",
    "        com = X[point].mean(axis=0)\n",
    "    \n",
    "    plt.scatter(com[0], com[1], s=400, color=\"r\", marker=\"X\", edgecolor=\"black\")\n",
    "    \n",
    "    #print(len(reps))\n",
    "    x_reps = [i[0] for i in reps]\n",
    "    y_reps = [i[1] for i in reps]\n",
    "    plt.scatter(x_reps, y_reps, s=360, color=\"r\", edgecolor=\"black\")\n",
    "    \n",
    "    if par_index is not None:\n",
    "        rect_min = X[point].min(axis=0)\n",
    "        rect_diff = X[point].max(axis=0)-rect_min\n",
    "    else:\n",
    "        rect_min = X[point].min(axis=0)\n",
    "        rect_diff = X[point].max(axis=0)-rect_min\n",
    "        \n",
    "    xmin, xmax, ymin, ymax = plt.axis()\n",
    "    xwidth = xmax - xmin\n",
    "    ywidth = ymax - ymin\n",
    "    \n",
    "    xx_rect = xwidth*0.015 #.05\n",
    "    #yy_rect = ywidth #.1\n",
    "    yy_rect = xx_rect*2\n",
    "    \n",
    "    if plot_lines == True:\n",
    "        plt.axvline(rect_min[0], color=\"black\")\n",
    "        plt.axvline(rect_diff[0]+rect_min[0], color=\"black\")\n",
    "        plt.axhline(rect_min[1], color=\"black\")\n",
    "        plt.axhline(rect_diff[1]+rect_min[1], color=\"black\")\n",
    "    \n",
    "    \n",
    "    plt.gcf().gca().add_patch(Rectangle((rect_min[0] - xx_rect, rect_min[1] - xx_rect), \n",
    "                                        rect_diff[0]+yy_rect, rect_diff[1]+yy_rect, fill=True, \n",
    "                                        color=colors[ind%14], alpha=0.1, linewidth=3, \n",
    "                                        ec=\"black\"))\n",
    "    plt.gcf().gca().add_patch(Rectangle((rect_min[0] - xx_rect, rect_min[1] - xx_rect), \n",
    "                                        rect_diff[0]+yy_rect, rect_diff[1]+yy_rect, fill=None, \n",
    "                                        color='r', alpha=1, linewidth=3 \n",
    "                                        ))\n",
    "    \n",
    "    xw1 = xwidth*0.009\n",
    "    yw1 = ywidth*0.015\n",
    "    \n",
    "    xw2 = xwidth*0.005\n",
    "    yw2 = ywidth*0.01\n",
    "    \n",
    "    xw3 = xwidth*0.01\n",
    "    yw3 = ywidth*0.01\n",
    "\n",
    "    if initial_ind is not None:\n",
    "        for i, txt in enumerate(initial_ind):\n",
    "            if len(str(txt))==2:\n",
    "                ax.annotate(txt, (X[:,0][i]-xw1, X[:,1][i]-yw1), fontsize=12, size=12)\n",
    "            elif len(str(txt))==1:\n",
    "                ax.annotate(txt, (X[:,0][i]-xw2, X[:,1][i]-yw2), fontsize=12, size=12)\n",
    "            else:\n",
    "                ax.annotate(txt, (X[:,0][i]-xw3, X[:,1][i]-yw3), fontsize=9, size=9)\n",
    "        \n",
    "    else:\n",
    "        for i, txt in enumerate([i for i in range(len(X))]):\n",
    "            if len(str(txt))==2:\n",
    "                ax.annotate(txt, (X[:,0][i]-xw1, X[:,1][i]-yw1), fontsize=12, size=12)\n",
    "            elif len(str(txt))==1:\n",
    "                ax.annotate(txt, (X[:,0][i]-xw2, X[:,1][i]-yw2), fontsize=12, size=12)\n",
    "            else:\n",
    "                ax.annotate(txt, (X[:,0][i]-xw3, X[:,1][i]-yw3), fontsize=9, size=9)\n",
    "            \n",
    "    ax.annotate(\"min_dist: \" + str(round(level_txt,5)), (xmax*0.75,ymax*0.9), fontsize=12, size=12)\n",
    "    \n",
    "    if level2_txt is not None:\n",
    "        ax.annotate(\"dist_incr: \" + str(round(level2_txt,5)), (xmax*0.75,ymax*0.8), fontsize=12, size=12)\n",
    "    \n",
    "    ax.annotate(\"n° clust: \" + str(len(a)), (xmax*0.75,ymax*0.7), fontsize=12, size=12)\n",
    "    \n",
    "    plt.show()\n",
    "    \n",
    "    \n",
    "    if last_reps is not None:\n",
    "        \n",
    "        fig, ax = plt.subplots(figsize=(14,6))\n",
    "    \n",
    "        plt.scatter(X[:,0], X[:,1], s=300, color=\"lime\", edgecolor=\"black\")\n",
    "        \n",
    "        coms = []\n",
    "        for ind,i in enumerate(range(start,len(a))):\n",
    "            point = a.iloc[i].name.replace(\"(\",\"\").replace(\")\",\"\").split(\"-\")\n",
    "            for j in range(len(point)):\n",
    "                plt.scatter(X[diz[point[j]],0], X[diz[point[j]],1], s=350, color=colors[ind%18])\n",
    "            point = [diz[point[i]] for i in range(len(point))]\n",
    "            coms.append(X[point].mean(axis=0))\n",
    "        \n",
    "        \n",
    "        colors_reps = [\"red\", \"crimson\",\"indianred\", \"lightcoral\", \"salmon\", \"darksalmon\", \"firebrick\"]\n",
    "        \n",
    "        flat_reps = [item for sublist in list(last_reps.values()) for item in sublist]\n",
    "                \n",
    "        for i in range(len(last_reps)):\n",
    "            x = [list(last_reps.values())[i][j][0] for j in range(n_rep_fin)]\n",
    "            y = [list(last_reps.values())[i][j][1] for j in range(n_rep_fin)]\n",
    "            \n",
    "            plt.scatter(x, y, s=400, color=colors_reps[i], edgecolor=\"black\")\n",
    "            plt.scatter(coms[i][0], coms[i][1], s=400, color=colors_reps[i], marker=\"X\", edgecolor=\"black\")\n",
    "            \n",
    "            for num in range(n_rep_fin):\n",
    "                plt.gcf().gca().add_artist(plt.Circle((x[num], y[num]), xwidth*0.03, \n",
    "                                                      color=colors_reps[i], fill=False, linewidth=3, alpha=0.7))\n",
    "            \n",
    "            plt.scatter(not_sampled[:,0], not_sampled[:,1], s=400, color=\"lime\", edgecolor=\"black\")\n",
    "        \n",
    "        for ind in range(len(not_sampled)):\n",
    "            dist_int = []\n",
    "            for el in flat_reps:\n",
    "                dist_int.append(dist1(not_sampled[ind], el))\n",
    "            ind_min = np.argmin(dist_int)\n",
    "            \n",
    "            plt.arrow(not_sampled[ind][0],not_sampled[ind][1], \n",
    "                      flat_reps[ind_min][0]-not_sampled[ind][0], flat_reps[ind_min][1]-not_sampled[ind][1],\n",
    "                      length_includes_head=True, head_width=0.03, head_length=0.05)\n",
    "            \n",
    "        for i, txt in enumerate(initial_ind):\n",
    "            if len(str(txt))==2:\n",
    "                ax.annotate(txt, (X[:,0][i]-xw1, X[:,1][i]-yw1), fontsize=12, size=12)\n",
    "            elif len(str(txt))==1:\n",
    "                ax.annotate(txt, (X[:,0][i]-xw2, X[:,1][i]-yw2), fontsize=12, size=12)\n",
    "            else:\n",
    "                ax.annotate(txt, (X[:,0][i]-xw3, X[:,1][i]-yw3), fontsize=9, size=9)\n",
    "        \n",
    "        if not_sampled_ind is not None:\n",
    "            for i, txt in enumerate(not_sampled_ind):\n",
    "                if len(str(txt))==2:\n",
    "                    ax.annotate(txt, (not_sampled[:,0][i]-xw1, not_sampled[:,1][i]-yw1), fontsize=12, size=12)\n",
    "                elif len(str(txt))==1:\n",
    "                    ax.annotate(txt, (not_sampled[:,0][i]-xw2, not_sampled[:,1][i]-yw2), fontsize=12, size=12)\n",
    "                else:\n",
    "                    ax.annotate(txt, (not_sampled[:,0][i]-xw3, not_sampled[:,1][i]-yw3), fontsize=9, size=9)\n",
    "            \n",
    "        plt.show()\n",
    "    \n",
    "    if par_index is not None:\n",
    "\n",
    "        diz[\"(\" + u + \")\" + \"-\" + \"(\" + u_cl + \")\"] = len(diz)\n",
    "        list_keys_diz = list(diz.keys())\n",
    "        #diz = dict(zip(list_new,[i for i in range(len(list_new))]))\n",
    "        \n",
    "        return list_keys_diz      "
   ]
  },
  {
   "cell_type": "code",
   "execution_count": 38,
   "metadata": {
    "ExecuteTime": {
     "end_time": "2019-11-24T11:33:00.539621Z",
     "start_time": "2019-11-24T11:33:00.531818Z"
    },
    "hidden": true
   },
   "outputs": [],
   "source": [
    "def dist_clust_cure(rep_u, rep_v):\n",
    "    rep_u = np.array(rep_u)\n",
    "    rep_v = np.array(rep_v)\n",
    "    distances = []\n",
    "    for i in rep_u:\n",
    "        for j in rep_v:\n",
    "            #print(i,j)\n",
    "            distances.append(dist1(i,j))\n",
    "    return np.min(distances)"
   ]
  },
  {
   "cell_type": "code",
   "execution_count": 39,
   "metadata": {
    "ExecuteTime": {
     "end_time": "2019-11-24T11:33:00.787684Z",
     "start_time": "2019-11-24T11:33:00.780009Z"
    },
    "hidden": true
   },
   "outputs": [],
   "source": [
    "def update_mat_cure(mat,i,j, rep_new, name):\n",
    "    \n",
    "    a1 = mat.loc[i]\n",
    "    b1 = mat.loc[j]\n",
    "    \n",
    "    key_lists = list(rep_new.keys())\n",
    "    #print(len(key_lists))\n",
    "    \n",
    "    vec = []\n",
    "    for i in range(len(mat)):\n",
    "        #print(i)\n",
    "        vec.append(dist_clust_cure(rep_new[name], rep_new[key_lists[i]]))\n",
    "        \n",
    "\n",
    "    mat.loc[\"(\"+a1.name+\")\"+\"-\"+\"(\"+b1.name+\")\",:] = vec\n",
    "    mat[\"(\"+a1.name+\")\"+\"-\"+\"(\"+b1.name+\")\"] = vec + [np.inf]\n",
    "    \n",
    "    mat = mat.drop([a1.name,b1.name], 0)\n",
    "    mat = mat.drop([a1.name,b1.name], 1)\n",
    "    \n",
    "    return mat    "
   ]
  },
  {
   "cell_type": "code",
   "execution_count": 40,
   "metadata": {
    "ExecuteTime": {
     "end_time": "2019-11-24T11:33:01.003012Z",
     "start_time": "2019-11-24T11:33:00.990821Z"
    },
    "hidden": true
   },
   "outputs": [],
   "source": [
    "def sel_rep(clusters, name, c, alpha):\n",
    "    \n",
    "    if len(clusters[name]) <= c:\n",
    "        \n",
    "        others = clusters[name]\n",
    "        com = np.mean(clusters[name], axis=0)\n",
    "        \n",
    "        for i in range(len(others)):\n",
    "            others[i] = others[i] + alpha*(com - others[i])\n",
    "        \n",
    "        return others\n",
    "\n",
    "    else:\n",
    "\n",
    "        others = []\n",
    "        indexes = []\n",
    "\n",
    "        points = clusters[name]\n",
    "        com = np.mean(points, axis=0)\n",
    "\n",
    "        distances_com = {i : dist1(points[i], com) for i in range(len(points))}\n",
    "        index = max(distances_com, key=distances_com.get)\n",
    "\n",
    "        indexes.append(index)\n",
    "        others.append(np.array(points[index])) # first point    \n",
    "\n",
    "        for step in range(min(c-1,len(points)-1)):\n",
    "            partial_distances = {str(i): [] for i in range(len(points))}\n",
    "            for i in range(len(points)):\n",
    "                if i not in indexes:\n",
    "                    for k in range(len(others)):\n",
    "                        #print(partial_distances)\n",
    "                        partial_distances[str(i)].append([dist1(points[i], np.array(others[k]))])\n",
    "            partial_distances = dict((k, [np.sum(v)]) for k,v in partial_distances.items())\n",
    "            index2 = max(partial_distances, key=partial_distances.get)\n",
    "            indexes.append(int(index2))\n",
    "            others.append(points[int(index2)])\n",
    "\n",
    "        for i in range(len(others)):\n",
    "            others[i] = others[i] + alpha*(com - others[i])\n",
    "\n",
    "        return others"
   ]
  },
  {
   "cell_type": "code",
   "execution_count": 41,
   "metadata": {
    "ExecuteTime": {
     "end_time": "2019-11-24T11:33:01.322403Z",
     "start_time": "2019-11-24T11:33:01.309464Z"
    },
    "hidden": true
   },
   "outputs": [],
   "source": [
    "def sel_rep_fast(prec_reps, clusters, name, c, alpha):\n",
    "    \n",
    "    com = np.mean(clusters[name], axis=0)\n",
    "    \n",
    "    if len(prec_reps) <= c:\n",
    "        \n",
    "        others = prec_reps\n",
    "        for i in range(len(others)):\n",
    "            others[i] = others[i] + alpha*(com - others[i])\n",
    "        \n",
    "        return others\n",
    "\n",
    "    else:\n",
    "\n",
    "        others = []\n",
    "        indexes = []\n",
    "\n",
    "        points = prec_reps\n",
    "        \n",
    "        distances_com = {i : dist1(points[i], com) for i in range(len(points))}\n",
    "        index = max(distances_com, key=distances_com.get)\n",
    "\n",
    "        indexes.append(index)\n",
    "        others.append(np.array(points[index])) # first point    \n",
    "\n",
    "        for step in range(min(c-1,len(points)-1)):\n",
    "            partial_distances = {str(i): [] for i in range(len(points))}\n",
    "            for i in range(len(points)):\n",
    "                if i not in indexes:\n",
    "                    for k in range(len(others)):\n",
    "                        #print(partial_distances)\n",
    "                        partial_distances[str(i)].append([dist1(points[i], np.array(others[k]))])\n",
    "            partial_distances = dict((k, [np.sum(v)]) for k,v in partial_distances.items())\n",
    "            index2 = max(partial_distances, key=partial_distances.get)\n",
    "            indexes.append(int(index2))\n",
    "            others.append(points[int(index2)])\n",
    "\n",
    "        for i in range(len(others)):\n",
    "            others[i] = others[i] + alpha*(com - others[i])\n",
    "\n",
    "        return others"
   ]
  },
  {
   "cell_type": "markdown",
   "metadata": {
    "heading_collapsed": true,
    "hidden": true
   },
   "source": [
    "## Algorithm"
   ]
  },
  {
   "cell_type": "code",
   "execution_count": 86,
   "metadata": {
    "ExecuteTime": {
     "end_time": "2019-11-24T12:45:40.078905Z",
     "start_time": "2019-11-24T12:45:40.033837Z"
    },
    "hidden": true
   },
   "outputs": [],
   "source": [
    "def cure(X, k, c=3, alpha=0.1, plotting=True, preprocessed_data = None, \n",
    "         partial_index = None, n_rep_finalclust=None, not_sampled=None, not_sampled_ind=None):\n",
    "    \n",
    "    if preprocessed_data is None:\n",
    "        l = [[i,i] for i in range(len(X))]\n",
    "        flat_list = [item for sublist in l for item in sublist]\n",
    "        col = [str(el)+\"x\" if i%2==0 else str(el)+\"y\" for i, el in enumerate(flat_list)]\n",
    "        \n",
    "        if partial_index is not None:\n",
    "            a = pd.DataFrame(index = partial_index, columns = col)\n",
    "        else:\n",
    "            a = pd.DataFrame(index = [str(i) for i in range(len(X))], columns = col)\n",
    "        \n",
    "        a[\"0x\"]=X.T[0]\n",
    "        a[\"0y\"]=X.T[1]\n",
    "        \n",
    "        b = a.dropna(axis=1, how=\"all\")\n",
    "\n",
    "        # initial clusters\n",
    "        #clusters = {str(i):X[i] for i in range(len(X))}\n",
    "        if partial_index is not None:\n",
    "            clusters = dict(zip(partial_index, X))\n",
    "        else:\n",
    "            clusters = {str(i): np.array(X[i]) for i in range(len(X))}\n",
    "\n",
    "        # build Xdist\n",
    "        X_dist1 = dist_mat_gen(b)\n",
    "\n",
    "        #initialize representatives\n",
    "        if partial_index is not None:\n",
    "            rep = {partial_index[i]: [X[int(i)]] for i in range(len(X))}\n",
    "        else:\n",
    "            rep = {str(i): [X[i]] for i in range(len(X))}\n",
    "\n",
    "        #just as placeholder for while loop\n",
    "        heap = [1]*len(X_dist1)\n",
    "\n",
    "        # store minimum distances between clusters for each iteration\n",
    "        levels = []\n",
    "    \n",
    "    else:\n",
    "\n",
    "        clusters = preprocessed_data[0]\n",
    "        rep = preprocessed_data[1]\n",
    "        a = preprocessed_data[2]\n",
    "        X_dist1 = preprocessed_data[3]\n",
    "        heap = [1]*len(X_dist1)\n",
    "        levels = []\n",
    "    \n",
    "    if partial_index is not None:\n",
    "        initial_index = deepcopy(partial_index)\n",
    "        \n",
    "    while len(heap) > k:\n",
    "        #print(len(heap))\n",
    "\n",
    "        list_argmin = list(X_dist1.apply(lambda x: np.argmin(x)).values)\n",
    "        list_min = list(X_dist1.min(axis=0).values)\n",
    "        heap = dict(zip(list(X_dist1.index), list_min))\n",
    "        heap = dict(OrderedDict(sorted(heap.items(), key=lambda kv: kv[1])))\n",
    "        closest = dict(zip(list(X_dist1.index), list_argmin))\n",
    "\n",
    "        #get minimum key and delete it\n",
    "        u = min(heap, key=heap.get)\n",
    "        levels.append(heap[u])\n",
    "        del heap[u]\n",
    "        u_cl = closest[u]\n",
    "        del closest[u]\n",
    "\n",
    "        #form the new cluster\n",
    "        if (np.array(clusters[u]).shape == (2,)) and (np.array(clusters[u_cl]).shape == (2,)):\n",
    "            w = [clusters[u],clusters[u_cl]]\n",
    "        elif (np.array(clusters[u]).shape != (2,)) and (np.array(clusters[u_cl]).shape == (2,)):\n",
    "            clusters[u].append(clusters[u_cl])\n",
    "            w = clusters[u]\n",
    "        elif (np.array(clusters[u]).shape == (2,)) and (np.array(clusters[u_cl]).shape != (2,)):\n",
    "            clusters[u_cl].append(clusters[u])\n",
    "            w = clusters[u_cl]\n",
    "        else:\n",
    "            w = clusters[u] + clusters[u_cl]\n",
    "\n",
    "        #delete old cluster\n",
    "        del clusters[u]\n",
    "        del clusters[u_cl]\n",
    "\n",
    "        name = \"(\" + u + \")\" + \"-\" + \"(\" + u_cl + \")\"\n",
    "        clusters[name] = w\n",
    "\n",
    "        #update representatives\n",
    "        rep[name] = sel_rep_fast(rep[u] + rep[u_cl], clusters, name, c, alpha)\n",
    "        \n",
    "        #update distance matrix\n",
    "        X_dist1 = update_mat_cure(X_dist1, u, u_cl, rep, name)\n",
    "\n",
    "        del rep[u]\n",
    "        del rep[u_cl]\n",
    "        \n",
    "        if plotting == True:\n",
    "            \n",
    "            dim1 = int(a.loc[u].notna().sum())\n",
    "        \n",
    "            a.loc[\"(\"+u+\")\"+\"-\"+\"(\"+u_cl+\")\",:] = a.loc[u].fillna(0) + a.loc[u_cl].shift(dim1, fill_value=0)\n",
    "            a = a.drop(u,0)\n",
    "            a = a.drop(u_cl,0)\n",
    "\n",
    "            if partial_index is not None:\n",
    "                \n",
    "                if (len(heap) == k) and (not_sampled is not None) and (not_sampled_ind is not None):\n",
    "                    #print(rep)\n",
    "                    final_reps = {list(rep.keys())[i] : random.sample(list(rep.values())[i], n_rep_finalclust) for i in range(len(rep))}\n",
    "                    partial_index = point_plot_mod2(X=X, a=a, reps=rep[name], \n",
    "                                                level_txt=levels[-1], par_index=partial_index, \n",
    "                                                u=u, u_cl=u_cl, initial_ind = initial_index, \n",
    "                                                last_reps= final_reps, not_sampled=not_sampled,\n",
    "                                                not_sampled_ind = not_sampled_ind, n_rep_fin=n_rep_finalclust)\n",
    "                else:\n",
    "                    partial_index = point_plot_mod2(X=X, a=a, reps=rep[name], \n",
    "                                                level_txt=levels[-1], par_index=partial_index, \n",
    "                                                u=u, u_cl=u_cl, initial_ind = initial_index) \n",
    "            else:\n",
    "                point_plot_mod2(X, a, rep[name], levels[-1])\n",
    "                \n",
    "    return (clusters, rep, a)"
   ]
  },
  {
   "cell_type": "markdown",
   "metadata": {
    "heading_collapsed": true,
    "hidden": true
   },
   "source": [
    "## Plot"
   ]
  },
  {
   "cell_type": "code",
   "execution_count": 65,
   "metadata": {
    "ExecuteTime": {
     "end_time": "2019-11-22T09:04:05.234268Z",
     "start_time": "2019-11-22T09:04:05.230625Z"
    },
    "hidden": true,
    "scrolled": true
   },
   "outputs": [],
   "source": [
    "#clusters, rep, mat_a= cure(X,2, c=4, alpha=0.6)"
   ]
  },
  {
   "cell_type": "code",
   "execution_count": 63,
   "metadata": {
    "ExecuteTime": {
     "end_time": "2019-11-22T09:03:47.124738Z",
     "start_time": "2019-11-22T09:03:47.121458Z"
    },
    "hidden": true
   },
   "outputs": [],
   "source": [
    "#clusters, rep, mat_a = cure(varied,3, c=4, alpha=0.5, plotting=True)"
   ]
  },
  {
   "cell_type": "code",
   "execution_count": 69,
   "metadata": {
    "ExecuteTime": {
     "end_time": "2019-11-22T09:07:27.964829Z",
     "start_time": "2019-11-22T09:07:27.961964Z"
    },
    "hidden": true,
    "scrolled": true
   },
   "outputs": [],
   "source": [
    "#clusters, rep, mat_a = cure(varied,3, c=7, alpha=0.85, plotting=False)"
   ]
  },
  {
   "cell_type": "code",
   "execution_count": 68,
   "metadata": {
    "ExecuteTime": {
     "end_time": "2019-11-22T09:07:25.712740Z",
     "start_time": "2019-11-22T09:07:25.707154Z"
    },
    "hidden": true
   },
   "outputs": [],
   "source": [
    "def plot_results_cure(clust, k):\n",
    "    cl_list = []\n",
    "    for num_clust in range(k):\n",
    "        cl_list.append(np.array(clust[list(clust.keys())[num_clust]]))\n",
    "        try:\n",
    "            plt.scatter(cl_list[-1][:,0], cl_list[-1][:,1])\n",
    "        except:\n",
    "            plt.scatter(cl_list[-1][0], cl_list[-1][1])\n",
    "    plt.show()\n",
    "\n",
    "#plot_results_cure(clusters, 3)"
   ]
  },
  {
   "cell_type": "markdown",
   "metadata": {
    "heading_collapsed": true,
    "hidden": true
   },
   "source": [
    "## Tests"
   ]
  },
  {
   "cell_type": "code",
   "execution_count": 121,
   "metadata": {
    "ExecuteTime": {
     "end_time": "2019-11-21T09:25:01.869725Z",
     "start_time": "2019-11-21T09:24:59.268853Z"
    },
    "hidden": true,
    "scrolled": true
   },
   "outputs": [],
   "source": [
    "l = [[i,i] for i in range(len(X))]\n",
    "flat_list = [item for sublist in l for item in sublist]\n",
    "col = [str(el)+\"x\" if i%2==0 else str(el)+\"y\" for i, el in enumerate(flat_list)]\n",
    "a = pd.DataFrame(index=[str(i) for i in range(len(X))], columns=col)\n",
    "a[\"0x\"]=X.T[0]\n",
    "a[\"0y\"]=X.T[1]\n",
    "b = a.dropna(axis=1, how=\"all\")\n",
    "\n",
    "# initial clusters\n",
    "even_num = [i for i in range(2,len(X)+1) if i%2==0]\n",
    "#clusters = {str(i):X[i] for i in range(len(X))}\n",
    "clusters = {str(i):np.array(X[i]) for i in range(len(X))} #list instead of np.array\n",
    "\n",
    "# build heap\n",
    "X_dist1 = dist_mat_gen(b)\n",
    "\n",
    "#initialize representatives\n",
    "rep = {str(i): [X[i]] for i in range(len(X))}\n",
    "\n",
    "#just as placeholder for while loop\n",
    "heap = [1]*len(X_dist1)"
   ]
  },
  {
   "cell_type": "code",
   "execution_count": 122,
   "metadata": {
    "ExecuteTime": {
     "end_time": "2019-11-21T09:25:01.891124Z",
     "start_time": "2019-11-21T09:25:01.872867Z"
    },
    "hidden": true
   },
   "outputs": [],
   "source": [
    "list_argmin = list(X_dist1.apply(lambda x: np.argmin(x)).values)\n",
    "list_min = list(X_dist1.min(axis=0).values)\n",
    "heap = dict(zip(list(X_dist1.index), list_min))\n",
    "heap = dict(OrderedDict(sorted(heap.items(), key=lambda kv: kv[1])))\n",
    "closest = dict(zip(list(X_dist1.index), list_argmin))"
   ]
  },
  {
   "cell_type": "code",
   "execution_count": 123,
   "metadata": {
    "ExecuteTime": {
     "end_time": "2019-11-21T09:25:02.478850Z",
     "start_time": "2019-11-21T09:25:02.469426Z"
    },
    "hidden": true,
    "scrolled": true
   },
   "outputs": [
    {
     "data": {
      "text/html": [
       "<div>\n",
       "<style scoped>\n",
       "    .dataframe tbody tr th:only-of-type {\n",
       "        vertical-align: middle;\n",
       "    }\n",
       "\n",
       "    .dataframe tbody tr th {\n",
       "        vertical-align: top;\n",
       "    }\n",
       "\n",
       "    .dataframe thead th {\n",
       "        text-align: right;\n",
       "    }\n",
       "</style>\n",
       "<table border=\"1\" class=\"dataframe\">\n",
       "  <thead>\n",
       "    <tr style=\"text-align: right;\">\n",
       "      <th></th>\n",
       "      <th>0</th>\n",
       "    </tr>\n",
       "  </thead>\n",
       "  <tbody>\n",
       "    <tr>\n",
       "      <td>38</td>\n",
       "      <td>0.012074</td>\n",
       "    </tr>\n",
       "    <tr>\n",
       "      <td>58</td>\n",
       "      <td>0.012074</td>\n",
       "    </tr>\n",
       "    <tr>\n",
       "      <td>40</td>\n",
       "      <td>0.017342</td>\n",
       "    </tr>\n",
       "    <tr>\n",
       "      <td>63</td>\n",
       "      <td>0.017342</td>\n",
       "    </tr>\n",
       "    <tr>\n",
       "      <td>51</td>\n",
       "      <td>0.019027</td>\n",
       "    </tr>\n",
       "  </tbody>\n",
       "</table>\n",
       "</div>"
      ],
      "text/plain": [
       "           0\n",
       "38  0.012074\n",
       "58  0.012074\n",
       "40  0.017342\n",
       "63  0.017342\n",
       "51  0.019027"
      ]
     },
     "execution_count": 123,
     "metadata": {},
     "output_type": "execute_result"
    }
   ],
   "source": [
    "#heap\n",
    "pd.DataFrame(heap.values(), index=heap.keys()).head()"
   ]
  },
  {
   "cell_type": "code",
   "execution_count": 124,
   "metadata": {
    "ExecuteTime": {
     "end_time": "2019-11-21T09:25:04.788956Z",
     "start_time": "2019-11-21T09:25:04.783048Z"
    },
    "hidden": true
   },
   "outputs": [
    {
     "name": "stdout",
     "output_type": "stream",
     "text": [
      "38\n",
      "0.012074170168487662\n",
      "58\n"
     ]
    }
   ],
   "source": [
    "u = min(heap, key=heap.get)\n",
    "print(u)\n",
    "print(heap[u])\n",
    "zzz = heap[u]\n",
    "del heap[u]\n",
    "u_cl = closest[u]\n",
    "del closest[u]\n",
    "print(u_cl)"
   ]
  },
  {
   "cell_type": "code",
   "execution_count": 1844,
   "metadata": {
    "ExecuteTime": {
     "end_time": "2019-11-20T13:59:54.425749Z",
     "start_time": "2019-11-20T13:59:54.422796Z"
    },
    "hidden": true
   },
   "outputs": [],
   "source": [
    "#zzz"
   ]
  },
  {
   "cell_type": "code",
   "execution_count": 125,
   "metadata": {
    "ExecuteTime": {
     "end_time": "2019-11-21T09:25:07.341786Z",
     "start_time": "2019-11-21T09:25:07.332167Z"
    },
    "hidden": true
   },
   "outputs": [
    {
     "name": "stdout",
     "output_type": "stream",
     "text": [
      "[array([0.08080641, 0.29285479]), array([0.07722699, 0.28132338])]\n"
     ]
    }
   ],
   "source": [
    "if (np.array(clusters[u]).shape == (2,)) and (np.array(clusters[u_cl]).shape == (2,)):\n",
    "    w = [clusters[u],clusters[u_cl]]\n",
    "elif (np.array(clusters[u]).shape != (2,)) and (np.array(clusters[u_cl]).shape == (2,)):\n",
    "    clusters[u].append(clusters[u_cl])\n",
    "    w = clusters[u]\n",
    "elif (np.array(clusters[u]).shape == (2,)) and (np.array(clusters[u_cl]).shape != (2,)):\n",
    "    clusters[u_cl].append(clusters[u])\n",
    "    w = clusters[u_cl]\n",
    "else:\n",
    "    w = clusters[u] + clusters[u_cl]\n",
    "print(w)"
   ]
  },
  {
   "cell_type": "code",
   "execution_count": 126,
   "metadata": {
    "ExecuteTime": {
     "end_time": "2019-11-21T09:25:08.137385Z",
     "start_time": "2019-11-21T09:25:08.131092Z"
    },
    "hidden": true
   },
   "outputs": [
    {
     "name": "stdout",
     "output_type": "stream",
     "text": [
      "(38)-(58)\n",
      "['38']\n",
      "['58']\n"
     ]
    }
   ],
   "source": [
    "del clusters[u]\n",
    "del clusters[u_cl]\n",
    "\n",
    "name = \"(\" + u + \")\" + \"-\" + \"(\" + u_cl + \")\"\n",
    "clusters[name] = w\n",
    "print(name)\n",
    "    \n",
    "clean_u = u.replace(\"(\",\"\").replace(\")\",\"\").split(\"-\")\n",
    "clean_ucl = u_cl.replace(\"(\",\"\").replace(\")\",\"\").split(\"-\")\n",
    "print(clean_u)\n",
    "print(clean_ucl)"
   ]
  },
  {
   "cell_type": "code",
   "execution_count": 1847,
   "metadata": {
    "ExecuteTime": {
     "end_time": "2019-11-20T13:59:55.977009Z",
     "start_time": "2019-11-20T13:59:55.973989Z"
    },
    "hidden": true,
    "scrolled": true
   },
   "outputs": [],
   "source": [
    "#rep"
   ]
  },
  {
   "cell_type": "code",
   "execution_count": 127,
   "metadata": {
    "ExecuteTime": {
     "end_time": "2019-11-21T09:25:10.702155Z",
     "start_time": "2019-11-21T09:25:10.695211Z"
    },
    "hidden": true
   },
   "outputs": [
    {
     "data": {
      "text/plain": [
       "[array([0.08080641, 0.29285479]), array([0.07722699, 0.28132338])]"
      ]
     },
     "execution_count": 127,
     "metadata": {},
     "output_type": "execute_result"
    }
   ],
   "source": [
    "rep[u] + rep[u_cl]"
   ]
  },
  {
   "cell_type": "code",
   "execution_count": 128,
   "metadata": {
    "ExecuteTime": {
     "end_time": "2019-11-21T09:25:11.819290Z",
     "start_time": "2019-11-21T09:25:11.815455Z"
    },
    "hidden": true
   },
   "outputs": [],
   "source": [
    "#rep[u_cl]"
   ]
  },
  {
   "cell_type": "code",
   "execution_count": 130,
   "metadata": {
    "ExecuteTime": {
     "end_time": "2019-11-21T09:25:26.823642Z",
     "start_time": "2019-11-21T09:25:26.818578Z"
    },
    "hidden": true
   },
   "outputs": [
    {
     "name": "stdout",
     "output_type": "stream",
     "text": [
      "[array([0.07991156, 0.28997194]), array([0.07812184, 0.28420623])]\n"
     ]
    }
   ],
   "source": [
    "rep[name] = sel_rep_fast(rep[u] + rep[u_cl], clusters, name, c=3, alpha=0.5)\n",
    "print(rep[name])"
   ]
  },
  {
   "cell_type": "code",
   "execution_count": 1851,
   "metadata": {
    "ExecuteTime": {
     "end_time": "2019-11-20T13:59:58.284081Z",
     "start_time": "2019-11-20T13:59:58.281238Z"
    },
    "hidden": true,
    "scrolled": true
   },
   "outputs": [],
   "source": [
    "#rep[name]"
   ]
  },
  {
   "cell_type": "code",
   "execution_count": 131,
   "metadata": {
    "ExecuteTime": {
     "end_time": "2019-11-21T09:25:32.200790Z",
     "start_time": "2019-11-21T09:25:32.188570Z"
    },
    "hidden": true,
    "scrolled": true
   },
   "outputs": [],
   "source": [
    "#X_dist1 = dist_mat_gen(b)\n",
    "X_dist1 = update_mat_cure(X_dist1, u, u_cl, rep, name)\n",
    "del rep[u]\n",
    "del rep[u_cl]"
   ]
  },
  {
   "cell_type": "code",
   "execution_count": 132,
   "metadata": {
    "ExecuteTime": {
     "end_time": "2019-11-21T09:25:33.544839Z",
     "start_time": "2019-11-21T09:25:33.521063Z"
    },
    "hidden": true
   },
   "outputs": [
    {
     "data": {
      "text/html": [
       "<div>\n",
       "<style scoped>\n",
       "    .dataframe tbody tr th:only-of-type {\n",
       "        vertical-align: middle;\n",
       "    }\n",
       "\n",
       "    .dataframe tbody tr th {\n",
       "        vertical-align: top;\n",
       "    }\n",
       "\n",
       "    .dataframe thead th {\n",
       "        text-align: right;\n",
       "    }\n",
       "</style>\n",
       "<table border=\"1\" class=\"dataframe\">\n",
       "  <thead>\n",
       "    <tr style=\"text-align: right;\">\n",
       "      <th></th>\n",
       "      <th>0</th>\n",
       "      <th>1</th>\n",
       "      <th>2</th>\n",
       "      <th>3</th>\n",
       "      <th>4</th>\n",
       "      <th>5</th>\n",
       "      <th>6</th>\n",
       "      <th>7</th>\n",
       "      <th>8</th>\n",
       "      <th>9</th>\n",
       "      <th>...</th>\n",
       "      <th>71</th>\n",
       "      <th>72</th>\n",
       "      <th>73</th>\n",
       "      <th>74</th>\n",
       "      <th>75</th>\n",
       "      <th>76</th>\n",
       "      <th>77</th>\n",
       "      <th>78</th>\n",
       "      <th>79</th>\n",
       "      <th>(38)-(58)</th>\n",
       "    </tr>\n",
       "  </thead>\n",
       "  <tbody>\n",
       "    <tr>\n",
       "      <td>78</td>\n",
       "      <td>1.126888</td>\n",
       "      <td>1.094488</td>\n",
       "      <td>0.613283</td>\n",
       "      <td>1.127293</td>\n",
       "      <td>0.306036</td>\n",
       "      <td>0.976255</td>\n",
       "      <td>0.341137</td>\n",
       "      <td>1.715581</td>\n",
       "      <td>0.786730</td>\n",
       "      <td>0.205327</td>\n",
       "      <td>...</td>\n",
       "      <td>0.533581</td>\n",
       "      <td>0.991059</td>\n",
       "      <td>0.641317</td>\n",
       "      <td>1.687315</td>\n",
       "      <td>0.406259</td>\n",
       "      <td>1.500166</td>\n",
       "      <td>1.746344</td>\n",
       "      <td>inf</td>\n",
       "      <td>1.105982</td>\n",
       "      <td>0.631952</td>\n",
       "    </tr>\n",
       "    <tr>\n",
       "      <td>79</td>\n",
       "      <td>1.394129</td>\n",
       "      <td>0.663887</td>\n",
       "      <td>1.406828</td>\n",
       "      <td>1.451051</td>\n",
       "      <td>1.265912</td>\n",
       "      <td>1.472510</td>\n",
       "      <td>0.999541</td>\n",
       "      <td>1.300147</td>\n",
       "      <td>0.869618</td>\n",
       "      <td>1.135055</td>\n",
       "      <td>...</td>\n",
       "      <td>1.391860</td>\n",
       "      <td>0.696990</td>\n",
       "      <td>1.396099</td>\n",
       "      <td>1.526665</td>\n",
       "      <td>1.266430</td>\n",
       "      <td>0.701008</td>\n",
       "      <td>1.474039</td>\n",
       "      <td>1.105982</td>\n",
       "      <td>inf</td>\n",
       "      <td>0.619322</td>\n",
       "    </tr>\n",
       "    <tr>\n",
       "      <td>(38)-(58)</td>\n",
       "      <td>0.859847</td>\n",
       "      <td>0.985945</td>\n",
       "      <td>0.785773</td>\n",
       "      <td>0.901636</td>\n",
       "      <td>0.687278</td>\n",
       "      <td>0.876730</td>\n",
       "      <td>0.724423</td>\n",
       "      <td>1.692823</td>\n",
       "      <td>0.914150</td>\n",
       "      <td>0.758222</td>\n",
       "      <td>...</td>\n",
       "      <td>0.778128</td>\n",
       "      <td>0.937679</td>\n",
       "      <td>0.773285</td>\n",
       "      <td>1.804309</td>\n",
       "      <td>0.662529</td>\n",
       "      <td>1.237347</td>\n",
       "      <td>1.805606</td>\n",
       "      <td>0.631952</td>\n",
       "      <td>0.619322</td>\n",
       "      <td>inf</td>\n",
       "    </tr>\n",
       "  </tbody>\n",
       "</table>\n",
       "<p>3 rows × 79 columns</p>\n",
       "</div>"
      ],
      "text/plain": [
       "                  0         1         2         3         4         5  \\\n",
       "78         1.126888  1.094488  0.613283  1.127293  0.306036  0.976255   \n",
       "79         1.394129  0.663887  1.406828  1.451051  1.265912  1.472510   \n",
       "(38)-(58)  0.859847  0.985945  0.785773  0.901636  0.687278  0.876730   \n",
       "\n",
       "                  6         7         8         9  ...        71        72  \\\n",
       "78         0.341137  1.715581  0.786730  0.205327  ...  0.533581  0.991059   \n",
       "79         0.999541  1.300147  0.869618  1.135055  ...  1.391860  0.696990   \n",
       "(38)-(58)  0.724423  1.692823  0.914150  0.758222  ...  0.778128  0.937679   \n",
       "\n",
       "                 73        74        75        76        77        78  \\\n",
       "78         0.641317  1.687315  0.406259  1.500166  1.746344       inf   \n",
       "79         1.396099  1.526665  1.266430  0.701008  1.474039  1.105982   \n",
       "(38)-(58)  0.773285  1.804309  0.662529  1.237347  1.805606  0.631952   \n",
       "\n",
       "                 79  (38)-(58)  \n",
       "78         1.105982   0.631952  \n",
       "79              inf   0.619322  \n",
       "(38)-(58)  0.619322        inf  \n",
       "\n",
       "[3 rows x 79 columns]"
      ]
     },
     "execution_count": 132,
     "metadata": {},
     "output_type": "execute_result"
    }
   ],
   "source": [
    "X_dist1.tail(3)"
   ]
  },
  {
   "cell_type": "code",
   "execution_count": 133,
   "metadata": {
    "ExecuteTime": {
     "end_time": "2019-11-21T09:25:55.538435Z",
     "start_time": "2019-11-21T09:25:55.473229Z"
    },
    "hidden": true
   },
   "outputs": [],
   "source": [
    "dim1 = int(a.loc[u].notna().sum())\n",
    "\n",
    "a.loc[\"(\"+u+\")\"+\"-\"+\"(\"+u_cl+\")\",:] = \\\n",
    "        a.loc[u].fillna(0) + a.loc[u_cl].shift(dim1, fill_value=0)"
   ]
  },
  {
   "cell_type": "code",
   "execution_count": 134,
   "metadata": {
    "ExecuteTime": {
     "end_time": "2019-11-21T09:25:55.781126Z",
     "start_time": "2019-11-21T09:25:55.775577Z"
    },
    "hidden": true
   },
   "outputs": [],
   "source": [
    "a = a.drop(u,0)\n",
    "a = a.drop(u_cl,0)"
   ]
  },
  {
   "cell_type": "code",
   "execution_count": 1810,
   "metadata": {
    "ExecuteTime": {
     "end_time": "2019-11-20T13:59:21.847970Z",
     "start_time": "2019-11-20T13:59:21.844018Z"
    },
    "hidden": true
   },
   "outputs": [],
   "source": [
    "#a"
   ]
  },
  {
   "cell_type": "markdown",
   "metadata": {
    "ExecuteTime": {
     "end_time": "2019-11-20T13:56:26.624181Z",
     "start_time": "2019-11-20T13:56:26.619422Z"
    },
    "heading_collapsed": true,
    "hidden": true
   },
   "source": [
    "## Optimization for Large Datasets"
   ]
  },
  {
   "cell_type": "markdown",
   "metadata": {
    "heading_collapsed": true,
    "hidden": true
   },
   "source": [
    "### Choosing sampling size "
   ]
  },
  {
   "cell_type": "code",
   "execution_count": 44,
   "metadata": {
    "ExecuteTime": {
     "end_time": "2019-11-24T11:33:18.899991Z",
     "start_time": "2019-11-24T11:33:18.894516Z"
    },
    "hidden": true
   },
   "outputs": [],
   "source": [
    "# u_min: size of the smallest cluster u, f: percentage of cluster points (0 <= f <= 1), N: total size, s: sample size, d: 0 <= d <= 1\n",
    "# the probability that the sample contains less than f*|u| points of cluster u is less than d\n",
    "\n",
    "# if one uses as |u| the minimum cluster size we are interested in, the result is the minimum sample size that guarantees that for k clusters\n",
    "# the probability of selecting fewer than f*|u| points from any one of the clusters u is less than k*d.\n",
    "\n",
    "def Chernoff_Bounds(u_min, f, N, d, k):\n",
    "    \n",
    "    l = np.log(1/d)\n",
    "    res = f*N + N/u_min * l + N/u_min * np.sqrt(l**2 + 2*f*u_min*l)\n",
    "    print(\"If the sample size is {0}, the probability of selecting fewer than {1} points from\".format(math.ceil(res),round(f*u_min)) \\\n",
    "          + \" any one of the clusters is less than {0}\".format(k*d))\n",
    "    \n",
    "    return res\n",
    "    "
   ]
  },
  {
   "cell_type": "code",
   "execution_count": 45,
   "metadata": {
    "ExecuteTime": {
     "end_time": "2019-11-24T11:33:19.212730Z",
     "start_time": "2019-11-24T11:33:19.204902Z"
    },
    "hidden": true
   },
   "outputs": [
    {
     "name": "stdout",
     "output_type": "stream",
     "text": [
      "If the sample size is 11673, the probability of selecting fewer than 250 points from any one of the clusters is less than 0.1\n"
     ]
    },
    {
     "data": {
      "text/plain": [
       "11672.551055396723"
      ]
     },
     "execution_count": 45,
     "metadata": {},
     "output_type": "execute_result"
    }
   ],
   "source": [
    "Chernoff_Bounds(u_min=500, f=0.5, N=20000, k=2, d=0.05) "
   ]
  },
  {
   "cell_type": "code",
   "execution_count": 46,
   "metadata": {
    "ExecuteTime": {
     "end_time": "2019-11-24T11:33:20.691239Z",
     "start_time": "2019-11-24T11:33:19.688672Z"
    },
    "hidden": true
   },
   "outputs": [
    {
     "data": {
      "image/png": "[encoded data removed]",
      "text/plain": [
       "<Figure size 1200x1000 with 4 Axes>"
      ]
     },
     "metadata": {},
     "output_type": "display_data"
    }
   ],
   "source": [
    "plt.figure(figsize=(12,10))\n",
    "plt.suptitle(\"Effects on sample size from different parameters\")\n",
    "\n",
    "ax0 = plt.subplot(2, 2, 1)\n",
    "#plt.plot(d, k*res)\n",
    "u_size=6000 \n",
    "f=0.20 \n",
    "N=20000\n",
    "k=4\n",
    "d = np.linspace(0.0000001,1,100)\n",
    "ax0.set_title(\"u_min: {0}, f:{1}, k:{2}\".format(u_size, f, k))\n",
    "res = k*(f*N + N/u_size * np.log(1/d) + N/u_size * np.sqrt(np.log(1/d)**2 + 2*f*u_size*np.log(1/d)))\n",
    "plt.axhline(N, color=\"r\")\n",
    "plt.plot(d, res)\n",
    "plt.xlabel(\"d\")\n",
    "plt.ylabel(\"sample size\")\n",
    "\n",
    "ax1 = plt.subplot(2, 2, 2)\n",
    "\n",
    "u_size=3000 \n",
    "f=0.2 \n",
    "N=20000\n",
    "d=0.1\n",
    "k = [1,2,3,4,5,6,7,8,9,10,11,12]\n",
    "ax1.set_title(\"u_min: {0}, f:{1}, d:{2}\".format(u_size, f, d))\n",
    "res = [k[i]*(f*N + N/u_size * np.log(1/d) + N/u_size * np.sqrt(np.log(1/d)**2 + 2*f*u_size*np.log(1/d))) for i in range(len(k))]\n",
    "plt.axhline(N, color=\"r\")\n",
    "plt.plot(k, res)\n",
    "plt.xlabel(\"k\")\n",
    "\n",
    "ax2 = plt.subplot(2, 2, 3)\n",
    "\n",
    "u_size=5000 \n",
    "f= np.linspace(0.00001,1,100)\n",
    "N=20000\n",
    "d=0.1\n",
    "k = 4\n",
    "ax2.set_title(\"u_min: {0}, d:{1}, k:{2}\".format(u_size, d, k))\n",
    "res = k*(f*N + N/u_size * np.log(1/d) + N/u_size * np.sqrt(np.log(1/d)**2 + 2*f*u_size*np.log(1/d)))\n",
    "plt.axhline(N, color=\"r\")\n",
    "plt.plot(f, res)\n",
    "plt.xlabel(\"f\")\n",
    "plt.ylabel(\"sample size\")\n",
    "\n",
    "ax3 = plt.subplot(2, 2, 4)\n",
    "\n",
    "u_size= np.linspace(200,10000,30)\n",
    "f= 0.2\n",
    "N=20000\n",
    "d=0.1\n",
    "k = 4\n",
    "ax3.set_title(\"f: {0}, d:{1}, k:{2}\".format(f, d, k))\n",
    "res = k*(f*N + N/u_size * np.log(1/d) + N/u_size * np.sqrt(np.log(1/d)**2 + 2*f*u_size*np.log(1/d)))\n",
    "plt.axhline(N, color=\"r\")\n",
    "plt.plot(u_size, res)\n",
    "plt.xlabel(\"u_min\")\n",
    "\n",
    "plt.show()"
   ]
  },
  {
   "cell_type": "markdown",
   "metadata": {
    "heading_collapsed": true,
    "hidden": true
   },
   "source": [
    "### Partitioning"
   ]
  },
  {
   "cell_type": "code",
   "execution_count": 47,
   "metadata": {
    "ExecuteTime": {
     "end_time": "2019-11-24T11:33:24.951389Z",
     "start_time": "2019-11-24T11:33:24.939663Z"
    },
    "hidden": true
   },
   "outputs": [],
   "source": [
    "def dist_mat_gen_cure(dictionary):\n",
    "    \n",
    "    #even_num = [i for i in range(2,len(X)+1) if i%2==0]\n",
    "    D = pd.DataFrame()\n",
    "    ind = list(dictionary.keys())\n",
    "    k = 0\n",
    "    for i in ind:\n",
    "        for j in ind[k:]:\n",
    "            if i!=j:\n",
    "                \n",
    "                a = dictionary[i]\n",
    "                b = dictionary[j]\n",
    "\n",
    "                D.loc[i,j] = dist_clust_cure(a, b)\n",
    "                D.loc[j,i] = D.loc[i,j]\n",
    "            else:\n",
    "                \n",
    "                D.loc[i,j] = np.inf \n",
    "            \n",
    "        k += 1\n",
    "    \n",
    "    D = D.fillna(np.inf)\n",
    "    \n",
    "    return D"
   ]
  },
  {
   "cell_type": "code",
   "execution_count": 48,
   "metadata": {
    "ExecuteTime": {
     "end_time": "2019-11-24T11:33:25.684614Z",
     "start_time": "2019-11-24T11:33:25.653865Z"
    },
    "hidden": true
   },
   "outputs": [],
   "source": [
    "def cure_sample_part(X, k, c=3, alpha=0.3, u_min=None, f=0.4, d=0.01, p=None, q=None, n_rep_finalclust=None):\n",
    "    \n",
    "    if u_min is None:\n",
    "        u_min = round(len(X)/k)\n",
    "    \n",
    "    if n_rep_finalclust is None:\n",
    "        n_rep_finalclust=c\n",
    "    \n",
    "    l = [[i,i] for i in range(len(X))]\n",
    "    flat_list = [item for sublist in l for item in sublist]\n",
    "    col = [str(el)+\"x\" if i%2==0 else str(el)+\"y\" for i, el in enumerate(flat_list)]\n",
    "    a = pd.DataFrame(index=[str(i) for i in range(len(X))], columns=col)\n",
    "    a[\"0x\"]=X.T[0]\n",
    "    a[\"0y\"]=X.T[1]\n",
    "    b = a.dropna(axis=1, how=\"all\")\n",
    "    \n",
    "    n = math.ceil(Chernoff_Bounds(u_min=u_min, f=f, N=len(X), k=k, d=d)) \n",
    "    b_sampled = b.sample(n, random_state=42)\n",
    "    b_notsampled = b.loc[[str(i) for i in range(len(b)) if str(i) not in b_sampled.index], :]\n",
    "    \n",
    "    if (p is None) and (q is None):\n",
    "        \n",
    "        def g(x):\n",
    "            res = (x[1]-1)/(x[0]*x[1]) + 1/(x[1]**2)\n",
    "            return res\n",
    "\n",
    "        results = {}\n",
    "        for i in range(2,15):\n",
    "            for j in range(2,15):\n",
    "                results[(i,j)] = g([i,j])\n",
    "        p, q = max(results, key=results.get)\n",
    "        print(\"p: \", p)\n",
    "        print(\"q: \", q)\n",
    "    \n",
    "    if (n/(p*q)) < 2*k:\n",
    "        print(\"n/pq is less than 2k, results could be wrong\")\n",
    "\n",
    "    z = round(n/p)\n",
    "    lin_sp = np.linspace(0,n,p+1, dtype=\"int\")\n",
    "    #lin_sp\n",
    "    b_partitions = []\n",
    "    for num_p in range(p):\n",
    "        try:\n",
    "            b_partitions.append(b_sampled.iloc[lin_sp[num_p]:lin_sp[num_p+1]])\n",
    "        except:\n",
    "            b_partitions.append(b_sampled.iloc[lin_sp[num_p]:])\n",
    "            \n",
    "    k_prov = round(n/(p*q))\n",
    "    \n",
    "    partial_clust1 = []\n",
    "    partial_rep1 = []\n",
    "    partial_a1 = []\n",
    "\n",
    "    for i in range(p):\n",
    "        print(\"\\n\")\n",
    "        print(i)\n",
    "        clusters, rep, mat_a = cure(b_partitions[i].values, k=k_prov, c=c, alpha=alpha, partial_index=b_partitions[i].index)\n",
    "        partial_clust1.append(clusters)\n",
    "        partial_rep1.append(rep)\n",
    "        partial_a1.append(mat_a)\n",
    "    \n",
    "    #merging all data into single components\n",
    "    #clusters\n",
    "    clust_tot = {}\n",
    "    for d in partial_clust1:\n",
    "        clust_tot.update(d)\n",
    "    #representatives\n",
    "    rep_tot = {}\n",
    "    for d in partial_rep1:\n",
    "        rep_tot.update(d)\n",
    "    #mat a\n",
    "    diz = {i:len(b_partitions[i]) for i in range(p)}\n",
    "    num_freq = Counter(diz.values()).most_common(1)[0][0]\n",
    "    bad_ind = [list(diz.keys())[i] for i in range(len(diz)) if diz[i] != num_freq]\n",
    "\n",
    "    for ind in bad_ind:\n",
    "        partial_a1[ind][\"{0}x\".format(diz[ind])] = [np.nan]*k_prov\n",
    "        partial_a1[ind][\"{0}y\".format(diz[ind])] = [np.nan]*k_prov\n",
    "\n",
    "    for i in range(len(partial_a1)-1):\n",
    "        if i == 0:\n",
    "            a_tot = partial_a1[i].append(partial_a1[i+1]) \n",
    "        else:\n",
    "            a_tot = a_tot.append(partial_a1[i+1])\n",
    "    # mat Xdist\n",
    "    X_dist_tot = dist_mat_gen_cure(rep_tot)\n",
    "\n",
    "    # final_clustering\n",
    "    prep_data = [clust_tot, rep_tot, a_tot, X_dist_tot]\n",
    "    clusters, rep, mat_a = cure(b_sampled.values, k=k, c=c, alpha=alpha, preprocessed_data=prep_data, \n",
    "                                partial_index=b_sampled.index, n_rep_finalclust=n_rep_finalclust, not_sampled=b_notsampled.values,\n",
    "                                not_sampled_ind=b_notsampled.index)"
   ]
  },
  {
   "cell_type": "code",
   "execution_count": 85,
   "metadata": {
    "ExecuteTime": {
     "end_time": "2019-11-24T12:45:32.598236Z",
     "start_time": "2019-11-24T12:45:32.595505Z"
    },
    "hidden": true,
    "scrolled": true
   },
   "outputs": [],
   "source": [
    "#cure_sample_part(varied,c=5, alpha=0.3, k=3)"
   ]
  },
  {
   "cell_type": "markdown",
   "metadata": {
    "heading_collapsed": true,
    "hidden": true
   },
   "source": [
    "### Tests again"
   ]
  },
  {
   "cell_type": "code",
   "execution_count": 484,
   "metadata": {
    "ExecuteTime": {
     "end_time": "2019-11-21T15:48:56.467755Z",
     "start_time": "2019-11-21T15:48:56.437972Z"
    },
    "hidden": true
   },
   "outputs": [],
   "source": [
    "l = [[i,i] for i in range(len(X))]\n",
    "flat_list = [item for sublist in l for item in sublist]\n",
    "col = [str(el)+\"x\" if i%2==0 else str(el)+\"y\" for i, el in enumerate(flat_list)]\n",
    "a = pd.DataFrame(index=[str(i) for i in range(len(X))], columns=col)\n",
    "a[\"0x\"]=X.T[0]\n",
    "a[\"0y\"]=X.T[1]\n",
    "b = a.dropna(axis=1, how=\"all\")"
   ]
  },
  {
   "cell_type": "code",
   "execution_count": 485,
   "metadata": {
    "ExecuteTime": {
     "end_time": "2019-11-21T15:48:59.054020Z",
     "start_time": "2019-11-21T15:48:59.044461Z"
    },
    "hidden": true,
    "scrolled": true
   },
   "outputs": [
    {
     "name": "stdout",
     "output_type": "stream",
     "text": [
      "If the sample size is 68, the probability of selecting fewer than 16 points from any one of the clusters is less than 0.02\n"
     ]
    }
   ],
   "source": [
    "n = math.ceil(Chernoff_Bounds(u_min=40, f=0.4, N=80, k=2, d=0.01)) \n",
    "b_sampled = b.sample(n, random_state=42)\n",
    "b_notsampled = b.loc[[str(i) for i in range(len(b)) if str(i) not in b_sampled.index], :]"
   ]
  },
  {
   "cell_type": "code",
   "execution_count": 467,
   "metadata": {
    "ExecuteTime": {
     "end_time": "2019-11-21T15:28:24.317764Z",
     "start_time": "2019-11-21T15:28:24.307026Z"
    },
    "hidden": true
   },
   "outputs": [],
   "source": [
    "def g(x):\n",
    "    res = (x[1]-1)/(x[0]*x[1]) + 1/(x[1]**2)\n",
    "    return res"
   ]
  },
  {
   "cell_type": "code",
   "execution_count": 460,
   "metadata": {
    "ExecuteTime": {
     "end_time": "2019-11-21T15:24:04.835374Z",
     "start_time": "2019-11-21T15:24:04.266072Z"
    },
    "hidden": true
   },
   "outputs": [
    {
     "data": {
      "image/png": "[encoded data removed]",
      "text/plain": [
       "<Figure size 640x480 with 1 Axes>"
      ]
     },
     "metadata": {},
     "output_type": "display_data"
    }
   ],
   "source": [
    "fig = plt.figure()\n",
    "ax = fig.add_subplot(111, projection='3d')\n",
    "surf = ax.plot_surface(xg, yg, g([xg, yg]), rstride=1, cstride=1,\n",
    "                       cmap=plt.cm.jet, linewidth=0, antialiased=False)\n",
    "\n",
    "ax.set_xlabel('x')\n",
    "ax.set_ylabel('y')\n",
    "ax.set_zlabel('g(x, y)')\n",
    "ax.set_title('g function plot')\n",
    "plt.show()"
   ]
  },
  {
   "cell_type": "code",
   "execution_count": 459,
   "metadata": {
    "ExecuteTime": {
     "end_time": "2019-11-21T15:24:01.975084Z",
     "start_time": "2019-11-21T15:24:01.608913Z"
    },
    "hidden": true
   },
   "outputs": [
    {
     "data": {
      "image/png": "[encoded data removed]",
      "text/plain": [
       "<Figure size 640x480 with 2 Axes>"
      ]
     },
     "metadata": {},
     "output_type": "display_data"
    }
   ],
   "source": [
    "plt.figure()\n",
    "n=80\n",
    "k=2\n",
    "cons = ({'type': 'ineq', 'fun': lambda x:  n/(x[0]*x[1])-2*k})\n",
    "x_max = scipy.optimize.minimize(g, x0 = [3,3], bounds=[(2,None), (2,None)], constraints=cons)\n",
    "\n",
    "x = np.linspace(2, 15)\n",
    "y = np.linspace(2, 15)\n",
    "xg, yg = np.meshgrid(x, y)\n",
    "# Show the function in 2D\n",
    "plt.imshow(g([xg, yg]), extent=[2, 15, 2, 15])\n",
    "plt.colorbar()\n",
    "# And the minimum that we've found:\n",
    "plt.scatter(x_max.x[0], x_max.x[1])\n",
    "\n",
    "plt.show()"
   ]
  },
  {
   "cell_type": "code",
   "execution_count": 464,
   "metadata": {
    "ExecuteTime": {
     "end_time": "2019-11-21T15:27:52.653058Z",
     "start_time": "2019-11-21T15:27:52.645799Z"
    },
    "hidden": true
   },
   "outputs": [],
   "source": [
    "results = {}\n",
    "for i in range(2,15):\n",
    "    for j in range(2,15):\n",
    "        results[(i,j)] = abs(g([i,j]))\n",
    "p, q = max(results, key=results.get)"
   ]
  },
  {
   "cell_type": "code",
   "execution_count": 466,
   "metadata": {
    "ExecuteTime": {
     "end_time": "2019-11-21T15:27:58.108549Z",
     "start_time": "2019-11-21T15:27:58.102528Z"
    },
    "hidden": true
   },
   "outputs": [
    {
     "data": {
      "text/plain": [
       "2"
      ]
     },
     "execution_count": 466,
     "metadata": {},
     "output_type": "execute_result"
    }
   ],
   "source": [
    "q"
   ]
  },
  {
   "cell_type": "code",
   "execution_count": 486,
   "metadata": {
    "ExecuteTime": {
     "end_time": "2019-11-21T15:49:05.771148Z",
     "start_time": "2019-11-21T15:49:05.763969Z"
    },
    "hidden": true
   },
   "outputs": [
    {
     "data": {
      "text/plain": [
       "array([ 0, 34, 68])"
      ]
     },
     "execution_count": 486,
     "metadata": {},
     "output_type": "execute_result"
    }
   ],
   "source": [
    "p = 2\n",
    "q = 2\n",
    "z = round(n/p)\n",
    "lin_sp = np.linspace(0,n,p+1, dtype=\"int\")\n",
    "lin_sp"
   ]
  },
  {
   "cell_type": "code",
   "execution_count": 487,
   "metadata": {
    "ExecuteTime": {
     "end_time": "2019-11-21T15:49:07.303605Z",
     "start_time": "2019-11-21T15:49:07.298596Z"
    },
    "hidden": true
   },
   "outputs": [],
   "source": [
    "b_partitions = []\n",
    "for num_p in range(p):\n",
    "    try:\n",
    "        b_partitions.append(b_sampled.iloc[lin_sp[num_p]:lin_sp[num_p+1]])\n",
    "    except:\n",
    "        b_partitions.append(b_sampled.iloc[lin_sp[num_p]:])"
   ]
  },
  {
   "cell_type": "code",
   "execution_count": 488,
   "metadata": {
    "ExecuteTime": {
     "end_time": "2019-11-21T15:49:09.984259Z",
     "start_time": "2019-11-21T15:49:09.980517Z"
    },
    "hidden": true
   },
   "outputs": [],
   "source": [
    "k_prov = round(n/(p*q))"
   ]
  },
  {
   "cell_type": "code",
   "execution_count": 423,
   "metadata": {
    "ExecuteTime": {
     "end_time": "2019-11-21T14:46:05.977481Z",
     "start_time": "2019-11-21T14:46:05.971748Z"
    },
    "hidden": true
   },
   "outputs": [],
   "source": [
    "#(n/(p*q))"
   ]
  },
  {
   "cell_type": "code",
   "execution_count": null,
   "metadata": {
    "ExecuteTime": {
     "end_time": "2019-11-21T15:50:17.741926Z",
     "start_time": "2019-11-21T15:49:56.965613Z"
    },
    "hidden": true
   },
   "outputs": [],
   "source": [
    "partial_clust1 = []\n",
    "partial_rep1 = []\n",
    "partial_a1 = []\n",
    "\n",
    "for i in range(p):\n",
    "    #print(i)\n",
    "    clusters, rep, mat_a = cure(b_partitions[i].values, k=k_prov, c=3, alpha=0.3, partial_index=b_partitions[i].index)\n",
    "    partial_clust1.append(clusters)\n",
    "    partial_rep1.append(rep)\n",
    "    partial_a1.append(mat_a)"
   ]
  },
  {
   "cell_type": "code",
   "execution_count": null,
   "metadata": {
    "ExecuteTime": {
     "end_time": "2019-11-21T16:02:56.533280Z",
     "start_time": "2019-11-21T16:02:43.817357Z"
    },
    "hidden": true
   },
   "outputs": [],
   "source": [
    "#merging all data into single components\n",
    "#clusters\n",
    "clust_tot = {}\n",
    "for d in partial_clust1:\n",
    "    clust_tot.update(d)\n",
    "#representatives\n",
    "rep_tot = {}\n",
    "for d in partial_rep1:\n",
    "    rep_tot.update(d)\n",
    "#mat a\n",
    "diz = {i:len(b_partitions[i]) for i in range(p)}\n",
    "num_freq = Counter(diz.values()).most_common(1)[0][0]\n",
    "bad_ind = [list(diz.keys())[i] for i in range(len(diz)) if diz[i] != num_freq]\n",
    "\n",
    "for ind in bad_ind:\n",
    "    partial_a1[ind][\"{0}x\".format(diz[ind])] = [np.nan]*k_prov\n",
    "    partial_a1[ind][\"{0}y\".format(diz[ind])] = [np.nan]*k_prov\n",
    "\n",
    "for i in range(len(partial_a1)-1):\n",
    "    if i == 0:\n",
    "        a_tot = partial_a1[i].append(partial_a1[i+1]) \n",
    "    else:\n",
    "        a_tot = a_tot.append(partial_a1[i+1])\n",
    "# mat Xdist\n",
    "X_dist_tot = dist_mat_gen_cure(rep_tot)\n",
    "\n",
    "# final_clustering\n",
    "prep_data = [clust_tot, rep_tot, a_tot, X_dist_tot]\n",
    "clusters, rep, mat_a = cure(b_sampled.values, k=2, c=3, alpha=0.2, preprocessed_data=prep_data, \n",
    "                            partial_index=b_sampled.index, n_rep_finalclust=3, not_sampled=b_notsampled.values,\n",
    "                            not_sampled_ind=b_notsampled.index)"
   ]
  },
  {
   "cell_type": "markdown",
   "metadata": {
    "heading_collapsed": true
   },
   "source": [
    "# BIRCH"
   ]
  },
  {
   "cell_type": "markdown",
   "metadata": {
    "hidden": true
   },
   "source": [
    "Look at paper and PP presentation: Balanced Iterative Reducing and Clustering using Hierarchies.\n",
    "It consists of a preprocessing phase that stores the input data into a CF-tree, whose leaves are then analyzed by a clustering algorithm (not necessarily hierarchical) to derive the clustering of the data. It is useful for large datasets, and it runs in O(n) time-complexity, but the order of input data as well as the non-spherical shape of clusters may compromise its effectiveness."
   ]
  },
  {
   "cell_type": "markdown",
   "metadata": {
    "heading_collapsed": true,
    "hidden": true
   },
   "source": [
    "## Functions"
   ]
  },
  {
   "cell_type": "code",
   "execution_count": 6,
   "metadata": {
    "ExecuteTime": {
     "end_time": "2019-11-25T17:36:52.225830Z",
     "start_time": "2019-11-25T17:36:52.207480Z"
    },
    "hidden": true
   },
   "outputs": [],
   "source": [
    "def plot_birch_leaves(tree, data):\n",
    "    fig, ax = plt.subplots(figsize=(14,6))\n",
    "    plt.scatter(np.array(data)[:,0], np.array(data)[:,1], s=300, color=\"white\", edgecolor=\"black\")\n",
    "    for i,el in enumerate(tree.get_level_nodes(tree.height-1)):\n",
    "        colors = { 0:\"seagreen\", 1:'beige', 2:'yellow', 3:'grey', \n",
    "                   4:'pink', 5:'turquoise', 6:'orange', 7:'purple', 8:'yellowgreen', 9:'olive', 10:'brown',\n",
    "                   11:'tan', 12: 'plum', 13:'rosybrown', 14:'lightblue', 15:\"khaki\", 16:\"gainsboro\", 17:\"peachpuff\"}\n",
    "        #entriez = []\n",
    "        for entry in el.entries:\n",
    "            if entry.number_points == 1:\n",
    "                plt.scatter(entry.linear_sum[0], entry.linear_sum[1], color=colors[i%17], s=300, edgecolor=\"black\")\n",
    "            else:\n",
    "                plt.scatter(entry.get_centroid()[0], entry.get_centroid()[1], color=colors[i%17], marker=\"X\", s=200)\n",
    "                plt.annotate(entry.number_points, (entry.get_centroid()[0], entry.get_centroid()[1]), fontsize=18)\n",
    "\n",
    "\n",
    "    xmin, xmax, ymin, ymax = plt.axis()\n",
    "    xwidth = xmax - xmin\n",
    "    ywidth = ymax - ymin\n",
    "\n",
    "    xw1 = xwidth*0.01\n",
    "    yw1 = ywidth*0.01\n",
    "\n",
    "    xw2 = xwidth*0.005\n",
    "    yw2 = ywidth*0.01\n",
    "\n",
    "    for i, txt in enumerate(range(len(data))):\n",
    "        if len(str(txt))==2:\n",
    "            ax.annotate(txt, (np.array(data)[:,0][i]-xw1, np.array(data)[:,1][i]-yw1), fontsize=12, size=12)\n",
    "        elif len(str(txt))==1:\n",
    "            ax.annotate(txt, (np.array(data)[:,0][i]-xw2, np.array(data)[:,1][i]-yw2), fontsize=12, size=12)\n",
    "        else:\n",
    "            ax.annotate(txt, (np.array(data)[:,0][i]-xw3, np.array(data)[:,1][i]-yw3), fontsize=9, size=9)\n",
    "\n",
    "\n",
    "    #plt.gca().set_aspect('equal', adjustable='box')#print(el.entries)\n",
    "    plt.show()"
   ]
  },
  {
   "cell_type": "code",
   "execution_count": 16,
   "metadata": {
    "ExecuteTime": {
     "end_time": "2019-11-25T17:51:23.423571Z",
     "start_time": "2019-11-25T17:51:23.406676Z"
    },
    "hidden": true
   },
   "outputs": [],
   "source": [
    "def plot_tree(tree):\n",
    "    \n",
    "    height = tree.height\n",
    "    if height !=3:\n",
    "        print(\"Tree height must be 3, in this case it is {0}\".format(height))\n",
    "        return\n",
    "    #L = tree.threshold\n",
    "    #B = tree.branch_factor\n",
    "    colors = { 0:\"seagreen\", 1:'beige', 2:'yellow', 3:'grey', \n",
    "                   4:'pink', 5:'turquoise', 6:'orange', 7:'purple', 8:'yellowgreen', 9:'olive', 10:'brown',\n",
    "                   11:'tan', 12: 'plum', 13:'rosybrown', 14:'lightblue', 15:\"khaki\", 16:\"gainsboro\", 17:\"peachpuff\"}\n",
    "\n",
    "    num_points_root = tree.root.feature.number_points\n",
    "    num_root_successors = len(tree.root.successors)\n",
    "\n",
    "    def feat_create(level):\n",
    "        features1 = []\n",
    "        features1_num = []\n",
    "        for el in level:\n",
    "            f = el.feature\n",
    "            features1.append(f)\n",
    "            features1_num.append(f.number_points)\n",
    "\n",
    "        return (features1, features1_num)\n",
    "\n",
    "    (features1, features1_num) = feat_create(tree.root.successors)\n",
    "\n",
    "    features2 = []\n",
    "    entries = []\n",
    "    len_single_entries = []\n",
    "    for ind in range(num_root_successors):\n",
    "        features2.append(feat_create(tree.root.successors[ind].successors))\n",
    "        for el in tree.root.successors[ind].successors:\n",
    "            entries.append(el.entries)\n",
    "            len_single_entries.append([record.number_points for record in el.entries])\n",
    "\n",
    "    len_tot2 = [len(features2[i][1]) for i in range(len(features2))]\n",
    "    features2_num = [features2[i][1] for i in range(len(features2))]\n",
    "    features2_num = [item for sublist in features2_num for item in sublist]\n",
    "    len_single_entries_flat = [item for sublist in len_single_entries for item in sublist]\n",
    "    num_entries = [len(x) for x in entries]\n",
    "    num_leaves = len(num_entries)\n",
    "    \n",
    "    lett = \"A B C D E F G H I J K L M N O P Q R S T U V W X Y Z a b c d e f g h i j k l m n o p q r s t u v w x y z\".split(\" \")\n",
    "\n",
    "    dot = graphviz.Digraph(comment='Clustering')\n",
    "    dot.node(lett[0], str(num_points_root))\n",
    "    for q1 in range(1,num_root_successors+1):\n",
    "        dot.node(lett[q1], str(features1_num[q1-1]))\n",
    "\n",
    "    for q2 in range(1,num_leaves+1):\n",
    "        dot.node(lett[num_root_successors+q2], str(num_entries[q2-1]))\n",
    "\n",
    "    for q3 in range(1, len(len_single_entries)+1):\n",
    "        dot.node(lett[num_root_successors+num_leaves+q3], str(len_single_entries[q3-1]), \n",
    "                color=colors[q3-1], style=\"filled\")\n",
    "\n",
    "    a = 0\n",
    "    b = 0\n",
    "    for i in range(num_root_successors):\n",
    "        dot.edges([lett[a]+lett[i+1]])\n",
    "\n",
    "    b = num_root_successors\n",
    "    a += 1\n",
    "    for num in len_tot2:\n",
    "        for j in range(num):\n",
    "            dot.edges([lett[a]+lett[b+j+1]])\n",
    "        a += 1\n",
    "        b += j+1\n",
    "\n",
    "    for k in range(num_leaves):\n",
    "        dot.edges([lett[a]+lett[b+k+1]])\n",
    "        a += 1\n",
    "    #dot.edges(['BD','BE','BF','CG','CH','CI', 'CJ'])\n",
    "    #dot.edges([lett[1]+lett[3], lett[1]+lett[4], lett[1]+lett[5], lett[2]+lett[6], lett[2]+lett[7], lett[2]+lett[8], lett[2]+lett[9]])\n",
    "\n",
    "    #dot.edges(['DK','EL','FM','GN','HO','IP','JQ'])\n",
    "\n",
    "    #dot.edges(['DK','DL','EM','FN','GO','HP','HQ','IR','IS','IT','IU','IV','JW'])\n",
    "    #dot.edges([lett[3]+lett[10], lett[3]+lett[11], lett[4]+lett[12], lett[5]+lett[13], lett[6]+lett[14], lett[7]+lett[15], \n",
    "    #           lett[7]+lett[16], lett[8]+lett[17], lett[8]+lett[18], lett[8]+lett[19], lett[8]+lett[20], lett[8]+lett[21], lett[9]+lett[22]])\n",
    "\n",
    "    #dot.edge('B', 'L', constraint='false')\n",
    "    graph = graphviz.Source(dot)#.view()\n",
    "    \n",
    "    display(graph)\n",
    "    #dot.render('./Clustering.gv', view=True)"
   ]
  },
  {
   "cell_type": "markdown",
   "metadata": {
    "heading_collapsed": true,
    "hidden": true
   },
   "source": [
    "## Plots"
   ]
  },
  {
   "cell_type": "markdown",
   "metadata": {
    "hidden": true
   },
   "source": [
    "PLOT of the TREE is only possible if height == 3"
   ]
  },
  {
   "cell_type": "code",
   "execution_count": 35,
   "metadata": {
    "ExecuteTime": {
     "end_time": "2019-11-25T18:02:30.944939Z",
     "start_time": "2019-11-25T18:02:30.832055Z"
    },
    "hidden": true
   },
   "outputs": [
    {
     "data": {
      "text/plain": [
       "<matplotlib.collections.PathCollection at 0x11d2872b0>"
      ]
     },
     "execution_count": 35,
     "metadata": {},
     "output_type": "execute_result"
    }
   ],
   "source": [
    "X = make_blobs(n_samples=30,\n",
    "                             cluster_std=[2.5, 2.5, 2.5],\n",
    "                             random_state=42)[0]\n",
    "plt.scatter(X[:,0], X[:,1])\n",
    "#plt.gcf().gca().add_artist(plt.Circle((-5, 0), 5, color=\"red\", fill=False, linewidth=3, alpha=0.7))\n",
    "#plt.show()"
   ]
  },
  {
   "cell_type": "code",
   "execution_count": 20,
   "metadata": {
    "ExecuteTime": {
     "end_time": "2019-11-25T17:52:04.033035Z",
     "start_time": "2019-11-25T17:52:04.029802Z"
    },
    "hidden": true
   },
   "outputs": [],
   "source": [
    "#brc = Birch(threshold=1.5, branching_factor=10)\n",
    "#brc.fit(X)"
   ]
  },
  {
   "cell_type": "code",
   "execution_count": 24,
   "metadata": {
    "ExecuteTime": {
     "end_time": "2019-11-25T17:56:37.904231Z",
     "start_time": "2019-11-25T17:56:37.861485Z"
    },
    "hidden": true
   },
   "outputs": [
    {
     "name": "stdout",
     "output_type": "stream",
     "text": [
      "\n",
      "\n",
      "\n",
      "\n",
      "index:  0\n",
      "point  [-3.6828835878901307, 10.370686237163234]\n",
      "insert cluster\n",
      "insert entry\n",
      "first time\n",
      "\n",
      "\n",
      "\n",
      "\n",
      "index:  1\n",
      "point  [0.9435738603095327, 0.17355916295396034]\n",
      "insert cluster\n",
      "insert entry\n",
      "recursive insert\n",
      "insert for leaf\n",
      "index_nearest_entry 0\n",
      "nearest entry CF (1, [-3.6828835878901307, 10.370686237163234], 121.11) [0x11c80c198]\n",
      "diam: 11.197567105741047\n",
      "diam greater than threshold\n",
      "\n",
      "\n",
      "\n",
      "\n",
      "index:  2\n",
      "point  [1.7623948926723445, 2.9124147298049117]\n",
      "insert cluster\n",
      "insert entry\n",
      "recursive insert\n",
      "insert for leaf\n",
      "index_nearest_entry 1\n",
      "nearest entry CF (1, [0.9435738603095327, 0.17355916295396034], 0.92) [0x11c99bf60]\n",
      "diam: 2.858635635947705\n",
      "diam ok\n",
      "\n",
      "\n",
      "\n",
      "\n",
      "index:  3\n",
      "point  [3.1356123056546092, 6.603865145213076]\n",
      "insert cluster\n",
      "insert entry\n",
      "recursive insert\n",
      "insert for leaf\n",
      "index_nearest_entry 1\n",
      "nearest entry CF (2, [2.7059687529818772, 3.0859738927588722], 12.51) [0x11c99b7b8]\n",
      "diam: 4.824872969077119\n",
      "diam greater than threshold\n",
      "\n",
      "\n",
      "\n",
      "\n",
      "index:  4\n",
      "point  [1.1549242992511348, 8.449845376981983]\n",
      "insert cluster\n",
      "insert entry\n",
      "recursive insert\n",
      "insert for leaf\n",
      "index_nearest_entry 2\n",
      "nearest entry CF (1, [3.1356123056546092, 6.603865145213076], 53.44) [0x11c99b898]\n",
      "diam: 2.7075391030956792\n",
      "diam ok\n",
      "\n",
      "\n",
      "\n",
      "\n",
      "index:  5\n",
      "point  [-5.041275423888809, 9.799904459686505]\n",
      "insert cluster\n",
      "insert entry\n",
      "recursive insert\n",
      "insert for leaf\n",
      "index_nearest_entry 2\n",
      "nearest entry CF (2, [4.2905366049057445, 15.05371052219506], 126.18) [0x11c99bf98]\n",
      "diam: 6.445217316528651\n",
      "diam greater than threshold\n",
      "\n",
      "\n",
      "\n",
      "\n",
      "index:  6\n",
      "point  [6.486045286216628, 2.4015903869156583]\n",
      "insert cluster\n",
      "insert entry\n",
      "recursive insert\n",
      "insert for leaf\n",
      "index_nearest_entry 3\n",
      "nearest entry CF (1, [-5.041275423888809, 9.799904459686505], 121.45) [0x11c99bd30]\n",
      "diam: 13.697232343542433\n",
      "diam greater than threshold\n",
      "node has to split\n",
      "split leaf\n",
      "farthest1  CF (1, [-5.041275423888809, 9.799904459686505], 121.45) [0x11c99bd30]\n",
      "farthest2  CF (1, [6.486045286216628, 2.4015903869156583], 47.84) [0x11c99b898]\n",
      "new_node1  Leaf-node 0x11c99b908, parent Non-leaf node 0x11c99b208, parent None, feature CF (7, [4.75839163232531, 40.711865498719334], 429.09) [0x11c99b320], successors: 1, feature CF (2, [-8.72415901177894, 20.17059069684974], 242.57) [0x11c7dfdd8], entries: 2 \n",
      "\tCF (1, [-5.041275423888809, 9.799904459686505], 121.45) [0x11c99bd30]\n",
      "\tCF (1, [-3.6828835878901307, 10.370686237163234], 121.11) [0x11c80c198]\n",
      "\n",
      "new_node2 Leaf-node 0x11c7dfef0, parent Non-leaf node 0x11c99b208, parent None, feature CF (7, [4.75839163232531, 40.711865498719334], 429.09) [0x11c99b320], successors: 1, feature CF (5, [13.482550644104249, 20.54127480186959], 186.52) [0x11c7dfa20], entries: 3 \n",
      "\tCF (1, [6.486045286216628, 2.4015903869156583], 47.84) [0x11c99b898]\n",
      "\tCF (2, [2.7059687529818772, 3.0859738927588722], 12.51) [0x11c99b7b8]\n",
      "\tCF (2, [4.2905366049057445, 15.05371052219506], 126.18) [0x11c99bf98]\n",
      "\n",
      "try merge_nearest_successors\n",
      "merging not successful\n",
      "\n",
      "\n",
      "\n",
      "\n",
      "index:  7\n",
      "point  [-8.031224118550739, -4.2373040277286576]\n",
      "insert cluster\n",
      "insert entry\n",
      "recursive insert\n",
      "insert for non-leaf\n",
      "nearestchildnode:  Leaf-node 0x11c7dfef0, parent Non-leaf node 0x11c99b208, parent None, feature CF (7, [4.75839163232531, 40.711865498719334], 429.09) [0x11c99b320], successors: 2, feature CF (5, [13.482550644104249, 20.54127480186959], 186.52) [0x11c7dfa20], entries: 3 \n",
      "\tCF (1, [6.486045286216628, 2.4015903869156583], 47.84) [0x11c99b898]\n",
      "\tCF (2, [2.7059687529818772, 3.0859738927588722], 12.51) [0x11c99b7b8]\n",
      "\tCF (2, [4.2905366049057445, 15.05371052219506], 126.18) [0x11c99bf98]\n",
      "\n",
      "recursive insert in !!!insert_for_nonleaf!!!\n",
      "insert for leaf\n",
      "index_nearest_entry 2\n",
      "nearest entry CF (2, [4.2905366049057445, 15.05371052219506], 126.18) [0x11c99bf98]\n",
      "diam: 12.844052262006034\n",
      "diam greater than threshold\n",
      "\n",
      "\n",
      "\n",
      "\n",
      "index:  8\n",
      "point  [-1.904291944137665, 4.231085516553827]\n",
      "insert cluster\n",
      "insert entry\n",
      "recursive insert\n",
      "insert for non-leaf\n",
      "nearestchildnode:  Leaf-node 0x11c7dfef0, parent Non-leaf node 0x11c99b208, parent None, feature CF (8, [-3.272832486225429, 36.47456147099068], 511.54) [0x11c7c7eb8], successors: 2, feature CF (6, [5.45132652555351, 16.303970774140932], 268.98) [0x11c7df6d8], entries: 4 \n",
      "\tCF (1, [6.486045286216628, 2.4015903869156583], 47.84) [0x11c99b898]\n",
      "\tCF (2, [2.7059687529818772, 3.0859738927588722], 12.51) [0x11c99b7b8]\n",
      "\tCF (2, [4.2905366049057445, 15.05371052219506], 126.18) [0x11c99bf98]\n",
      "\tCF (1, [-8.031224118550739, -4.2373040277286576], 82.46) [0x11c99b550]\n",
      "\n",
      "recursive insert in !!!insert_for_nonleaf!!!\n",
      "insert for leaf\n",
      "index_nearest_entry 3\n",
      "nearest entry CF (1, [-8.031224118550739, -4.2373040277286576], 82.46) [0x11c99b550]\n",
      "diam: 10.452412130392247\n",
      "diam greater than threshold\n",
      "node has to split\n",
      "split leaf\n",
      "farthest1  CF (1, [6.486045286216628, 2.4015903869156583], 47.84) [0x11c99b898]\n",
      "farthest2  CF (1, [-8.031224118550739, -4.2373040277286576], 82.46) [0x11c99b550]\n",
      "new_node1  Leaf-node 0x11c7df6d8, parent Non-leaf node 0x11c99b208, parent None, feature CF (8, [-3.272832486225429, 36.47456147099068], 511.54) [0x11c7c7eb8], successors: 2, feature CF (6, [11.578258699966584, 24.772360318423416], 208.05) [0x11c7efc18], entries: 4 \n",
      "\tCF (1, [6.486045286216628, 2.4015903869156583], 47.84) [0x11c99b898]\n",
      "\tCF (2, [2.7059687529818772, 3.0859738927588722], 12.51) [0x11c99b7b8]\n",
      "\tCF (2, [4.2905366049057445, 15.05371052219506], 126.18) [0x11c99bf98]\n",
      "\tCF (1, [-1.904291944137665, 4.231085516553827], 21.53) [0x11c7dfa20]\n",
      "\n",
      "new_node2 Leaf-node 0x11c7ef550, parent Non-leaf node 0x11c99b208, parent None, feature CF (8, [-3.272832486225429, 36.47456147099068], 511.54) [0x11c7c7eb8], successors: 2, feature CF (1, [-8.031224118550739, -4.2373040277286576], 82.46) [0x11c7ef3c8], entries: 1 \n",
      "\tCF (1, [-8.031224118550739, -4.2373040277286576], 82.46) [0x11c99b550]\n",
      "\n",
      "merging not successful\n",
      "\n",
      "\n",
      "\n",
      "\n",
      "index:  9\n",
      "point  [-6.020581467230117, -11.28770998168278]\n",
      "insert cluster\n",
      "insert entry\n",
      "recursive insert\n",
      "insert for non-leaf\n",
      "nearestchildnode:  Leaf-node 0x11c7df6d8, parent Non-leaf node 0x11c99b208, parent None, feature CF (9, [-5.177124430363094, 40.705646987544505], 533.07) [0x11c958da0], successors: 3, feature CF (6, [11.578258699966584, 24.772360318423416], 208.05) [0x11c7efc18], entries: 4 \n",
      "\tCF (1, [6.486045286216628, 2.4015903869156583], 47.84) [0x11c99b898]\n",
      "\tCF (2, [2.7059687529818772, 3.0859738927588722], 12.51) [0x11c99b7b8]\n",
      "\tCF (2, [4.2905366049057445, 15.05371052219506], 126.18) [0x11c99bf98]\n",
      "\tCF (1, [-1.904291944137665, 4.231085516553827], 21.53) [0x11c7dfa20]\n",
      "\n",
      "recursive insert in !!!insert_for_nonleaf!!!\n",
      "insert for leaf\n",
      "index_nearest_entry 3\n",
      "nearest entry CF (1, [-1.904291944137665, 4.231085516553827], 21.53) [0x11c7dfa20]\n",
      "diam: 16.05543064367971\n",
      "diam greater than threshold\n",
      "node has to split\n",
      "split leaf\n",
      "farthest1  CF (2, [4.2905366049057445, 15.05371052219506], 126.18) [0x11c99bf98]\n",
      "farthest2  CF (1, [-6.020581467230117, -11.28770998168278], 163.66) [0x11c958390]\n",
      "new_node1  Leaf-node 0x11c7efc18, parent Non-leaf node 0x11c99b208, parent None, feature CF (9, [-5.177124430363094, 40.705646987544505], 533.07) [0x11c958da0], successors: 3, feature CF (6, [11.578258699966586, 24.772360318423416], 208.05) [0x11bea6908], entries: 4 \n",
      "\tCF (2, [4.2905366049057445, 15.05371052219506], 126.18) [0x11c99bf98]\n",
      "\tCF (1, [6.486045286216628, 2.4015903869156583], 47.84) [0x11c99b898]\n",
      "\tCF (2, [2.7059687529818772, 3.0859738927588722], 12.51) [0x11c99b7b8]\n",
      "\tCF (1, [-1.904291944137665, 4.231085516553827], 21.53) [0x11c7dfa20]\n",
      "\n",
      "new_node2 Leaf-node 0x11c7ef940, parent Non-leaf node 0x11c99b208, parent None, feature CF (9, [-5.177124430363094, 40.705646987544505], 533.07) [0x11c958da0], successors: 3, feature CF (1, [-6.020581467230117, -11.28770998168278], 163.66) [0x11c7ef978], entries: 1 \n",
      "\tCF (1, [-6.020581467230117, -11.28770998168278], 163.66) [0x11c958390]\n",
      "\n",
      "merging not successful\n",
      "\n",
      "\n",
      "\n",
      "\n",
      "index:  10\n",
      "point  [4.3507581302575, 1.2204104449675102]\n",
      "insert cluster\n",
      "insert entry\n",
      "recursive insert\n",
      "insert for non-leaf\n",
      "nearestchildnode:  Leaf-node 0x11c7efc18, parent Non-leaf node 0x11c99b208, parent None, feature CF (10, [-11.19770589759321, 29.417937005861724], 696.73) [0x11c7ef278], successors: 4, feature CF (6, [11.578258699966586, 24.772360318423416], 208.05) [0x11bea6908], entries: 4 \n",
      "\tCF (2, [4.2905366049057445, 15.05371052219506], 126.18) [0x11c99bf98]\n",
      "\tCF (1, [6.486045286216628, 2.4015903869156583], 47.84) [0x11c99b898]\n",
      "\tCF (2, [2.7059687529818772, 3.0859738927588722], 12.51) [0x11c99b7b8]\n",
      "\tCF (1, [-1.904291944137665, 4.231085516553827], 21.53) [0x11c7dfa20]\n",
      "\n",
      "recursive insert in !!!insert_for_nonleaf!!!\n",
      "insert for leaf\n",
      "index_nearest_entry 3\n",
      "nearest entry CF (1, [-1.904291944137665, 4.231085516553827], 21.53) [0x11c7dfa20]\n",
      "diam: 6.941888490883603\n",
      "diam greater than threshold\n",
      "node has to split\n",
      "split leaf\n",
      "farthest1  CF (1, [6.486045286216628, 2.4015903869156583], 47.84) [0x11c99b898]\n",
      "farthest2  CF (1, [-1.904291944137665, 4.231085516553827], 21.53) [0x11c7dfa20]\n",
      "new_node1  Leaf-node 0x11bea6908, parent Non-leaf node 0x11c99b208, parent None, feature CF (10, [-11.19770589759321, 29.417937005861724], 696.73) [0x11c7ef278], successors: 4, feature CF (2, [10.836803416474128, 3.6220008318831685], 68.25) [0x11c9b2c88], entries: 2 \n",
      "\tCF (1, [6.486045286216628, 2.4015903869156583], 47.84) [0x11c99b898]\n",
      "\tCF (1, [4.3507581302575, 1.2204104449675102], 20.42) [0x11c958da0]\n",
      "\n",
      "new_node2 Leaf-node 0x11c975dd8, parent Non-leaf node 0x11c99b208, parent None, feature CF (10, [-11.19770589759321, 29.417937005861724], 696.73) [0x11c7ef278], successors: 4, feature CF (5, [5.092213413749957, 22.37076993150776], 160.21) [0x11c975b38], entries: 3 \n",
      "\tCF (1, [-1.904291944137665, 4.231085516553827], 21.53) [0x11c7dfa20]\n",
      "\tCF (2, [4.2905366049057445, 15.05371052219506], 126.18) [0x11c99bf98]\n",
      "\tCF (2, [2.7059687529818772, 3.0859738927588722], 12.51) [0x11c99b7b8]\n",
      "\n",
      "merging not successful\n",
      "\n",
      "\n",
      "\n",
      "\n",
      "index:  11\n",
      "point  [-6.069417267664282, -7.842815294316738]\n",
      "insert cluster\n",
      "insert entry\n",
      "recursive insert\n",
      "insert for non-leaf\n",
      "nearestchildnode:  Leaf-node 0x11c975dd8, parent Non-leaf node 0x11c99b208, parent None, feature CF (11, [-6.84694776733571, 30.638347450829233], 717.15) [0x11c7ef7b8], successors: 5, feature CF (5, [5.092213413749957, 22.37076993150776], 160.21) [0x11c975b38], entries: 3 \n",
      "\tCF (1, [-1.904291944137665, 4.231085516553827], 21.53) [0x11c7dfa20]\n",
      "\tCF (2, [4.2905366049057445, 15.05371052219506], 126.18) [0x11c99bf98]\n",
      "\tCF (2, [2.7059687529818772, 3.0859738927588722], 12.51) [0x11c99b7b8]\n",
      "\n",
      "recursive insert in !!!insert_for_nonleaf!!!\n",
      "insert for leaf\n",
      "index_nearest_entry 2\n",
      "nearest entry CF (2, [2.7059687529818772, 3.0859738927588722], 12.51) [0x11c99b7b8]\n",
      "diam: 9.977113080878258\n",
      "diam greater than threshold\n",
      "\n",
      "\n",
      "\n",
      "\n",
      "index:  12\n",
      "point  [3.138282111431089, 1.24393530945754]\n",
      "insert cluster\n",
      "insert entry\n",
      "recursive insert\n",
      "insert for non-leaf\n",
      "nearestchildnode:  Leaf-node 0x11c975dd8, parent Non-leaf node 0x11c99b208, parent None, feature CF (12, [-12.916365034999991, 22.795532156512493], 815.50) [0x11bea6898], successors: 5, feature CF (6, [-0.9772038539143253, 14.527954637191021], 258.56) [0x11c9b2e10], entries: 4 \n",
      "\tCF (1, [-1.904291944137665, 4.231085516553827], 21.53) [0x11c7dfa20]\n",
      "\tCF (2, [4.2905366049057445, 15.05371052219506], 126.18) [0x11c99bf98]\n",
      "\tCF (2, [2.7059687529818772, 3.0859738927588722], 12.51) [0x11c99b7b8]\n",
      "\tCF (1, [-6.069417267664282, -7.842815294316738], 98.35) [0x11c7efa20]\n",
      "\n",
      "recursive insert in !!!insert_for_nonleaf!!!\n",
      "insert for leaf\n",
      "index_nearest_entry 3\n",
      "nearest entry CF (1, [-6.069417267664282, -7.842815294316738], 98.35) [0x11c7efa20]\n",
      "diam: 12.936412346202696\n",
      "diam greater than threshold\n",
      "node has to split\n",
      "split leaf\n",
      "farthest1  CF (2, [4.2905366049057445, 15.05371052219506], 126.18) [0x11c99bf98]\n",
      "farthest2  CF (1, [-6.069417267664282, -7.842815294316738], 98.35) [0x11c7efa20]\n",
      "new_node1  Leaf-node 0x11c9b2e10, parent Non-leaf node 0x11c99b208, parent None, feature CF (12, [-12.916365034999991, 22.795532156512493], 815.50) [0x11bea6898], successors: 5, feature CF (6, [8.230495525181047, 23.6147052409653], 171.61) [0x11c9b2cf8], entries: 4 \n",
      "\tCF (2, [4.2905366049057445, 15.05371052219506], 126.18) [0x11c99bf98]\n",
      "\tCF (1, [-1.904291944137665, 4.231085516553827], 21.53) [0x11c7dfa20]\n",
      "\tCF (2, [2.7059687529818772, 3.0859738927588722], 12.51) [0x11c99b7b8]\n",
      "\tCF (1, [3.138282111431089, 1.24393530945754], 11.40) [0x11c975b38]\n",
      "\n",
      "new_node2 Leaf-node 0x11c9b2cc0, parent Non-leaf node 0x11c99b208, parent None, feature CF (12, [-12.916365034999991, 22.795532156512493], 815.50) [0x11bea6898], successors: 5, feature CF (1, [-6.069417267664282, -7.842815294316738], 98.35) [0x11c9b2f98], entries: 1 \n",
      "\tCF (1, [-6.069417267664282, -7.842815294316738], 98.35) [0x11c7efa20]\n",
      "\n",
      "over brach_factor \n",
      "height increases\n",
      "split non leaf\n",
      "try merge_nearest_successors\n",
      "merging not successful\n",
      "\n",
      "\n",
      "\n",
      "\n",
      "index:  13\n",
      "point  [5.16203782373999, -2.926005625758707]\n",
      "insert cluster\n",
      "insert entry\n",
      "recursive insert\n",
      "insert for non-leaf\n",
      "nearestchildnode:  Non-leaf node 0x11c9b2d68, parent Non-leaf node 0x11bea6898, parent None, feature CF (13, [-9.778082923568903, 24.039467465970034], 826.90) [0x11c9b2f60], successors: 2, feature CF (10, [10.343139929876234, 47.407296769698206], 482.43) [0x11c9b2dd8], successors: 3\n",
      "recursive insert in !!!insert_for_nonleaf!!!\n",
      "insert for non-leaf\n",
      "nearestchildnode:  Leaf-node 0x11c9b2e10, parent Non-leaf node 0x11c9b2d68, parent Non-leaf node 0x11bea6898, parent None, feature CF (13, [-9.778082923568903, 24.039467465970034], 826.90) [0x11c9b2f60], successors: 2, feature CF (10, [10.343139929876234, 47.407296769698206], 482.43) [0x11c9b2dd8], successors: 3, feature CF (6, [8.230495525181047, 23.6147052409653], 171.61) [0x11c9b2cf8], entries: 4 \n",
      "\tCF (2, [4.2905366049057445, 15.05371052219506], 126.18) [0x11c99bf98]\n",
      "\tCF (1, [-1.904291944137665, 4.231085516553827], 21.53) [0x11c7dfa20]\n",
      "\tCF (2, [2.7059687529818772, 3.0859738927588722], 12.51) [0x11c99b7b8]\n",
      "\tCF (1, [3.138282111431089, 1.24393530945754], 11.40) [0x11c975b38]\n",
      "\n",
      "recursive insert in !!!insert_for_nonleaf!!!\n",
      "insert for leaf\n",
      "index_nearest_entry 3\n",
      "nearest entry CF (1, [3.138282111431089, 1.24393530945754], 11.40) [0x11c975b38]\n",
      "diam: 4.635083018274328\n",
      "diam greater than threshold\n",
      "node has to split\n",
      "split leaf\n",
      "farthest1  CF (2, [4.2905366049057445, 15.05371052219506], 126.18) [0x11c99bf98]\n",
      "farthest2  CF (1, [5.16203782373999, -2.926005625758707], 35.21) [0x11c975dd8]\n",
      "new_node1  Leaf-node 0x11c9b2cf8, parent Non-leaf node 0x11c9b2d68, parent Non-leaf node 0x11bea6898, parent None, feature CF (13, [-9.778082923568903, 24.039467465970034], 826.90) [0x11c9b2f60], successors: 2, feature CF (10, [10.343139929876234, 47.407296769698206], 482.43) [0x11c9b2dd8], successors: 3, feature CF (6, [8.230495525181047, 23.6147052409653], 171.61) [0x11c9b2c18], entries: 4 \n",
      "\tCF (2, [4.2905366049057445, 15.05371052219506], 126.18) [0x11c99bf98]\n",
      "\tCF (1, [-1.904291944137665, 4.231085516553827], 21.53) [0x11c7dfa20]\n",
      "\tCF (2, [2.7059687529818772, 3.0859738927588722], 12.51) [0x11c99b7b8]\n",
      "\tCF (1, [3.138282111431089, 1.24393530945754], 11.40) [0x11c975b38]\n",
      "\n",
      "new_node2 Leaf-node 0x11c9b2908, parent Non-leaf node 0x11c9b2d68, parent Non-leaf node 0x11bea6898, parent None, feature CF (13, [-9.778082923568903, 24.039467465970034], 826.90) [0x11c9b2f60], successors: 2, feature CF (10, [10.343139929876234, 47.407296769698206], 482.43) [0x11c9b2dd8], successors: 3, feature CF (1, [5.16203782373999, -2.926005625758707], 35.21) [0x11c9b2a58], entries: 1 \n",
      "\tCF (1, [5.16203782373999, -2.926005625758707], 35.21) [0x11c975dd8]\n",
      "\n",
      "merging not successful\n",
      "\n",
      "\n",
      "\n",
      "\n",
      "index:  14\n",
      "point  [-3.870154434365707, 9.291592602472987]\n",
      "insert cluster\n",
      "insert entry\n",
      "recursive insert\n",
      "insert for non-leaf\n",
      "nearestchildnode:  Non-leaf node 0x11c9b2d68, parent Non-leaf node 0x11bea6898, parent None, feature CF (14, [-4.616045099828913, 21.11346184021133], 862.10) [0x11c9b2e10], successors: 2, feature CF (11, [15.505177753616223, 44.4812911439395], 517.64) [0x11c9b2198], successors: 4\n",
      "recursive insert in !!!insert_for_nonleaf!!!\n",
      "insert for non-leaf\n",
      "nearestchildnode:  Leaf-node 0x11c9b2cf8, parent Non-leaf node 0x11c9b2d68, parent Non-leaf node 0x11bea6898, parent None, feature CF (14, [-4.616045099828913, 21.11346184021133], 862.10) [0x11c9b2e10], successors: 2, feature CF (11, [15.505177753616223, 44.4812911439395], 517.64) [0x11c9b2198], successors: 4, feature CF (6, [8.230495525181047, 23.6147052409653], 171.61) [0x11c9b2c18], entries: 4 \n",
      "\tCF (2, [4.2905366049057445, 15.05371052219506], 126.18) [0x11c99bf98]\n",
      "\tCF (1, [-1.904291944137665, 4.231085516553827], 21.53) [0x11c7dfa20]\n",
      "\tCF (2, [2.7059687529818772, 3.0859738927588722], 12.51) [0x11c99b7b8]\n",
      "\tCF (1, [3.138282111431089, 1.24393530945754], 11.40) [0x11c975b38]\n",
      "\n",
      "recursive insert in !!!insert_for_nonleaf!!!\n",
      "insert for leaf\n",
      "index_nearest_entry 3\n",
      "nearest entry CF (1, [3.138282111431089, 1.24393530945754], 11.40) [0x11c975b38]\n",
      "diam: 10.67159644674989\n",
      "diam greater than threshold\n",
      "node has to split\n",
      "split leaf\n",
      "farthest1  CF (1, [3.138282111431089, 1.24393530945754], 11.40) [0x11c975b38]\n",
      "farthest2  CF (1, [-3.870154434365707, 9.291592602472987], 101.31) [0x11c9b2be0]\n",
      "new_node1  Leaf-node 0x11c9b2c18, parent Non-leaf node 0x11c9b2d68, parent Non-leaf node 0x11bea6898, parent None, feature CF (14, [-4.616045099828913, 21.11346184021133], 862.10) [0x11c9b2e10], successors: 2, feature CF (11, [15.505177753616223, 44.4812911439395], 517.64) [0x11c9b2198], successors: 4, feature CF (3, [5.844250864412967, 4.329909202216412], 23.90) [0x11c9b2160], entries: 2 \n",
      "\tCF (1, [3.138282111431089, 1.24393530945754], 11.40) [0x11c975b38]\n",
      "\tCF (2, [2.7059687529818772, 3.0859738927588722], 12.51) [0x11c99b7b8]\n",
      "\n",
      "new_node2 Leaf-node 0x11c9b2d30, parent Non-leaf node 0x11c9b2d68, parent Non-leaf node 0x11bea6898, parent None, feature CF (14, [-4.616045099828913, 21.11346184021133], 862.10) [0x11c9b2e10], successors: 2, feature CF (11, [15.505177753616223, 44.4812911439395], 517.64) [0x11c9b2198], successors: 4, feature CF (4, [-1.4839097735976272, 28.57638864122187], 249.02) [0x11c9b2b00], entries: 3 \n",
      "\tCF (1, [-3.870154434365707, 9.291592602472987], 101.31) [0x11c9b2be0]\n",
      "\tCF (2, [4.2905366049057445, 15.05371052219506], 126.18) [0x11c99bf98]\n",
      "\tCF (1, [-1.904291944137665, 4.231085516553827], 21.53) [0x11c7dfa20]\n",
      "\n",
      "merging not successful\n",
      "\n",
      "\n",
      "\n",
      "\n",
      "index:  15\n",
      "point  [1.319413713982025, 2.465322773613541]\n",
      "insert cluster\n",
      "insert entry\n",
      "recursive insert\n",
      "insert for non-leaf\n",
      "nearestchildnode:  Non-leaf node 0x11c9b2d68, parent Non-leaf node 0x11bea6898, parent None, feature CF (15, [-8.48619953419462, 30.405054442684317], 963.41) [0x11c9b2cf8], successors: 2, feature CF (12, [11.635023319250516, 53.77288374641249], 618.95) [0x11c9b2c50], successors: 5\n",
      "recursive insert in !!!insert_for_nonleaf!!!\n",
      "insert for non-leaf\n",
      "nearestchildnode:  Leaf-node 0x11c9b2d30, parent Non-leaf node 0x11c9b2d68, parent Non-leaf node 0x11bea6898, parent None, feature CF (15, [-8.48619953419462, 30.405054442684317], 963.41) [0x11c9b2cf8], successors: 2, feature CF (12, [11.635023319250516, 53.77288374641249], 618.95) [0x11c9b2c50], successors: 5, feature CF (4, [-1.4839097735976272, 28.57638864122187], 249.02) [0x11c9b2b00], entries: 3 \n",
      "\tCF (1, [-3.870154434365707, 9.291592602472987], 101.31) [0x11c9b2be0]\n",
      "\tCF (2, [4.2905366049057445, 15.05371052219506], 126.18) [0x11c99bf98]\n",
      "\tCF (1, [-1.904291944137665, 4.231085516553827], 21.53) [0x11c7dfa20]\n",
      "\n",
      "recursive insert in !!!insert_for_nonleaf!!!\n",
      "insert for leaf\n",
      "index_nearest_entry 2\n",
      "nearest entry CF (1, [-1.904291944137665, 4.231085516553827], 21.53) [0x11c7dfa20]\n",
      "diam: 3.675621884055664\n",
      "diam greater than threshold\n",
      "\n",
      "\n",
      "\n",
      "\n",
      "index:  16\n",
      "point  [-4.302128384911393, -4.55190929548545]\n",
      "insert cluster\n",
      "insert entry\n",
      "recursive insert\n",
      "insert for non-leaf\n",
      "nearestchildnode:  Non-leaf node 0x11c9b2d68, parent Non-leaf node 0x11bea6898, parent None, feature CF (16, [-7.166785820212596, 32.87037721629786], 971.23) [0x11c9b2c50], successors: 2, feature CF (13, [12.95443703323254, 56.23820652002603], 626.77) [0x11c9b2b38], successors: 5\n",
      "recursive insert in !!!insert_for_nonleaf!!!\n",
      "insert for non-leaf\n",
      "nearestchildnode:  Leaf-node 0x11c9b2d30, parent Non-leaf node 0x11c9b2d68, parent Non-leaf node 0x11bea6898, parent None, feature CF (16, [-7.166785820212596, 32.87037721629786], 971.23) [0x11c9b2c50], successors: 2, feature CF (13, [12.95443703323254, 56.23820652002603], 626.77) [0x11c9b2b38], successors: 5, feature CF (5, [-0.1644960596156022, 31.04171141483541], 256.84) [0x11c9b2da0], entries: 4 \n",
      "\tCF (1, [-3.870154434365707, 9.291592602472987], 101.31) [0x11c9b2be0]\n",
      "\tCF (2, [4.2905366049057445, 15.05371052219506], 126.18) [0x11c99bf98]\n",
      "\tCF (1, [-1.904291944137665, 4.231085516553827], 21.53) [0x11c7dfa20]\n",
      "\tCF (1, [1.319413713982025, 2.465322773613541], 7.82) [0x11c9b25f8]\n",
      "\n",
      "recursive insert in !!!insert_for_nonleaf!!!\n",
      "insert for leaf\n",
      "index_nearest_entry 3\n",
      "nearest entry CF (1, [1.319413713982025, 2.465322773613541], 7.82) [0x11c9b25f8]\n",
      "diam: 8.991289200177153\n",
      "diam greater than threshold\n",
      "node has to split\n",
      "split leaf\n",
      "farthest1  CF (1, [-3.870154434365707, 9.291592602472987], 101.31) [0x11c9b2be0]\n",
      "farthest2  CF (1, [-4.302128384911393, -4.55190929548545], 39.23) [0x11c9b2198]\n",
      "new_node1  Leaf-node 0x11c9b2b00, parent Non-leaf node 0x11c9b2d68, parent Non-leaf node 0x11bea6898, parent None, feature CF (16, [-7.166785820212596, 32.87037721629786], 971.23) [0x11c9b2c50], successors: 2, feature CF (13, [12.95443703323254, 56.23820652002603], 626.77) [0x11c9b2b38], successors: 5, feature CF (5, [-0.1644960596156022, 31.04171141483541], 256.84) [0x11c9b2b70], entries: 4 \n",
      "\tCF (1, [-3.870154434365707, 9.291592602472987], 101.31) [0x11c9b2be0]\n",
      "\tCF (2, [4.2905366049057445, 15.05371052219506], 126.18) [0x11c99bf98]\n",
      "\tCF (1, [-1.904291944137665, 4.231085516553827], 21.53) [0x11c7dfa20]\n",
      "\tCF (1, [1.319413713982025, 2.465322773613541], 7.82) [0x11c9b25f8]\n",
      "\n",
      "new_node2 Leaf-node 0x11c9b27b8, parent Non-leaf node 0x11c9b2d68, parent Non-leaf node 0x11bea6898, parent None, feature CF (16, [-7.166785820212596, 32.87037721629786], 971.23) [0x11c9b2c50], successors: 2, feature CF (13, [12.95443703323254, 56.23820652002603], 626.77) [0x11c9b2b38], successors: 5, feature CF (1, [-4.302128384911393, -4.55190929548545], 39.23) [0x11c9b2a90], entries: 1 \n",
      "\tCF (1, [-4.302128384911393, -4.55190929548545], 39.23) [0x11c9b2198]\n",
      "\n",
      "over brach_factor \n",
      "split non leaf\n",
      "merging successful\n",
      "\n",
      "\n",
      "\n",
      "\n",
      "index:  17\n",
      "point  [-2.3403771113329404, 5.45241566266468]\n",
      "insert cluster\n",
      "insert entry\n",
      "recursive insert\n",
      "insert for non-leaf\n",
      "nearestchildnode:  Non-leaf node 0x11c9b2710, parent Non-leaf node 0x11bea6898, parent None, feature CF (17, [-11.468914205123989, 28.31846792081241], 1010.46) [0x11c9b2d30], successors: 2, feature CF (10, [-29.009877924839678, 27.84447280795697], 843.87) [0x11c9b2c50], successors: 5\n",
      "recursive insert in !!!insert_for_nonleaf!!!\n",
      "insert for non-leaf\n",
      "nearestchildnode:  Leaf-node 0x11c9b2b00, parent Non-leaf node 0x11c9b2710, parent Non-leaf node 0x11bea6898, parent None, feature CF (17, [-11.468914205123989, 28.31846792081241], 1010.46) [0x11c9b2d30], successors: 2, feature CF (10, [-29.009877924839678, 27.84447280795697], 843.87) [0x11c9b2c50], successors: 5, feature CF (5, [-0.1644960596156022, 31.04171141483541], 256.84) [0x11c9b2b70], entries: 4 \n",
      "\tCF (1, [-3.870154434365707, 9.291592602472987], 101.31) [0x11c9b2be0]\n",
      "\tCF (2, [4.2905366049057445, 15.05371052219506], 126.18) [0x11c99bf98]\n",
      "\tCF (1, [-1.904291944137665, 4.231085516553827], 21.53) [0x11c7dfa20]\n",
      "\tCF (1, [1.319413713982025, 2.465322773613541], 7.82) [0x11c9b25f8]\n",
      "\n",
      "recursive insert in !!!insert_for_nonleaf!!!\n",
      "insert for leaf\n",
      "index_nearest_entry 3\n",
      "nearest entry CF (1, [1.319413713982025, 2.465322773613541], 7.82) [0x11c9b25f8]\n",
      "diam: 4.724065284570004\n",
      "diam greater than threshold\n",
      "node has to split\n",
      "split leaf\n",
      "farthest1  CF (1, [-3.870154434365707, 9.291592602472987], 101.31) [0x11c9b2be0]\n",
      "farthest2  CF (1, [1.319413713982025, 2.465322773613541], 7.82) [0x11c9b25f8]\n",
      "new_node1  Leaf-node 0x11c9b2b70, parent Non-leaf node 0x11c9b2710, parent Non-leaf node 0x11bea6898, parent None, feature CF (17, [-11.468914205123989, 28.31846792081241], 1010.46) [0x11c9b2d30], successors: 2, feature CF (10, [-29.009877924839678, 27.84447280795697], 843.87) [0x11c9b2c50], successors: 5, feature CF (1, [-3.870154434365707, 9.291592602472987], 101.31) [0x11c9b2748], entries: 1 \n",
      "\tCF (1, [-3.870154434365707, 9.291592602472987], 101.31) [0x11c9b2be0]\n",
      "\n",
      "new_node2 Leaf-node 0x11c9b29b0, parent Non-leaf node 0x11c9b2710, parent Non-leaf node 0x11bea6898, parent None, feature CF (17, [-11.468914205123989, 28.31846792081241], 1010.46) [0x11c9b2d30], successors: 2, feature CF (10, [-29.009877924839678, 27.84447280795697], 843.87) [0x11c9b2c50], successors: 5, feature CF (5, [1.365281263417164, 27.202534475027107], 190.73) [0x11c9b2668], entries: 4 \n",
      "\tCF (1, [1.319413713982025, 2.465322773613541], 7.82) [0x11c9b25f8]\n",
      "\tCF (2, [4.2905366049057445, 15.05371052219506], 126.18) [0x11c99bf98]\n",
      "\tCF (1, [-1.904291944137665, 4.231085516553827], 21.53) [0x11c7dfa20]\n",
      "\tCF (1, [-2.3403771113329404, 5.45241566266468], 35.21) [0x11c9b25c0]\n",
      "\n",
      "over brach_factor \n",
      "split non leaf\n",
      "merging not successful\n",
      "\n",
      "\n",
      "\n",
      "\n",
      "index:  18\n",
      "point  [-4.779257811855778, 5.483526874860093]\n",
      "insert cluster\n",
      "insert entry\n",
      "recursive insert\n",
      "insert for non-leaf\n",
      "nearestchildnode:  Non-leaf node 0x11c9b27f0, parent Non-leaf node 0x11bea6898, parent None, feature CF (18, [-13.809291316456928, 33.77088358347709], 1045.67) [0x11c9b2b00], successors: 3, feature CF (7, [17.54096371971569, 0.47399511285542406], 166.60) [0x11c9b2da0], successors: 4\n",
      "recursive insert in !!!insert_for_nonleaf!!!\n",
      "insert for non-leaf\n",
      "nearestchildnode:  Leaf-node 0x11c9b2c18, parent Non-leaf node 0x11c9b27f0, parent Non-leaf node 0x11bea6898, parent None, feature CF (18, [-13.809291316456928, 33.77088358347709], 1045.67) [0x11c9b2b00], successors: 3, feature CF (7, [17.54096371971569, 0.47399511285542406], 166.60) [0x11c9b2da0], successors: 4, feature CF (3, [5.844250864412967, 4.329909202216412], 23.90) [0x11c9b2160], entries: 2 \n",
      "\tCF (1, [3.138282111431089, 1.24393530945754], 11.40) [0x11c975b38]\n",
      "\tCF (2, [2.7059687529818772, 3.0859738927588722], 12.51) [0x11c99b7b8]\n",
      "\n",
      "recursive insert in !!!insert_for_nonleaf!!!\n",
      "insert for leaf\n",
      "index_nearest_entry 1\n",
      "nearest entry CF (2, [2.7059687529818772, 3.0859738927588722], 12.51) [0x11c99b7b8]\n",
      "diam: 6.285491095044325\n",
      "diam greater than threshold\n",
      "\n",
      "\n",
      "\n",
      "\n",
      "index:  19\n",
      "point  [-8.571932191916167, -5.350918871173777]\n",
      "insert cluster\n",
      "insert entry\n",
      "recursive insert\n",
      "insert for non-leaf\n",
      "nearestchildnode:  Non-leaf node 0x11c9b27f0, parent Non-leaf node 0x11bea6898, parent None, feature CF (19, [-18.588549128312707, 39.254410458337176], 1098.58) [0x11c9b2da0], successors: 3, feature CF (8, [12.761705907859913, 5.957521987715517], 219.51) [0x11c9b2ac8], successors: 4\n",
      "recursive insert in !!!insert_for_nonleaf!!!\n",
      "insert for non-leaf\n",
      "nearestchildnode:  Leaf-node 0x11c9b2c18, parent Non-leaf node 0x11c9b27f0, parent Non-leaf node 0x11bea6898, parent None, feature CF (19, [-18.588549128312707, 39.254410458337176], 1098.58) [0x11c9b2da0], successors: 3, feature CF (8, [12.761705907859913, 5.957521987715517], 219.51) [0x11c9b2ac8], successors: 4, feature CF (4, [1.0649930525571891, 9.813436077076506], 76.82) [0x11c9b2518], entries: 3 \n",
      "\tCF (1, [3.138282111431089, 1.24393530945754], 11.40) [0x11c975b38]\n",
      "\tCF (2, [2.7059687529818772, 3.0859738927588722], 12.51) [0x11c99b7b8]\n",
      "\tCF (1, [-4.779257811855778, 5.483526874860093], 52.91) [0x11c9b2588]\n",
      "\n",
      "recursive insert in !!!insert_for_nonleaf!!!\n",
      "insert for leaf\n",
      "index_nearest_entry 2\n",
      "nearest entry CF (1, [-4.779257811855778, 5.483526874860093], 52.91) [0x11c9b2588]\n",
      "diam: 11.47909376113454\n",
      "diam greater than threshold\n",
      "\n",
      "\n",
      "\n",
      "\n",
      "index:  20\n",
      "point  [-8.977670999207866, -7.653140532903983]\n",
      "insert cluster\n",
      "insert entry\n",
      "recursive insert\n",
      "insert for non-leaf\n",
      "nearestchildnode:  Non-leaf node 0x11c9b27f0, parent Non-leaf node 0x11bea6898, parent None, feature CF (20, [-27.160481320228875, 33.9034915871634], 1200.69) [0x11c9b2ac8], successors: 3, feature CF (9, [4.189773715943746, 0.6066031165417405], 321.62) [0x11c9b2780], successors: 4\n",
      "recursive insert in !!!insert_for_nonleaf!!!\n",
      "insert for non-leaf\n",
      "nearestchildnode:  Leaf-node 0x11c9b2c18, parent Non-leaf node 0x11c9b27f0, parent Non-leaf node 0x11bea6898, parent None, feature CF (20, [-27.160481320228875, 33.9034915871634], 1200.69) [0x11c9b2ac8], successors: 3, feature CF (9, [4.189773715943746, 0.6066031165417405], 321.62) [0x11c9b2780], successors: 4, feature CF (5, [-7.506939139358978, 4.46251720590273], 178.93) [0x11c9b2400], entries: 4 \n",
      "\tCF (1, [3.138282111431089, 1.24393530945754], 11.40) [0x11c975b38]\n",
      "\tCF (2, [2.7059687529818772, 3.0859738927588722], 12.51) [0x11c99b7b8]\n",
      "\tCF (1, [-4.779257811855778, 5.483526874860093], 52.91) [0x11c9b2588]\n",
      "\tCF (1, [-8.571932191916167, -5.350918871173777], 102.11) [0x11c9b2160]\n",
      "\n",
      "recursive insert in !!!insert_for_nonleaf!!!\n",
      "insert for leaf\n",
      "index_nearest_entry 3\n",
      "nearest entry CF (1, [-8.571932191916167, -5.350918871173777], 102.11) [0x11c9b2160]\n",
      "diam: 2.337701554835908\n",
      "diam ok\n",
      "\n",
      "\n",
      "\n",
      "\n",
      "index:  21\n",
      "point  [-8.077562785764496, -7.34425703493549]\n",
      "insert cluster\n",
      "insert entry\n",
      "recursive insert\n",
      "insert for non-leaf\n",
      "nearestchildnode:  Non-leaf node 0x11c9b27f0, parent Non-leaf node 0x11bea6898, parent None, feature CF (21, [-36.13815231943674, 26.25035105425942], 1339.86) [0x11c9b2780], successors: 3, feature CF (10, [-4.787897283264121, -7.046537416362242], 460.79) [0x11c9b2400], successors: 4\n",
      "recursive insert in !!!insert_for_nonleaf!!!\n",
      "insert for non-leaf\n",
      "nearestchildnode:  Leaf-node 0x11c9b2c18, parent Non-leaf node 0x11c9b27f0, parent Non-leaf node 0x11bea6898, parent None, feature CF (21, [-36.13815231943674, 26.25035105425942], 1339.86) [0x11c9b2780], successors: 3, feature CF (10, [-4.787897283264121, -7.046537416362242], 460.79) [0x11c9b2400], successors: 4, feature CF (6, [-16.484610138566843, -3.190623327001253], 318.09) [0x11c9b2160], entries: 4 \n",
      "\tCF (1, [3.138282111431089, 1.24393530945754], 11.40) [0x11c975b38]\n",
      "\tCF (2, [2.7059687529818772, 3.0859738927588722], 12.51) [0x11c99b7b8]\n",
      "\tCF (1, [-4.779257811855778, 5.483526874860093], 52.91) [0x11c9b2588]\n",
      "\tCF (2, [-17.549603191124035, -13.00405940407776], 241.28) [0x11c9b2860]\n",
      "\n",
      "recursive insert in !!!insert_for_nonleaf!!!\n",
      "insert for leaf\n",
      "index_nearest_entry 3\n",
      "nearest entry CF (2, [-17.549603191124035, -13.00405940407776], 241.28) [0x11c9b2860]\n",
      "diam: 1.8786742236264244\n",
      "diam ok\n",
      "\n",
      "\n",
      "\n",
      "\n",
      "index:  22\n",
      "point  [-4.848312635165775, -3.4895095218488894]\n",
      "insert cluster\n",
      "insert entry\n",
      "recursive insert\n",
      "insert for non-leaf\n",
      "nearestchildnode:  Non-leaf node 0x11c9b27f0, parent Non-leaf node 0x11bea6898, parent None, feature CF (22, [-44.21571510520124, 18.90609401932393], 1459.04) [0x11c9b2400], successors: 3, feature CF (11, [-12.865460069028616, -14.390794451297733], 579.97) [0x11c9b2160], successors: 4\n",
      "recursive insert in !!!insert_for_nonleaf!!!\n",
      "insert for non-leaf\n",
      "nearestchildnode:  Leaf-node 0x11c9b2c18, parent Non-leaf node 0x11c9b27f0, parent Non-leaf node 0x11bea6898, parent None, feature CF (22, [-44.21571510520124, 18.90609401932393], 1459.04) [0x11c9b2400], successors: 3, feature CF (11, [-12.865460069028616, -14.390794451297733], 579.97) [0x11c9b2160], successors: 4, feature CF (7, [-24.56217292433134, -10.534880361936743], 437.28) [0x11c9b2860], entries: 4 \n",
      "\tCF (1, [3.138282111431089, 1.24393530945754], 11.40) [0x11c975b38]\n",
      "\tCF (2, [2.7059687529818772, 3.0859738927588722], 12.51) [0x11c99b7b8]\n",
      "\tCF (1, [-4.779257811855778, 5.483526874860093], 52.91) [0x11c9b2588]\n",
      "\tCF (3, [-25.62716597688853, -20.34831643901325], 360.46) [0x11c9b26d8]\n",
      "\n",
      "recursive insert in !!!insert_for_nonleaf!!!\n",
      "insert for leaf\n",
      "index_nearest_entry 3\n",
      "nearest entry CF (3, [-25.62716597688853, -20.34831643901325], 360.46) [0x11c9b26d8]\n",
      "diam: 3.8208418903084813\n",
      "diam greater than threshold\n",
      "node has to split\n",
      "split leaf\n",
      "farthest1  CF (1, [3.138282111431089, 1.24393530945754], 11.40) [0x11c975b38]\n",
      "farthest2  CF (3, [-25.62716597688853, -20.34831643901325], 360.46) [0x11c9b26d8]\n",
      "new_node1  Leaf-node 0x11c9b2860, parent Non-leaf node 0x11c9b27f0, parent Non-leaf node 0x11bea6898, parent None, feature CF (22, [-44.21571510520124, 18.90609401932393], 1459.04) [0x11c9b2400], successors: 3, feature CF (11, [-12.865460069028616, -14.390794451297733], 579.97) [0x11c9b2160], successors: 4, feature CF (4, [1.0649930525571891, 9.813436077076506], 76.82) [0x11c9b22e8], entries: 3 \n",
      "\tCF (1, [3.138282111431089, 1.24393530945754], 11.40) [0x11c975b38]\n",
      "\tCF (2, [2.7059687529818772, 3.0859738927588722], 12.51) [0x11c99b7b8]\n",
      "\tCF (1, [-4.779257811855778, 5.483526874860093], 52.91) [0x11c9b2588]\n",
      "\n",
      "new_node2 Leaf-node 0x11c9b23c8, parent Non-leaf node 0x11c9b27f0, parent Non-leaf node 0x11bea6898, parent None, feature CF (22, [-44.21571510520124, 18.90609401932393], 1459.04) [0x11c9b2400], successors: 3, feature CF (11, [-12.865460069028616, -14.390794451297733], 579.97) [0x11c9b2160], successors: 4, feature CF (4, [-30.475478612054307, -23.83782596086214], 396.15) [0x11c9b2470], entries: 2 \n",
      "\tCF (3, [-25.62716597688853, -20.34831643901325], 360.46) [0x11c9b26d8]\n",
      "\tCF (1, [-4.848312635165775, -3.4895095218488894], 35.68) [0x11c9b2780]\n",
      "\n",
      "merging not successful\n",
      "\n",
      "\n",
      "\n",
      "\n",
      "index:  23\n",
      "point  [4.606135774383267, -0.6711076384490191]\n",
      "insert cluster\n",
      "insert entry\n",
      "recursive insert\n",
      "insert for non-leaf\n",
      "nearestchildnode:  Non-leaf node 0x11c9b27f0, parent Non-leaf node 0x11bea6898, parent None, feature CF (23, [-49.06402774036702, 15.416584497475041], 1494.73) [0x11c9b2c18], successors: 3, feature CF (12, [-17.71377270419439, -17.880303973146624], 615.65) [0x11c9b2438], successors: 5\n",
      "recursive insert in !!!insert_for_nonleaf!!!\n",
      "insert for non-leaf\n",
      "nearestchildnode:  Leaf-node 0x11c9b27b8, parent Non-leaf node 0x11c9b27f0, parent Non-leaf node 0x11bea6898, parent None, feature CF (23, [-49.06402774036702, 15.416584497475041], 1494.73) [0x11c9b2c18], successors: 3, feature CF (12, [-17.71377270419439, -17.880303973146624], 615.65) [0x11c9b2438], successors: 5, feature CF (1, [-4.302128384911393, -4.55190929548545], 39.23) [0x11c9b2a90], entries: 1 \n",
      "\tCF (1, [-4.302128384911393, -4.55190929548545], 39.23) [0x11c9b2198]\n",
      "\n",
      "recursive insert in !!!insert_for_nonleaf!!!\n",
      "insert for leaf\n",
      "index_nearest_entry 0\n",
      "nearest entry CF (1, [-4.302128384911393, -4.55190929548545], 39.23) [0x11c9b2198]\n",
      "diam: 9.716881795773297\n",
      "diam greater than threshold\n",
      "\n",
      "\n",
      "\n",
      "\n",
      "index:  24\n",
      "point  [6.696241116486074, -1.0789394409868236]\n",
      "insert cluster\n",
      "insert entry\n",
      "recursive insert\n",
      "insert for non-leaf\n",
      "nearestchildnode:  Non-leaf node 0x11c9b27f0, parent Non-leaf node 0x11bea6898, parent None, feature CF (24, [-44.45789196598375, 14.745476859026022], 1516.39) [0x11c9b2438], successors: 3, feature CF (13, [-13.107636929811123, -18.551411611595643], 637.32) [0x11c9b24e0], successors: 5\n",
      "recursive insert in !!!insert_for_nonleaf!!!\n",
      "insert for non-leaf\n",
      "nearestchildnode:  Leaf-node 0x11c9b27b8, parent Non-leaf node 0x11c9b27f0, parent Non-leaf node 0x11bea6898, parent None, feature CF (24, [-44.45789196598375, 14.745476859026022], 1516.39) [0x11c9b2438], successors: 3, feature CF (13, [-13.107636929811123, -18.551411611595643], 637.32) [0x11c9b24e0], successors: 5, feature CF (2, [0.3040073894718738, -5.223016933934469], 60.90) [0x11c9b2240], entries: 2 \n",
      "\tCF (1, [-4.302128384911393, -4.55190929548545], 39.23) [0x11c9b2198]\n",
      "\tCF (1, [4.606135774383267, -0.6711076384490191], 21.67) [0x11c9b2358]\n",
      "\n",
      "recursive insert in !!!insert_for_nonleaf!!!\n",
      "insert for leaf\n",
      "index_nearest_entry 1\n",
      "nearest entry CF (1, [4.606135774383267, -0.6711076384490191], 21.67) [0x11c9b2358]\n",
      "diam: 2.129522744712522\n",
      "diam ok\n",
      "\n",
      "\n",
      "\n",
      "\n",
      "index:  25\n",
      "point  [-6.821492204335332, 7.60856730509589]\n",
      "insert cluster\n",
      "insert entry\n",
      "recursive insert\n",
      "insert for non-leaf\n",
      "nearestchildnode:  Non-leaf node 0x11c9b27f0, parent Non-leaf node 0x11bea6898, parent None, feature CF (25, [-37.76165084949768, 13.666537418039198], 1562.40) [0x11c9b24e0], successors: 3, feature CF (14, [-6.41139581332505, -19.630351052582466], 683.32) [0x11c9b2240], successors: 5\n",
      "recursive insert in !!!insert_for_nonleaf!!!\n",
      "insert for non-leaf\n",
      "nearestchildnode:  Leaf-node 0x11c9b27b8, parent Non-leaf node 0x11c9b27f0, parent Non-leaf node 0x11bea6898, parent None, feature CF (25, [-37.76165084949768, 13.666537418039198], 1562.40) [0x11c9b24e0], successors: 3, feature CF (14, [-6.41139581332505, -19.630351052582466], 683.32) [0x11c9b2240], successors: 5, feature CF (3, [7.000248505957948, -6.301956374921293], 106.90) [0x11c9b2358], entries: 2 \n",
      "\tCF (1, [-4.302128384911393, -4.55190929548545], 39.23) [0x11c9b2198]\n",
      "\tCF (2, [11.30237689086934, -1.7500470794358427], 67.67) [0x11c9b22b0]\n",
      "\n",
      "recursive insert in !!!insert_for_nonleaf!!!\n",
      "insert for leaf\n",
      "index_nearest_entry 1\n",
      "nearest entry CF (2, [11.30237689086934, -1.7500470794358427], 67.67) [0x11c9b22b0]\n",
      "diam: 12.4080679815874\n",
      "diam greater than threshold\n",
      "\n",
      "\n",
      "\n",
      "\n",
      "index:  26\n",
      "point  [-9.64546462616634, -9.870626153477623]\n",
      "insert cluster\n",
      "insert entry\n",
      "recursive insert\n",
      "insert for non-leaf\n",
      "nearestchildnode:  Non-leaf node 0x11c9b27f0, parent Non-leaf node 0x11bea6898, parent None, feature CF (26, [-44.58314305383301, 21.275104723135087], 1666.82) [0x11c9b2240], successors: 3, feature CF (15, [-13.232888017660382, -12.021783747486577], 787.75) [0x11c9b2128], successors: 5\n",
      "recursive insert in !!!insert_for_nonleaf!!!\n",
      "insert for non-leaf\n",
      "nearestchildnode:  Leaf-node 0x11c9b27b8, parent Non-leaf node 0x11c9b27f0, parent Non-leaf node 0x11bea6898, parent None, feature CF (26, [-44.58314305383301, 21.275104723135087], 1666.82) [0x11c9b2240], successors: 3, feature CF (15, [-13.232888017660382, -12.021783747486577], 787.75) [0x11c9b2128], successors: 5, feature CF (4, [0.1787563016226157, 1.306610930174597], 211.32) [0x11c9b2390], entries: 3 \n",
      "\tCF (1, [-4.302128384911393, -4.55190929548545], 39.23) [0x11c9b2198]\n",
      "\tCF (2, [11.30237689086934, -1.7500470794358427], 67.67) [0x11c9b22b0]\n",
      "\tCF (1, [-6.821492204335332, 7.60856730509589], 104.42) [0x11c9b2438]\n",
      "\n",
      "recursive insert in !!!insert_for_nonleaf!!!\n",
      "insert for leaf\n",
      "index_nearest_entry 2\n",
      "nearest entry CF (1, [-6.821492204335332, 7.60856730509589], 104.42) [0x11c9b2438]\n",
      "diam: 17.70584717548136\n",
      "diam greater than threshold\n",
      "\n",
      "\n",
      "\n",
      "\n",
      "index:  27\n",
      "point  [1.4388344157157285, 10.932872951080594]\n",
      "insert cluster\n",
      "insert entry\n",
      "recursive insert\n",
      "insert for non-leaf\n",
      "nearestchildnode:  Non-leaf node 0x11c9b27f0, parent Non-leaf node 0x11bea6898, parent None, feature CF (27, [-54.22860767999936, 11.404478569657464], 1857.28) [0x11c9b2128], successors: 3, feature CF (16, [-22.878352643826723, -21.8924099009642], 978.21) [0x11c9b21d0], successors: 5\n",
      "recursive insert in !!!insert_for_nonleaf!!!\n",
      "insert for non-leaf\n",
      "nearestchildnode:  Leaf-node 0x11c9b27b8, parent Non-leaf node 0x11c9b27f0, parent Non-leaf node 0x11bea6898, parent None, feature CF (27, [-54.22860767999936, 11.404478569657464], 1857.28) [0x11c9b2128], successors: 3, feature CF (16, [-22.878352643826723, -21.8924099009642], 978.21) [0x11c9b21d0], successors: 5, feature CF (5, [-9.466708324543724, -8.564015223303027], 401.79) [0x11c9b2080], entries: 4 \n",
      "\tCF (1, [-4.302128384911393, -4.55190929548545], 39.23) [0x11c9b2198]\n",
      "\tCF (2, [11.30237689086934, -1.7500470794358427], 67.67) [0x11c9b22b0]\n",
      "\tCF (1, [-6.821492204335332, 7.60856730509589], 104.42) [0x11c9b2438]\n",
      "\tCF (1, [-9.64546462616634, -9.870626153477623], 190.46) [0x11c9b2358]\n",
      "\n",
      "recursive insert in !!!insert_for_nonleaf!!!\n",
      "insert for leaf\n",
      "index_nearest_entry 3\n",
      "nearest entry CF (1, [-9.64546462616634, -9.870626153477623], 190.46) [0x11c9b2358]\n",
      "diam: 23.5721713094747\n",
      "diam greater than threshold\n",
      "node has to split\n",
      "split leaf\n",
      "farthest1  CF (1, [-9.64546462616634, -9.870626153477623], 190.46) [0x11c9b2358]\n",
      "farthest2  CF (1, [1.4388344157157285, 10.932872951080594], 121.60) [0x11c9b2390]\n",
      "new_node1  Leaf-node 0x11c9b2080, parent Non-leaf node 0x11c9b27f0, parent Non-leaf node 0x11bea6898, parent None, feature CF (27, [-54.22860767999936, 11.404478569657464], 1857.28) [0x11c9b2128], successors: 3, feature CF (16, [-22.878352643826723, -21.8924099009642], 978.21) [0x11c9b21d0], successors: 5, feature CF (2, [-13.947593011077734, -14.422535448963073], 229.69) [0x11c9a0b38], entries: 2 \n",
      "\tCF (1, [-9.64546462616634, -9.870626153477623], 190.46) [0x11c9b2358]\n",
      "\tCF (1, [-4.302128384911393, -4.55190929548545], 39.23) [0x11c9b2198]\n",
      "\n",
      "new_node2 Leaf-node 0x11c9a08d0, parent Non-leaf node 0x11c9b27f0, parent Non-leaf node 0x11bea6898, parent None, feature CF (27, [-54.22860767999936, 11.404478569657464], 1857.28) [0x11c9b2128], successors: 3, feature CF (16, [-22.878352643826723, -21.8924099009642], 978.21) [0x11c9b21d0], successors: 5, feature CF (4, [5.919719102249736, 16.79139317674064], 293.69) [0x11c9a0da0], entries: 3 \n",
      "\tCF (1, [1.4388344157157285, 10.932872951080594], 121.60) [0x11c9b2390]\n",
      "\tCF (2, [11.30237689086934, -1.7500470794358427], 67.67) [0x11c9b22b0]\n",
      "\tCF (1, [-6.821492204335332, 7.60856730509589], 104.42) [0x11c9b2438]\n",
      "\n",
      "over brach_factor \n",
      "split non leaf\n",
      "merging not successful\n",
      "\n",
      "\n",
      "\n",
      "\n",
      "index:  28\n",
      "point  [-3.667741855083906, 7.8499617442726795]\n",
      "insert cluster\n",
      "insert entry\n",
      "recursive insert\n",
      "insert for non-leaf\n",
      "nearestchildnode:  Non-leaf node 0x11c9b21d0, parent Non-leaf node 0x11bea6898, parent None, feature CF (28, [-52.789773264283625, 22.337351520738057], 1978.88) [0x11c9b27b8], successors: 4, feature CF (16, [-26.601556051850984, -8.033531324124898], 1064.60) [0x11c9a09e8], successors: 5\n",
      "recursive insert in !!!insert_for_nonleaf!!!\n",
      "insert for non-leaf\n",
      "nearestchildnode:  Leaf-node 0x11c9b2860, parent Non-leaf node 0x11c9b21d0, parent Non-leaf node 0x11bea6898, parent None, feature CF (28, [-52.789773264283625, 22.337351520738057], 1978.88) [0x11c9b27b8], successors: 4, feature CF (16, [-26.601556051850984, -8.033531324124898], 1064.60) [0x11c9a09e8], successors: 5, feature CF (4, [1.0649930525571891, 9.813436077076506], 76.82) [0x11c9b22e8], entries: 3 \n",
      "\tCF (1, [3.138282111431089, 1.24393530945754], 11.40) [0x11c975b38]\n",
      "\tCF (2, [2.7059687529818772, 3.0859738927588722], 12.51) [0x11c99b7b8]\n",
      "\tCF (1, [-4.779257811855778, 5.483526874860093], 52.91) [0x11c9b2588]\n",
      "\n",
      "recursive insert in !!!insert_for_nonleaf!!!\n",
      "insert for leaf\n",
      "index_nearest_entry 2\n",
      "nearest entry CF (1, [-4.779257811855778, 5.483526874860093], 52.91) [0x11c9b2588]\n",
      "diam: 2.614475418383244\n",
      "diam ok\n",
      "\n",
      "\n",
      "\n",
      "\n",
      "index:  29\n",
      "point  [-6.05146861264236, -4.441246775470049]\n",
      "insert cluster\n",
      "insert entry\n",
      "recursive insert\n",
      "insert for non-leaf\n",
      "nearestchildnode:  Non-leaf node 0x11c9b21d0, parent Non-leaf node 0x11bea6898, parent None, feature CF (29, [-56.45751511936753, 30.187313265010737], 2053.96) [0x11c9a09e8], successors: 4, feature CF (17, [-30.26929790693489, -0.1835695798522181], 1139.68) [0x11c9b22e8], successors: 5\n",
      "recursive insert in !!!insert_for_nonleaf!!!\n",
      "insert for non-leaf\n",
      "nearestchildnode:  Leaf-node 0x11c9b2860, parent Non-leaf node 0x11c9b21d0, parent Non-leaf node 0x11bea6898, parent None, feature CF (29, [-56.45751511936753, 30.187313265010737], 2053.96) [0x11c9a09e8], successors: 4, feature CF (17, [-30.26929790693489, -0.1835695798522181], 1139.68) [0x11c9b22e8], successors: 5, feature CF (5, [-2.6027488025267167, 17.663397821349186], 151.89) [0x11c9b2588], entries: 3 \n",
      "\tCF (1, [3.138282111431089, 1.24393530945754], 11.40) [0x11c975b38]\n",
      "\tCF (2, [2.7059687529818772, 3.0859738927588722], 12.51) [0x11c99b7b8]\n",
      "\tCF (2, [-8.446999666939684, 13.333488619132773], 127.98) [0x11c9b2ba8]\n",
      "\n",
      "recursive insert in !!!insert_for_nonleaf!!!\n",
      "insert for leaf\n",
      "index_nearest_entry 2\n",
      "nearest entry CF (2, [-8.446999666939684, 13.333488619132773], 127.98) [0x11c9b2ba8]\n",
      "diam: 9.375697203866176\n",
      "diam greater than threshold\n",
      "extracting features\n",
      "\n",
      "\n",
      "nearest features are:  0 6\n",
      "\n",
      "\n",
      "nearest features are:  4 9\n",
      "\n",
      "\n",
      "nearest features are:  6 9\n",
      "\n",
      "\n",
      "nearest features are:  4 8\n",
      "\n",
      "\n",
      "nearest features are:  1 4\n",
      "\n",
      "\n",
      "nearest features are:  5 6\n",
      "\n",
      "\n",
      "nearest features are:  3 4\n",
      "\n",
      "\n",
      "nearest features are:  1 2\n",
      "\n",
      "\n",
      "nearest features are:  2 3\n"
     ]
    },
    {
     "data": {
      "text/plain": [
       "<pyclustering.cluster.birch.birch at 0x11c99be80>"
      ]
     },
     "execution_count": 24,
     "metadata": {},
     "output_type": "execute_result"
    }
   ],
   "source": [
    "birch_instance = birch(X.tolist(), 3, initial_diameter=3, max_node_entries=4)\n",
    "\n",
    "birch_instance.process()"
   ]
  },
  {
   "cell_type": "code",
   "execution_count": 33,
   "metadata": {
    "ExecuteTime": {
     "end_time": "2019-11-25T18:01:30.531892Z",
     "start_time": "2019-11-25T18:01:30.528381Z"
    },
    "hidden": true
   },
   "outputs": [],
   "source": [
    "#plot_tree(birch_instance.return_tree())"
   ]
  },
  {
   "cell_type": "code",
   "execution_count": 29,
   "metadata": {
    "ExecuteTime": {
     "end_time": "2019-11-25T18:01:10.569154Z",
     "start_time": "2019-11-25T18:01:10.566653Z"
    },
    "hidden": true
   },
   "outputs": [],
   "source": [
    "#plot_birch_leaves(birch_instance.return_tree(), X)"
   ]
  },
  {
   "cell_type": "code",
   "execution_count": 31,
   "metadata": {
    "ExecuteTime": {
     "end_time": "2019-11-25T18:01:22.501245Z",
     "start_time": "2019-11-25T18:01:22.497890Z"
    },
    "hidden": true
   },
   "outputs": [],
   "source": [
    "#birch_instance.return_tree().show_feature_destibution()"
   ]
  },
  {
   "cell_type": "code",
   "execution_count": 32,
   "metadata": {
    "ExecuteTime": {
     "end_time": "2019-11-25T18:01:26.785651Z",
     "start_time": "2019-11-25T18:01:26.781386Z"
    },
    "hidden": true
   },
   "outputs": [],
   "source": [
    "clusters = birch_instance.get_clusters()\n",
    "# Visualize allocated clusters\n",
    "visualizer = cluster_visualizer()\n",
    "visualizer.append_clusters(clusters, X.tolist())\n",
    "#visualizer.show()"
   ]
  },
  {
   "cell_type": "markdown",
   "metadata": {},
   "source": [
    "# NUOVO"
   ]
  },
  {
   "cell_type": "code",
   "execution_count": null,
   "metadata": {},
   "outputs": [],
   "source": []
  },
  {
   "cell_type": "code",
   "execution_count": null,
   "metadata": {},
   "outputs": [],
   "source": []
  },
  {
   "cell_type": "code",
   "execution_count": null,
   "metadata": {},
   "outputs": [],
   "source": []
  }
 ],
 "metadata": {
  "kernelspec": {
   "display_name": "Python 3",
   "language": "python",
   "name": "python3"
  },
  "language_info": {
   "codemirror_mode": {
    "name": "ipython",
    "version": 3
   },
   "file_extension": ".py",
   "mimetype": "text/x-python",
   "name": "python",
   "nbconvert_exporter": "python",
   "pygments_lexer": "ipython3",
   "version": "3.6.5"
  },
  "toc": {
   "base_numbering": 1,
   "nav_menu": {},
   "number_sections": true,
   "sideBar": true,
   "skip_h1_title": false,
   "title_cell": "Table of Contents",
   "title_sidebar": "Contents",
   "toc_cell": false,
   "toc_position": {
    "height": "calc(100% - 180px)",
    "left": "10px",
    "top": "150px",
    "width": "364.8px"
   },
   "toc_section_display": true,
   "toc_window_display": false
  }
 },
 "nbformat": 4,
 "nbformat_minor": 2
}
